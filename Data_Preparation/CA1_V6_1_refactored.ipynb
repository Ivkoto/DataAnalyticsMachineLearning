{
 "cells": [
  {
   "cell_type": "markdown",
   "metadata": {},
   "source": [
    "<div style=\"text-align: center;\">\n",
    "  <h2>Stage 1: Data Preparation and Initial Exploration</h2>\n",
    "</div>"
   ]
  },
  {
   "cell_type": "markdown",
   "metadata": {},
   "source": [
    "### **Importing libraries, installing packages and defining functions**"
   ]
  },
  {
   "cell_type": "code",
   "execution_count": 1,
   "metadata": {},
   "outputs": [],
   "source": [
    "import pandas as pd\n",
    "import seaborn as sns\n",
    "import matplotlib.pyplot as plt\n",
    "import numpy as np\n",
    "import warnings\n",
    "import matplotlib.pyplot as plt\n",
    "\n",
    "from matplotlib.ticker import FuncFormatter\n",
    "from scipy.stats import binom\n",
    "from sklearn.model_selection import train_test_split\n",
    "from sklearn.linear_model import LinearRegression\n",
    "from sklearn.metrics import r2_score\n",
    "from sklearn.preprocessing import LabelEncoder\n",
    "from sklearn.ensemble import RandomForestClassifier\n",
    "from sklearn.metrics import accuracy_score, classification_report\n",
    "from sklearn.tree import DecisionTreeClassifier\n",
    "from sklearn.tree import plot_tree\n",
    "from sklearn.metrics import confusion_matrix\n",
    "from sklearn.preprocessing import StandardScaler\n",
    "from sklearn.neighbors import KNeighborsClassifier\n",
    "\n",
    "\n",
    "\n",
    "warnings.filterwarnings('ignore')"
   ]
  },
  {
   "cell_type": "code",
   "execution_count": 2,
   "metadata": {},
   "outputs": [],
   "source": [
    "#package installation\n",
    "\n",
    "#pip install pandas\n",
    "#pip install seaborn\n",
    "#pip install numpy\n",
    "#pip install scipy\n",
    "#pip install scikit-learn"
   ]
  },
  {
   "cell_type": "markdown",
   "metadata": {},
   "source": [
    "The function below allows us to format the values adding an 'M' that stands for millions or 'T' for thousands, for better visibility."
   ]
  },
  {
   "cell_type": "code",
   "execution_count": 252,
   "metadata": {},
   "outputs": [],
   "source": [
    "def millions_formatter(x, pos):\n",
    "    return f'{x / 1e6} M'\n",
    "\n",
    "def thousands_formatter(x, pos):\n",
    "    return f'{x / 1e3} K'\n",
    "\n",
    "def standard_decimal_notation_formatter(x):\n",
    "    return '{:.2f}'.format(x)"
   ]
  },
  {
   "cell_type": "markdown",
   "metadata": {},
   "source": [
    "### **1. Load and import the datasets**"
   ]
  },
  {
   "cell_type": "code",
   "execution_count": 4,
   "metadata": {},
   "outputs": [],
   "source": [
    "population_df = pd.read_csv('PEA11.20231013T111046.csv')\n",
    "migration_df = pd.read_csv('PEA18.20231016T141007.csv')"
   ]
  },
  {
   "cell_type": "markdown",
   "metadata": {},
   "source": [
    "### **2.\tExamine the structure and shape of the datasets**"
   ]
  },
  {
   "cell_type": "markdown",
   "metadata": {},
   "source": [
    "#### Get the size of the dataset"
   ]
  },
  {
   "cell_type": "code",
   "execution_count": 5,
   "metadata": {},
   "outputs": [],
   "source": [
    "population_dataset_size = population_df.size\n",
    "migration_dataset_size = migration_df.size"
   ]
  },
  {
   "cell_type": "code",
   "execution_count": 6,
   "metadata": {},
   "outputs": [
    {
     "name": "stdout",
     "output_type": "stream",
     "text": [
      "There are 118170 values in total across the whole population dataset\n",
      "There are 31968 values in total across the whole migration dataset\n"
     ]
    }
   ],
   "source": [
    "print(\"There are\", population_dataset_size, \"values in total across the whole population dataset\")\n",
    "print(\"There are\", migration_dataset_size, \"values in total across the whole migration dataset\")"
   ]
  },
  {
   "cell_type": "markdown",
   "metadata": {},
   "source": [
    "#### Get the shape of the datasets"
   ]
  },
  {
   "cell_type": "code",
   "execution_count": 8,
   "metadata": {},
   "outputs": [
    {
     "name": "stdout",
     "output_type": "stream",
     "text": [
      "For the population dataset the number of rows is 11817, the number of columns is 10\n",
      "For the migration dataset the number of rows is 2664, the number of columns is 12\n"
     ]
    }
   ],
   "source": [
    "pop_rows, pop_columns = population_df.shape\n",
    "mig_rows, mig_columns = migration_df.shape\n",
    "\n",
    "print(f\"For the population dataset the number of rows is {pop_rows}, the number of columns is {pop_columns}\")\n",
    "print(f\"For the migration dataset the number of rows is {mig_rows}, the number of columns is {mig_columns}\")"
   ]
  },
  {
   "cell_type": "markdown",
   "metadata": {},
   "source": [
    "#### Sample data"
   ]
  },
  {
   "cell_type": "markdown",
   "metadata": {},
   "source": [
    "Displaying the first few rows of the data, to get a sense of what the data looks like"
   ]
  },
  {
   "cell_type": "code",
   "execution_count": 257,
   "metadata": {},
   "outputs": [
    {
     "name": "stdout",
     "output_type": "stream",
     "text": [
      "Population dataset\n"
     ]
    },
    {
     "data": {
      "text/html": [
       "<div>\n",
       "<style scoped>\n",
       "    .dataframe tbody tr th:only-of-type {\n",
       "        vertical-align: middle;\n",
       "    }\n",
       "\n",
       "    .dataframe tbody tr th {\n",
       "        vertical-align: top;\n",
       "    }\n",
       "\n",
       "    .dataframe thead th {\n",
       "        text-align: right;\n",
       "    }\n",
       "</style>\n",
       "<table border=\"1\" class=\"dataframe\">\n",
       "  <thead>\n",
       "    <tr style=\"text-align: right;\">\n",
       "      <th></th>\n",
       "      <th>STATISTIC</th>\n",
       "      <th>STATISTIC Label</th>\n",
       "      <th>TLIST(A1)</th>\n",
       "      <th>Year</th>\n",
       "      <th>C02076V03371</th>\n",
       "      <th>Single Year of Age</th>\n",
       "      <th>C02199V02655</th>\n",
       "      <th>Sex</th>\n",
       "      <th>UNIT</th>\n",
       "      <th>VALUE</th>\n",
       "    </tr>\n",
       "  </thead>\n",
       "  <tbody>\n",
       "    <tr>\n",
       "      <th>0</th>\n",
       "      <td>PEA11</td>\n",
       "      <td>Population estimates from 1926</td>\n",
       "      <td>1926</td>\n",
       "      <td>1926</td>\n",
       "      <td>-</td>\n",
       "      <td>All ages</td>\n",
       "      <td>-</td>\n",
       "      <td>Both sexes</td>\n",
       "      <td>Number</td>\n",
       "      <td>2971992</td>\n",
       "    </tr>\n",
       "    <tr>\n",
       "      <th>1</th>\n",
       "      <td>PEA11</td>\n",
       "      <td>Population estimates from 1926</td>\n",
       "      <td>1926</td>\n",
       "      <td>1926</td>\n",
       "      <td>-</td>\n",
       "      <td>All ages</td>\n",
       "      <td>1</td>\n",
       "      <td>Male</td>\n",
       "      <td>Number</td>\n",
       "      <td>1506889</td>\n",
       "    </tr>\n",
       "    <tr>\n",
       "      <th>2</th>\n",
       "      <td>PEA11</td>\n",
       "      <td>Population estimates from 1926</td>\n",
       "      <td>1926</td>\n",
       "      <td>1926</td>\n",
       "      <td>-</td>\n",
       "      <td>All ages</td>\n",
       "      <td>2</td>\n",
       "      <td>Female</td>\n",
       "      <td>Number</td>\n",
       "      <td>1465103</td>\n",
       "    </tr>\n",
       "    <tr>\n",
       "      <th>3</th>\n",
       "      <td>PEA11</td>\n",
       "      <td>Population estimates from 1926</td>\n",
       "      <td>1926</td>\n",
       "      <td>1926</td>\n",
       "      <td>200</td>\n",
       "      <td>Under 1 year</td>\n",
       "      <td>-</td>\n",
       "      <td>Both sexes</td>\n",
       "      <td>Number</td>\n",
       "      <td>55391</td>\n",
       "    </tr>\n",
       "    <tr>\n",
       "      <th>4</th>\n",
       "      <td>PEA11</td>\n",
       "      <td>Population estimates from 1926</td>\n",
       "      <td>1926</td>\n",
       "      <td>1926</td>\n",
       "      <td>200</td>\n",
       "      <td>Under 1 year</td>\n",
       "      <td>1</td>\n",
       "      <td>Male</td>\n",
       "      <td>Number</td>\n",
       "      <td>28084</td>\n",
       "    </tr>\n",
       "    <tr>\n",
       "      <th>5</th>\n",
       "      <td>PEA11</td>\n",
       "      <td>Population estimates from 1926</td>\n",
       "      <td>1926</td>\n",
       "      <td>1926</td>\n",
       "      <td>200</td>\n",
       "      <td>Under 1 year</td>\n",
       "      <td>2</td>\n",
       "      <td>Female</td>\n",
       "      <td>Number</td>\n",
       "      <td>27307</td>\n",
       "    </tr>\n",
       "    <tr>\n",
       "      <th>6</th>\n",
       "      <td>PEA11</td>\n",
       "      <td>Population estimates from 1926</td>\n",
       "      <td>1926</td>\n",
       "      <td>1926</td>\n",
       "      <td>001</td>\n",
       "      <td>1 year</td>\n",
       "      <td>-</td>\n",
       "      <td>Both sexes</td>\n",
       "      <td>Number</td>\n",
       "      <td>55876</td>\n",
       "    </tr>\n",
       "  </tbody>\n",
       "</table>\n",
       "</div>"
      ],
      "text/plain": [
       "  STATISTIC                 STATISTIC Label  TLIST(A1)  Year C02076V03371  \\\n",
       "0     PEA11  Population estimates from 1926       1926  1926            -   \n",
       "1     PEA11  Population estimates from 1926       1926  1926            -   \n",
       "2     PEA11  Population estimates from 1926       1926  1926            -   \n",
       "3     PEA11  Population estimates from 1926       1926  1926          200   \n",
       "4     PEA11  Population estimates from 1926       1926  1926          200   \n",
       "5     PEA11  Population estimates from 1926       1926  1926          200   \n",
       "6     PEA11  Population estimates from 1926       1926  1926          001   \n",
       "\n",
       "  Single Year of Age C02199V02655         Sex    UNIT    VALUE  \n",
       "0           All ages            -  Both sexes  Number  2971992  \n",
       "1           All ages            1        Male  Number  1506889  \n",
       "2           All ages            2      Female  Number  1465103  \n",
       "3       Under 1 year            -  Both sexes  Number    55391  \n",
       "4       Under 1 year            1        Male  Number    28084  \n",
       "5       Under 1 year            2      Female  Number    27307  \n",
       "6             1 year            -  Both sexes  Number    55876  "
      ]
     },
     "execution_count": 257,
     "metadata": {},
     "output_type": "execute_result"
    }
   ],
   "source": [
    "print(\"Population dataset\")\n",
    "population_df.head(7)"
   ]
  },
  {
   "cell_type": "code",
   "execution_count": 9,
   "metadata": {},
   "outputs": [
    {
     "name": "stdout",
     "output_type": "stream",
     "text": [
      "Migration dataset\n"
     ]
    },
    {
     "data": {
      "text/html": [
       "<div>\n",
       "<style scoped>\n",
       "    .dataframe tbody tr th:only-of-type {\n",
       "        vertical-align: middle;\n",
       "    }\n",
       "\n",
       "    .dataframe tbody tr th {\n",
       "        vertical-align: top;\n",
       "    }\n",
       "\n",
       "    .dataframe thead th {\n",
       "        text-align: right;\n",
       "    }\n",
       "</style>\n",
       "<table border=\"1\" class=\"dataframe\">\n",
       "  <thead>\n",
       "    <tr style=\"text-align: right;\">\n",
       "      <th></th>\n",
       "      <th>STATISTIC</th>\n",
       "      <th>STATISTIC Label</th>\n",
       "      <th>TLIST(A1)</th>\n",
       "      <th>Year</th>\n",
       "      <th>C02719V03286</th>\n",
       "      <th>Country</th>\n",
       "      <th>C02199V02655</th>\n",
       "      <th>Sex</th>\n",
       "      <th>C02542V03077</th>\n",
       "      <th>Origin or Destination</th>\n",
       "      <th>UNIT</th>\n",
       "      <th>VALUE</th>\n",
       "    </tr>\n",
       "  </thead>\n",
       "  <tbody>\n",
       "    <tr>\n",
       "      <th>0</th>\n",
       "      <td>PEA18</td>\n",
       "      <td>Estimated Migration (Persons in April)</td>\n",
       "      <td>1987</td>\n",
       "      <td>1987</td>\n",
       "      <td>GB1</td>\n",
       "      <td>United Kingdom (1)</td>\n",
       "      <td>-</td>\n",
       "      <td>Both sexes</td>\n",
       "      <td>1</td>\n",
       "      <td>Net migration</td>\n",
       "      <td>Thousand</td>\n",
       "      <td>-13.7</td>\n",
       "    </tr>\n",
       "    <tr>\n",
       "      <th>1</th>\n",
       "      <td>PEA18</td>\n",
       "      <td>Estimated Migration (Persons in April)</td>\n",
       "      <td>1987</td>\n",
       "      <td>1987</td>\n",
       "      <td>GB1</td>\n",
       "      <td>United Kingdom (1)</td>\n",
       "      <td>-</td>\n",
       "      <td>Both sexes</td>\n",
       "      <td>4</td>\n",
       "      <td>Emigrants: All destinations</td>\n",
       "      <td>Thousand</td>\n",
       "      <td>21.8</td>\n",
       "    </tr>\n",
       "    <tr>\n",
       "      <th>2</th>\n",
       "      <td>PEA18</td>\n",
       "      <td>Estimated Migration (Persons in April)</td>\n",
       "      <td>1987</td>\n",
       "      <td>1987</td>\n",
       "      <td>GB1</td>\n",
       "      <td>United Kingdom (1)</td>\n",
       "      <td>-</td>\n",
       "      <td>Both sexes</td>\n",
       "      <td>5</td>\n",
       "      <td>Immigrants: All origins</td>\n",
       "      <td>Thousand</td>\n",
       "      <td>8.1</td>\n",
       "    </tr>\n",
       "    <tr>\n",
       "      <th>3</th>\n",
       "      <td>PEA18</td>\n",
       "      <td>Estimated Migration (Persons in April)</td>\n",
       "      <td>1987</td>\n",
       "      <td>1987</td>\n",
       "      <td>GB1</td>\n",
       "      <td>United Kingdom (1)</td>\n",
       "      <td>1</td>\n",
       "      <td>Male</td>\n",
       "      <td>1</td>\n",
       "      <td>Net migration</td>\n",
       "      <td>Thousand</td>\n",
       "      <td>-9.0</td>\n",
       "    </tr>\n",
       "    <tr>\n",
       "      <th>4</th>\n",
       "      <td>PEA18</td>\n",
       "      <td>Estimated Migration (Persons in April)</td>\n",
       "      <td>1987</td>\n",
       "      <td>1987</td>\n",
       "      <td>GB1</td>\n",
       "      <td>United Kingdom (1)</td>\n",
       "      <td>1</td>\n",
       "      <td>Male</td>\n",
       "      <td>4</td>\n",
       "      <td>Emigrants: All destinations</td>\n",
       "      <td>Thousand</td>\n",
       "      <td>13.1</td>\n",
       "    </tr>\n",
       "    <tr>\n",
       "      <th>5</th>\n",
       "      <td>PEA18</td>\n",
       "      <td>Estimated Migration (Persons in April)</td>\n",
       "      <td>1987</td>\n",
       "      <td>1987</td>\n",
       "      <td>GB1</td>\n",
       "      <td>United Kingdom (1)</td>\n",
       "      <td>1</td>\n",
       "      <td>Male</td>\n",
       "      <td>5</td>\n",
       "      <td>Immigrants: All origins</td>\n",
       "      <td>Thousand</td>\n",
       "      <td>4.1</td>\n",
       "    </tr>\n",
       "    <tr>\n",
       "      <th>6</th>\n",
       "      <td>PEA18</td>\n",
       "      <td>Estimated Migration (Persons in April)</td>\n",
       "      <td>1987</td>\n",
       "      <td>1987</td>\n",
       "      <td>GB1</td>\n",
       "      <td>United Kingdom (1)</td>\n",
       "      <td>2</td>\n",
       "      <td>Female</td>\n",
       "      <td>1</td>\n",
       "      <td>Net migration</td>\n",
       "      <td>Thousand</td>\n",
       "      <td>-4.7</td>\n",
       "    </tr>\n",
       "  </tbody>\n",
       "</table>\n",
       "</div>"
      ],
      "text/plain": [
       "  STATISTIC                         STATISTIC Label  TLIST(A1)  Year  \\\n",
       "0     PEA18  Estimated Migration (Persons in April)       1987  1987   \n",
       "1     PEA18  Estimated Migration (Persons in April)       1987  1987   \n",
       "2     PEA18  Estimated Migration (Persons in April)       1987  1987   \n",
       "3     PEA18  Estimated Migration (Persons in April)       1987  1987   \n",
       "4     PEA18  Estimated Migration (Persons in April)       1987  1987   \n",
       "5     PEA18  Estimated Migration (Persons in April)       1987  1987   \n",
       "6     PEA18  Estimated Migration (Persons in April)       1987  1987   \n",
       "\n",
       "  C02719V03286             Country C02199V02655         Sex  C02542V03077  \\\n",
       "0          GB1  United Kingdom (1)            -  Both sexes             1   \n",
       "1          GB1  United Kingdom (1)            -  Both sexes             4   \n",
       "2          GB1  United Kingdom (1)            -  Both sexes             5   \n",
       "3          GB1  United Kingdom (1)            1        Male             1   \n",
       "4          GB1  United Kingdom (1)            1        Male             4   \n",
       "5          GB1  United Kingdom (1)            1        Male             5   \n",
       "6          GB1  United Kingdom (1)            2      Female             1   \n",
       "\n",
       "         Origin or Destination      UNIT  VALUE  \n",
       "0                Net migration  Thousand  -13.7  \n",
       "1  Emigrants: All destinations  Thousand   21.8  \n",
       "2      Immigrants: All origins  Thousand    8.1  \n",
       "3                Net migration  Thousand   -9.0  \n",
       "4  Emigrants: All destinations  Thousand   13.1  \n",
       "5      Immigrants: All origins  Thousand    4.1  \n",
       "6                Net migration  Thousand   -4.7  "
      ]
     },
     "execution_count": 9,
     "metadata": {},
     "output_type": "execute_result"
    }
   ],
   "source": [
    "print(\"Migration dataset\")\n",
    "migration_df.head(7)"
   ]
  },
  {
   "cell_type": "markdown",
   "metadata": {},
   "source": [
    "#### Data types and info"
   ]
  },
  {
   "cell_type": "code",
   "execution_count": 259,
   "metadata": {},
   "outputs": [
    {
     "name": "stdout",
     "output_type": "stream",
     "text": [
      "Population dataset info:\n",
      "\n",
      "<class 'pandas.core.frame.DataFrame'>\n",
      "RangeIndex: 11817 entries, 0 to 11816\n",
      "Data columns (total 10 columns):\n",
      " #   Column              Non-Null Count  Dtype \n",
      "---  ------              --------------  ----- \n",
      " 0   STATISTIC           11817 non-null  object\n",
      " 1   STATISTIC Label     11817 non-null  object\n",
      " 2   TLIST(A1)           11817 non-null  int64 \n",
      " 3   Year                11817 non-null  int64 \n",
      " 4   C02076V03371        11817 non-null  object\n",
      " 5   Single Year of Age  11817 non-null  object\n",
      " 6   C02199V02655        11817 non-null  object\n",
      " 7   Sex                 11817 non-null  object\n",
      " 8   UNIT                11817 non-null  object\n",
      " 9   VALUE               11817 non-null  int64 \n",
      "dtypes: int64(3), object(7)\n",
      "memory usage: 923.3+ KB\n"
     ]
    }
   ],
   "source": [
    "print(f\"Population dataset info:\")\n",
    "print()\n",
    "population_df.info()"
   ]
  },
  {
   "cell_type": "code",
   "execution_count": 10,
   "metadata": {},
   "outputs": [
    {
     "name": "stdout",
     "output_type": "stream",
     "text": [
      "Migration dataset info:\n",
      "\n",
      "<class 'pandas.core.frame.DataFrame'>\n",
      "RangeIndex: 2664 entries, 0 to 2663\n",
      "Data columns (total 12 columns):\n",
      " #   Column                 Non-Null Count  Dtype  \n",
      "---  ------                 --------------  -----  \n",
      " 0   STATISTIC              2664 non-null   object \n",
      " 1   STATISTIC Label        2664 non-null   object \n",
      " 2   TLIST(A1)              2664 non-null   int64  \n",
      " 3   Year                   2664 non-null   int64  \n",
      " 4   C02719V03286           2664 non-null   object \n",
      " 5   Country                2664 non-null   object \n",
      " 6   C02199V02655           2664 non-null   object \n",
      " 7   Sex                    2664 non-null   object \n",
      " 8   C02542V03077           2664 non-null   int64  \n",
      " 9   Origin or Destination  2664 non-null   object \n",
      " 10  UNIT                   2664 non-null   object \n",
      " 11  VALUE                  2104 non-null   float64\n",
      "dtypes: float64(1), int64(3), object(8)\n",
      "memory usage: 249.9+ KB\n"
     ]
    }
   ],
   "source": [
    "print(\"Migration dataset info:\")\n",
    "print()\n",
    "migration_df.info()"
   ]
  },
  {
   "cell_type": "markdown",
   "metadata": {},
   "source": [
    "#### Column names"
   ]
  },
  {
   "cell_type": "code",
   "execution_count": 261,
   "metadata": {},
   "outputs": [],
   "source": [
    "population_column_names = population_df.columns\n",
    "migration_column_names = migration_df.columns"
   ]
  },
  {
   "cell_type": "code",
   "execution_count": 262,
   "metadata": {},
   "outputs": [
    {
     "name": "stdout",
     "output_type": "stream",
     "text": [
      "Population dataset column names: ['STATISTIC', 'STATISTIC Label', 'TLIST(A1)', 'Year', 'C02076V03371', 'Single Year of Age', 'C02199V02655', 'Sex', 'UNIT', 'VALUE']\n",
      "\n",
      "Migration dataset column names: ['STATISTIC', 'STATISTIC Label', 'TLIST(A1)', 'Year', 'C02719V03286', 'Country', 'C02199V02655', 'Sex', 'C02542V03077', 'Origin or Destination', 'UNIT', 'VALUE']\n"
     ]
    }
   ],
   "source": [
    "print(\"Population dataset column names:\", list(population_column_names))\n",
    "print()\n",
    "print(\"Migration dataset column names:\", list(migration_column_names))"
   ]
  },
  {
   "cell_type": "markdown",
   "metadata": {},
   "source": [
    "#### Descriptive statistics"
   ]
  },
  {
   "cell_type": "markdown",
   "metadata": {},
   "source": [
    "Obtaining descriptive statistics for numerical columns, including count, mean, standard deviation, minimum, and maximum"
   ]
  },
  {
   "cell_type": "code",
   "execution_count": 263,
   "metadata": {},
   "outputs": [],
   "source": [
    "population_summary = population_df.describe()\n",
    "migration_summary = migration_df.describe()"
   ]
  },
  {
   "cell_type": "code",
   "execution_count": 264,
   "metadata": {},
   "outputs": [
    {
     "data": {
      "text/html": [
       "<div>\n",
       "<style scoped>\n",
       "    .dataframe tbody tr th:only-of-type {\n",
       "        vertical-align: middle;\n",
       "    }\n",
       "\n",
       "    .dataframe tbody tr th {\n",
       "        vertical-align: top;\n",
       "    }\n",
       "\n",
       "    .dataframe thead th {\n",
       "        text-align: right;\n",
       "    }\n",
       "</style>\n",
       "<table border=\"1\" class=\"dataframe\">\n",
       "  <thead>\n",
       "    <tr style=\"text-align: right;\">\n",
       "      <th></th>\n",
       "      <th>TLIST(A1)</th>\n",
       "      <th>Year</th>\n",
       "      <th>VALUE</th>\n",
       "    </tr>\n",
       "  </thead>\n",
       "  <tbody>\n",
       "    <tr>\n",
       "      <th>count</th>\n",
       "      <td>11817.000000</td>\n",
       "      <td>11817.000000</td>\n",
       "      <td>1.181700e+04</td>\n",
       "    </tr>\n",
       "    <tr>\n",
       "      <th>mean</th>\n",
       "      <td>1996.410256</td>\n",
       "      <td>1996.410256</td>\n",
       "      <td>5.352461e+04</td>\n",
       "    </tr>\n",
       "    <tr>\n",
       "      <th>std</th>\n",
       "      <td>24.463165</td>\n",
       "      <td>24.463165</td>\n",
       "      <td>2.867754e+05</td>\n",
       "    </tr>\n",
       "    <tr>\n",
       "      <th>min</th>\n",
       "      <td>1926.000000</td>\n",
       "      <td>1926.000000</td>\n",
       "      <td>6.000000e+00</td>\n",
       "    </tr>\n",
       "    <tr>\n",
       "      <th>25%</th>\n",
       "      <td>1986.000000</td>\n",
       "      <td>1986.000000</td>\n",
       "      <td>1.242700e+04</td>\n",
       "    </tr>\n",
       "    <tr>\n",
       "      <th>50%</th>\n",
       "      <td>2004.000000</td>\n",
       "      <td>2004.000000</td>\n",
       "      <td>2.667500e+04</td>\n",
       "    </tr>\n",
       "    <tr>\n",
       "      <th>75%</th>\n",
       "      <td>2014.000000</td>\n",
       "      <td>2014.000000</td>\n",
       "      <td>3.557700e+04</td>\n",
       "    </tr>\n",
       "    <tr>\n",
       "      <th>max</th>\n",
       "      <td>2023.000000</td>\n",
       "      <td>2023.000000</td>\n",
       "      <td>5.281612e+06</td>\n",
       "    </tr>\n",
       "  </tbody>\n",
       "</table>\n",
       "</div>"
      ],
      "text/plain": [
       "          TLIST(A1)          Year         VALUE\n",
       "count  11817.000000  11817.000000  1.181700e+04\n",
       "mean    1996.410256   1996.410256  5.352461e+04\n",
       "std       24.463165     24.463165  2.867754e+05\n",
       "min     1926.000000   1926.000000  6.000000e+00\n",
       "25%     1986.000000   1986.000000  1.242700e+04\n",
       "50%     2004.000000   2004.000000  2.667500e+04\n",
       "75%     2014.000000   2014.000000  3.557700e+04\n",
       "max     2023.000000   2023.000000  5.281612e+06"
      ]
     },
     "execution_count": 264,
     "metadata": {},
     "output_type": "execute_result"
    }
   ],
   "source": [
    "population_summary"
   ]
  },
  {
   "cell_type": "code",
   "execution_count": 265,
   "metadata": {},
   "outputs": [
    {
     "data": {
      "text/html": [
       "<div>\n",
       "<style scoped>\n",
       "    .dataframe tbody tr th:only-of-type {\n",
       "        vertical-align: middle;\n",
       "    }\n",
       "\n",
       "    .dataframe tbody tr th {\n",
       "        vertical-align: top;\n",
       "    }\n",
       "\n",
       "    .dataframe thead th {\n",
       "        text-align: right;\n",
       "    }\n",
       "</style>\n",
       "<table border=\"1\" class=\"dataframe\">\n",
       "  <thead>\n",
       "    <tr style=\"text-align: right;\">\n",
       "      <th></th>\n",
       "      <th>TLIST(A1)</th>\n",
       "      <th>Year</th>\n",
       "      <th>C02542V03077</th>\n",
       "      <th>VALUE</th>\n",
       "    </tr>\n",
       "  </thead>\n",
       "  <tbody>\n",
       "    <tr>\n",
       "      <th>count</th>\n",
       "      <td>2664.000000</td>\n",
       "      <td>2664.000000</td>\n",
       "      <td>2664.000000</td>\n",
       "      <td>2104.000000</td>\n",
       "    </tr>\n",
       "    <tr>\n",
       "      <th>mean</th>\n",
       "      <td>2005.000000</td>\n",
       "      <td>2005.000000</td>\n",
       "      <td>3.333333</td>\n",
       "      <td>8.943726</td>\n",
       "    </tr>\n",
       "    <tr>\n",
       "      <th>std</th>\n",
       "      <td>10.679083</td>\n",
       "      <td>10.679083</td>\n",
       "      <td>1.699992</td>\n",
       "      <td>15.513703</td>\n",
       "    </tr>\n",
       "    <tr>\n",
       "      <th>min</th>\n",
       "      <td>1987.000000</td>\n",
       "      <td>1987.000000</td>\n",
       "      <td>1.000000</td>\n",
       "      <td>-43.900000</td>\n",
       "    </tr>\n",
       "    <tr>\n",
       "      <th>25%</th>\n",
       "      <td>1996.000000</td>\n",
       "      <td>1996.000000</td>\n",
       "      <td>1.000000</td>\n",
       "      <td>1.800000</td>\n",
       "    </tr>\n",
       "    <tr>\n",
       "      <th>50%</th>\n",
       "      <td>2005.000000</td>\n",
       "      <td>2005.000000</td>\n",
       "      <td>4.000000</td>\n",
       "      <td>4.700000</td>\n",
       "    </tr>\n",
       "    <tr>\n",
       "      <th>75%</th>\n",
       "      <td>2014.000000</td>\n",
       "      <td>2014.000000</td>\n",
       "      <td>5.000000</td>\n",
       "      <td>10.200000</td>\n",
       "    </tr>\n",
       "    <tr>\n",
       "      <th>max</th>\n",
       "      <td>2023.000000</td>\n",
       "      <td>2023.000000</td>\n",
       "      <td>5.000000</td>\n",
       "      <td>151.100000</td>\n",
       "    </tr>\n",
       "  </tbody>\n",
       "</table>\n",
       "</div>"
      ],
      "text/plain": [
       "         TLIST(A1)         Year  C02542V03077        VALUE\n",
       "count  2664.000000  2664.000000   2664.000000  2104.000000\n",
       "mean   2005.000000  2005.000000      3.333333     8.943726\n",
       "std      10.679083    10.679083      1.699992    15.513703\n",
       "min    1987.000000  1987.000000      1.000000   -43.900000\n",
       "25%    1996.000000  1996.000000      1.000000     1.800000\n",
       "50%    2005.000000  2005.000000      4.000000     4.700000\n",
       "75%    2014.000000  2014.000000      5.000000    10.200000\n",
       "max    2023.000000  2023.000000      5.000000   151.100000"
      ]
     },
     "execution_count": 265,
     "metadata": {},
     "output_type": "execute_result"
    }
   ],
   "source": [
    "migration_summary"
   ]
  },
  {
   "cell_type": "markdown",
   "metadata": {},
   "source": [
    "### **3.\tPerform basic data cleaning and data type conversion.**"
   ]
  },
  {
   "cell_type": "markdown",
   "metadata": {},
   "source": [
    "#### Checking for Duplicates"
   ]
  },
  {
   "cell_type": "code",
   "execution_count": 266,
   "metadata": {},
   "outputs": [
    {
     "name": "stdout",
     "output_type": "stream",
     "text": [
      "Number of duplicate rows in the population dataset is 0\n"
     ]
    }
   ],
   "source": [
    "population_duplicates = population_df.duplicated().sum()\n",
    "print(f\"Number of duplicate rows in the population dataset is {population_duplicates}\")\n"
   ]
  },
  {
   "cell_type": "code",
   "execution_count": 267,
   "metadata": {},
   "outputs": [
    {
     "name": "stdout",
     "output_type": "stream",
     "text": [
      "Number of duplicate rows in the migration dataset is 0\n"
     ]
    }
   ],
   "source": [
    "migration_duplicates = migration_df.duplicated().sum()\n",
    "print(f\"Number of duplicate rows in the migration dataset is {migration_duplicates}\")"
   ]
  },
  {
   "cell_type": "markdown",
   "metadata": {},
   "source": [
    "#### Handling Missing Values"
   ]
  },
  {
   "cell_type": "markdown",
   "metadata": {},
   "source": [
    "##### Population dataset"
   ]
  },
  {
   "cell_type": "code",
   "execution_count": 268,
   "metadata": {},
   "outputs": [
    {
     "data": {
      "text/html": [
       "<div>\n",
       "<style scoped>\n",
       "    .dataframe tbody tr th:only-of-type {\n",
       "        vertical-align: middle;\n",
       "    }\n",
       "\n",
       "    .dataframe tbody tr th {\n",
       "        vertical-align: top;\n",
       "    }\n",
       "\n",
       "    .dataframe thead th {\n",
       "        text-align: right;\n",
       "    }\n",
       "</style>\n",
       "<table border=\"1\" class=\"dataframe\">\n",
       "  <thead>\n",
       "    <tr style=\"text-align: right;\">\n",
       "      <th></th>\n",
       "      <th>STATISTIC</th>\n",
       "      <th>STATISTIC Label</th>\n",
       "      <th>TLIST(A1)</th>\n",
       "      <th>Year</th>\n",
       "      <th>C02076V03371</th>\n",
       "      <th>Single Year of Age</th>\n",
       "      <th>C02199V02655</th>\n",
       "      <th>Sex</th>\n",
       "      <th>UNIT</th>\n",
       "      <th>VALUE</th>\n",
       "    </tr>\n",
       "  </thead>\n",
       "  <tbody>\n",
       "    <tr>\n",
       "      <th>0</th>\n",
       "      <td>False</td>\n",
       "      <td>False</td>\n",
       "      <td>False</td>\n",
       "      <td>False</td>\n",
       "      <td>False</td>\n",
       "      <td>False</td>\n",
       "      <td>False</td>\n",
       "      <td>False</td>\n",
       "      <td>False</td>\n",
       "      <td>False</td>\n",
       "    </tr>\n",
       "    <tr>\n",
       "      <th>1</th>\n",
       "      <td>False</td>\n",
       "      <td>False</td>\n",
       "      <td>False</td>\n",
       "      <td>False</td>\n",
       "      <td>False</td>\n",
       "      <td>False</td>\n",
       "      <td>False</td>\n",
       "      <td>False</td>\n",
       "      <td>False</td>\n",
       "      <td>False</td>\n",
       "    </tr>\n",
       "    <tr>\n",
       "      <th>2</th>\n",
       "      <td>False</td>\n",
       "      <td>False</td>\n",
       "      <td>False</td>\n",
       "      <td>False</td>\n",
       "      <td>False</td>\n",
       "      <td>False</td>\n",
       "      <td>False</td>\n",
       "      <td>False</td>\n",
       "      <td>False</td>\n",
       "      <td>False</td>\n",
       "    </tr>\n",
       "    <tr>\n",
       "      <th>3</th>\n",
       "      <td>False</td>\n",
       "      <td>False</td>\n",
       "      <td>False</td>\n",
       "      <td>False</td>\n",
       "      <td>False</td>\n",
       "      <td>False</td>\n",
       "      <td>False</td>\n",
       "      <td>False</td>\n",
       "      <td>False</td>\n",
       "      <td>False</td>\n",
       "    </tr>\n",
       "    <tr>\n",
       "      <th>4</th>\n",
       "      <td>False</td>\n",
       "      <td>False</td>\n",
       "      <td>False</td>\n",
       "      <td>False</td>\n",
       "      <td>False</td>\n",
       "      <td>False</td>\n",
       "      <td>False</td>\n",
       "      <td>False</td>\n",
       "      <td>False</td>\n",
       "      <td>False</td>\n",
       "    </tr>\n",
       "    <tr>\n",
       "      <th>...</th>\n",
       "      <td>...</td>\n",
       "      <td>...</td>\n",
       "      <td>...</td>\n",
       "      <td>...</td>\n",
       "      <td>...</td>\n",
       "      <td>...</td>\n",
       "      <td>...</td>\n",
       "      <td>...</td>\n",
       "      <td>...</td>\n",
       "      <td>...</td>\n",
       "    </tr>\n",
       "    <tr>\n",
       "      <th>11812</th>\n",
       "      <td>False</td>\n",
       "      <td>False</td>\n",
       "      <td>False</td>\n",
       "      <td>False</td>\n",
       "      <td>False</td>\n",
       "      <td>False</td>\n",
       "      <td>False</td>\n",
       "      <td>False</td>\n",
       "      <td>False</td>\n",
       "      <td>False</td>\n",
       "    </tr>\n",
       "    <tr>\n",
       "      <th>11813</th>\n",
       "      <td>False</td>\n",
       "      <td>False</td>\n",
       "      <td>False</td>\n",
       "      <td>False</td>\n",
       "      <td>False</td>\n",
       "      <td>False</td>\n",
       "      <td>False</td>\n",
       "      <td>False</td>\n",
       "      <td>False</td>\n",
       "      <td>False</td>\n",
       "    </tr>\n",
       "    <tr>\n",
       "      <th>11814</th>\n",
       "      <td>False</td>\n",
       "      <td>False</td>\n",
       "      <td>False</td>\n",
       "      <td>False</td>\n",
       "      <td>False</td>\n",
       "      <td>False</td>\n",
       "      <td>False</td>\n",
       "      <td>False</td>\n",
       "      <td>False</td>\n",
       "      <td>False</td>\n",
       "    </tr>\n",
       "    <tr>\n",
       "      <th>11815</th>\n",
       "      <td>False</td>\n",
       "      <td>False</td>\n",
       "      <td>False</td>\n",
       "      <td>False</td>\n",
       "      <td>False</td>\n",
       "      <td>False</td>\n",
       "      <td>False</td>\n",
       "      <td>False</td>\n",
       "      <td>False</td>\n",
       "      <td>False</td>\n",
       "    </tr>\n",
       "    <tr>\n",
       "      <th>11816</th>\n",
       "      <td>False</td>\n",
       "      <td>False</td>\n",
       "      <td>False</td>\n",
       "      <td>False</td>\n",
       "      <td>False</td>\n",
       "      <td>False</td>\n",
       "      <td>False</td>\n",
       "      <td>False</td>\n",
       "      <td>False</td>\n",
       "      <td>False</td>\n",
       "    </tr>\n",
       "  </tbody>\n",
       "</table>\n",
       "<p>11817 rows × 10 columns</p>\n",
       "</div>"
      ],
      "text/plain": [
       "       STATISTIC  STATISTIC Label  TLIST(A1)   Year  C02076V03371  \\\n",
       "0          False            False      False  False         False   \n",
       "1          False            False      False  False         False   \n",
       "2          False            False      False  False         False   \n",
       "3          False            False      False  False         False   \n",
       "4          False            False      False  False         False   \n",
       "...          ...              ...        ...    ...           ...   \n",
       "11812      False            False      False  False         False   \n",
       "11813      False            False      False  False         False   \n",
       "11814      False            False      False  False         False   \n",
       "11815      False            False      False  False         False   \n",
       "11816      False            False      False  False         False   \n",
       "\n",
       "       Single Year of Age  C02199V02655    Sex   UNIT  VALUE  \n",
       "0                   False         False  False  False  False  \n",
       "1                   False         False  False  False  False  \n",
       "2                   False         False  False  False  False  \n",
       "3                   False         False  False  False  False  \n",
       "4                   False         False  False  False  False  \n",
       "...                   ...           ...    ...    ...    ...  \n",
       "11812               False         False  False  False  False  \n",
       "11813               False         False  False  False  False  \n",
       "11814               False         False  False  False  False  \n",
       "11815               False         False  False  False  False  \n",
       "11816               False         False  False  False  False  \n",
       "\n",
       "[11817 rows x 10 columns]"
      ]
     },
     "execution_count": 268,
     "metadata": {},
     "output_type": "execute_result"
    }
   ],
   "source": [
    "population_missing_data = population_df.isna()\n",
    "population_missing_data"
   ]
  },
  {
   "cell_type": "markdown",
   "metadata": {},
   "source": [
    "##### Migration dataset"
   ]
  },
  {
   "cell_type": "code",
   "execution_count": 269,
   "metadata": {},
   "outputs": [
    {
     "data": {
      "text/html": [
       "<div>\n",
       "<style scoped>\n",
       "    .dataframe tbody tr th:only-of-type {\n",
       "        vertical-align: middle;\n",
       "    }\n",
       "\n",
       "    .dataframe tbody tr th {\n",
       "        vertical-align: top;\n",
       "    }\n",
       "\n",
       "    .dataframe thead th {\n",
       "        text-align: right;\n",
       "    }\n",
       "</style>\n",
       "<table border=\"1\" class=\"dataframe\">\n",
       "  <thead>\n",
       "    <tr style=\"text-align: right;\">\n",
       "      <th></th>\n",
       "      <th>STATISTIC</th>\n",
       "      <th>STATISTIC Label</th>\n",
       "      <th>TLIST(A1)</th>\n",
       "      <th>Year</th>\n",
       "      <th>C02719V03286</th>\n",
       "      <th>Country</th>\n",
       "      <th>C02199V02655</th>\n",
       "      <th>Sex</th>\n",
       "      <th>C02542V03077</th>\n",
       "      <th>Origin or Destination</th>\n",
       "      <th>UNIT</th>\n",
       "      <th>VALUE</th>\n",
       "    </tr>\n",
       "  </thead>\n",
       "  <tbody>\n",
       "    <tr>\n",
       "      <th>0</th>\n",
       "      <td>False</td>\n",
       "      <td>False</td>\n",
       "      <td>False</td>\n",
       "      <td>False</td>\n",
       "      <td>False</td>\n",
       "      <td>False</td>\n",
       "      <td>False</td>\n",
       "      <td>False</td>\n",
       "      <td>False</td>\n",
       "      <td>False</td>\n",
       "      <td>False</td>\n",
       "      <td>False</td>\n",
       "    </tr>\n",
       "    <tr>\n",
       "      <th>1</th>\n",
       "      <td>False</td>\n",
       "      <td>False</td>\n",
       "      <td>False</td>\n",
       "      <td>False</td>\n",
       "      <td>False</td>\n",
       "      <td>False</td>\n",
       "      <td>False</td>\n",
       "      <td>False</td>\n",
       "      <td>False</td>\n",
       "      <td>False</td>\n",
       "      <td>False</td>\n",
       "      <td>False</td>\n",
       "    </tr>\n",
       "    <tr>\n",
       "      <th>2</th>\n",
       "      <td>False</td>\n",
       "      <td>False</td>\n",
       "      <td>False</td>\n",
       "      <td>False</td>\n",
       "      <td>False</td>\n",
       "      <td>False</td>\n",
       "      <td>False</td>\n",
       "      <td>False</td>\n",
       "      <td>False</td>\n",
       "      <td>False</td>\n",
       "      <td>False</td>\n",
       "      <td>False</td>\n",
       "    </tr>\n",
       "    <tr>\n",
       "      <th>3</th>\n",
       "      <td>False</td>\n",
       "      <td>False</td>\n",
       "      <td>False</td>\n",
       "      <td>False</td>\n",
       "      <td>False</td>\n",
       "      <td>False</td>\n",
       "      <td>False</td>\n",
       "      <td>False</td>\n",
       "      <td>False</td>\n",
       "      <td>False</td>\n",
       "      <td>False</td>\n",
       "      <td>False</td>\n",
       "    </tr>\n",
       "    <tr>\n",
       "      <th>4</th>\n",
       "      <td>False</td>\n",
       "      <td>False</td>\n",
       "      <td>False</td>\n",
       "      <td>False</td>\n",
       "      <td>False</td>\n",
       "      <td>False</td>\n",
       "      <td>False</td>\n",
       "      <td>False</td>\n",
       "      <td>False</td>\n",
       "      <td>False</td>\n",
       "      <td>False</td>\n",
       "      <td>False</td>\n",
       "    </tr>\n",
       "    <tr>\n",
       "      <th>...</th>\n",
       "      <td>...</td>\n",
       "      <td>...</td>\n",
       "      <td>...</td>\n",
       "      <td>...</td>\n",
       "      <td>...</td>\n",
       "      <td>...</td>\n",
       "      <td>...</td>\n",
       "      <td>...</td>\n",
       "      <td>...</td>\n",
       "      <td>...</td>\n",
       "      <td>...</td>\n",
       "      <td>...</td>\n",
       "    </tr>\n",
       "    <tr>\n",
       "      <th>2659</th>\n",
       "      <td>False</td>\n",
       "      <td>False</td>\n",
       "      <td>False</td>\n",
       "      <td>False</td>\n",
       "      <td>False</td>\n",
       "      <td>False</td>\n",
       "      <td>False</td>\n",
       "      <td>False</td>\n",
       "      <td>False</td>\n",
       "      <td>False</td>\n",
       "      <td>False</td>\n",
       "      <td>False</td>\n",
       "    </tr>\n",
       "    <tr>\n",
       "      <th>2660</th>\n",
       "      <td>False</td>\n",
       "      <td>False</td>\n",
       "      <td>False</td>\n",
       "      <td>False</td>\n",
       "      <td>False</td>\n",
       "      <td>False</td>\n",
       "      <td>False</td>\n",
       "      <td>False</td>\n",
       "      <td>False</td>\n",
       "      <td>False</td>\n",
       "      <td>False</td>\n",
       "      <td>False</td>\n",
       "    </tr>\n",
       "    <tr>\n",
       "      <th>2661</th>\n",
       "      <td>False</td>\n",
       "      <td>False</td>\n",
       "      <td>False</td>\n",
       "      <td>False</td>\n",
       "      <td>False</td>\n",
       "      <td>False</td>\n",
       "      <td>False</td>\n",
       "      <td>False</td>\n",
       "      <td>False</td>\n",
       "      <td>False</td>\n",
       "      <td>False</td>\n",
       "      <td>False</td>\n",
       "    </tr>\n",
       "    <tr>\n",
       "      <th>2662</th>\n",
       "      <td>False</td>\n",
       "      <td>False</td>\n",
       "      <td>False</td>\n",
       "      <td>False</td>\n",
       "      <td>False</td>\n",
       "      <td>False</td>\n",
       "      <td>False</td>\n",
       "      <td>False</td>\n",
       "      <td>False</td>\n",
       "      <td>False</td>\n",
       "      <td>False</td>\n",
       "      <td>False</td>\n",
       "    </tr>\n",
       "    <tr>\n",
       "      <th>2663</th>\n",
       "      <td>False</td>\n",
       "      <td>False</td>\n",
       "      <td>False</td>\n",
       "      <td>False</td>\n",
       "      <td>False</td>\n",
       "      <td>False</td>\n",
       "      <td>False</td>\n",
       "      <td>False</td>\n",
       "      <td>False</td>\n",
       "      <td>False</td>\n",
       "      <td>False</td>\n",
       "      <td>False</td>\n",
       "    </tr>\n",
       "  </tbody>\n",
       "</table>\n",
       "<p>2664 rows × 12 columns</p>\n",
       "</div>"
      ],
      "text/plain": [
       "      STATISTIC  STATISTIC Label  TLIST(A1)   Year  C02719V03286  Country  \\\n",
       "0         False            False      False  False         False    False   \n",
       "1         False            False      False  False         False    False   \n",
       "2         False            False      False  False         False    False   \n",
       "3         False            False      False  False         False    False   \n",
       "4         False            False      False  False         False    False   \n",
       "...         ...              ...        ...    ...           ...      ...   \n",
       "2659      False            False      False  False         False    False   \n",
       "2660      False            False      False  False         False    False   \n",
       "2661      False            False      False  False         False    False   \n",
       "2662      False            False      False  False         False    False   \n",
       "2663      False            False      False  False         False    False   \n",
       "\n",
       "      C02199V02655    Sex  C02542V03077  Origin or Destination   UNIT  VALUE  \n",
       "0            False  False         False                  False  False  False  \n",
       "1            False  False         False                  False  False  False  \n",
       "2            False  False         False                  False  False  False  \n",
       "3            False  False         False                  False  False  False  \n",
       "4            False  False         False                  False  False  False  \n",
       "...            ...    ...           ...                    ...    ...    ...  \n",
       "2659         False  False         False                  False  False  False  \n",
       "2660         False  False         False                  False  False  False  \n",
       "2661         False  False         False                  False  False  False  \n",
       "2662         False  False         False                  False  False  False  \n",
       "2663         False  False         False                  False  False  False  \n",
       "\n",
       "[2664 rows x 12 columns]"
      ]
     },
     "execution_count": 269,
     "metadata": {},
     "output_type": "execute_result"
    }
   ],
   "source": [
    "migration_missing_data = migration_df.isna()\n",
    "migration_missing_data"
   ]
  },
  {
   "cell_type": "code",
   "execution_count": 270,
   "metadata": {},
   "outputs": [
    {
     "name": "stdout",
     "output_type": "stream",
     "text": [
      "Missing values for the population dataset\n"
     ]
    },
    {
     "data": {
      "text/plain": [
       "STATISTIC             0\n",
       "STATISTIC Label       0\n",
       "TLIST(A1)             0\n",
       "Year                  0\n",
       "C02076V03371          0\n",
       "Single Year of Age    0\n",
       "C02199V02655          0\n",
       "Sex                   0\n",
       "UNIT                  0\n",
       "VALUE                 0\n",
       "dtype: int64"
      ]
     },
     "execution_count": 270,
     "metadata": {},
     "output_type": "execute_result"
    }
   ],
   "source": [
    "population_missing_values = population_df.isnull().sum()\n",
    "\n",
    "print('Missing values for the population dataset')\n",
    "population_missing_values"
   ]
  },
  {
   "cell_type": "code",
   "execution_count": 271,
   "metadata": {},
   "outputs": [
    {
     "name": "stdout",
     "output_type": "stream",
     "text": [
      "Missing values for the migration dataset\n"
     ]
    },
    {
     "data": {
      "text/plain": [
       "STATISTIC                  0\n",
       "STATISTIC Label            0\n",
       "TLIST(A1)                  0\n",
       "Year                       0\n",
       "C02719V03286               0\n",
       "Country                    0\n",
       "C02199V02655               0\n",
       "Sex                        0\n",
       "C02542V03077               0\n",
       "Origin or Destination      0\n",
       "UNIT                       0\n",
       "VALUE                    560\n",
       "dtype: int64"
      ]
     },
     "execution_count": 271,
     "metadata": {},
     "output_type": "execute_result"
    }
   ],
   "source": [
    "migration_missing_values = migration_df.isnull().sum()\n",
    "\n",
    "print('Missing values for the migration dataset')\n",
    "migration_missing_values"
   ]
  },
  {
   "cell_type": "markdown",
   "metadata": {},
   "source": [
    "Using a heatmap is a simple way to visualize missing values and determine if there are any in the datasets we're using."
   ]
  },
  {
   "cell_type": "code",
   "execution_count": 272,
   "metadata": {},
   "outputs": [
    {
     "name": "stdout",
     "output_type": "stream",
     "text": [
      "Population dataset missing values Heatmap\n"
     ]
    },
    {
     "data": {
      "image/png": "[encoded data removed]",
      "text/plain": [
       "<Figure size 640x480 with 1 Axes>"
      ]
     },
     "metadata": {},
     "output_type": "display_data"
    }
   ],
   "source": [
    "print(\"Population dataset missing values Heatmap\")\n",
    "sns.heatmap(population_df.isnull(), cbar=False);"
   ]
  },
  {
   "cell_type": "code",
   "execution_count": 273,
   "metadata": {},
   "outputs": [
    {
     "name": "stdout",
     "output_type": "stream",
     "text": [
      "Migration dataset missing values Heatmap\n"
     ]
    },
    {
     "data": {
      "image/png": "[encoded data removed]",
      "text/plain": [
       "<Figure size 640x480 with 1 Axes>"
      ]
     },
     "metadata": {},
     "output_type": "display_data"
    }
   ],
   "source": [
    "print(\"Migration dataset missing values Heatmap\")\n",
    "sns.heatmap(migration_df.isnull(), cbar=False);"
   ]
  },
  {
   "cell_type": "markdown",
   "metadata": {},
   "source": [
    "##### Removing all the lines with missing values\n",
    "The **.dropna()** method in pandas is used to remove missing values from a DataFrame. We can specify how we want to remove rows or columns with missing data using its parameters.\n",
    "\n",
    "For example:\\\n",
    "**.dropna()** - drop any rows with at least one null value\\\n",
    "**.dropna(how='all')** - drop rows where all values are null\\\n",
    "**.dropna(axis=1)** - drop columns with at least one null value"
   ]
  },
  {
   "cell_type": "markdown",
   "metadata": {},
   "source": [
    "Removing already identified missing values in the Migration Dataset. I decided to remove those values because for some years we do not have any data for Immigrants and Emigrants for specific countries. Imputing those values will give us bias data and this will reflect on our visualizations. As an example, we do have a value for the 'Country' column called '\"EU15 to EU27 (accession countries joined post 2004)', which will include countries that joined the EU in 2004, meaning that we won't have any data before that. "
   ]
  },
  {
   "cell_type": "code",
   "execution_count": 274,
   "metadata": {},
   "outputs": [
    {
     "data": {
      "text/plain": [
       "STATISTIC                0\n",
       "STATISTIC Label          0\n",
       "TLIST(A1)                0\n",
       "Year                     0\n",
       "C02719V03286             0\n",
       "Country                  0\n",
       "C02199V02655             0\n",
       "Sex                      0\n",
       "C02542V03077             0\n",
       "Origin or Destination    0\n",
       "UNIT                     0\n",
       "VALUE                    0\n",
       "dtype: int64"
      ]
     },
     "execution_count": 274,
     "metadata": {},
     "output_type": "execute_result"
    }
   ],
   "source": [
    "migration_df = migration_df.dropna()\n",
    "\n",
    "migration_missing_values = migration_df.isnull().sum()\n",
    "migration_missing_values"
   ]
  },
  {
   "cell_type": "code",
   "execution_count": 275,
   "metadata": {},
   "outputs": [
    {
     "data": {
      "text/plain": [
       "<Axes: >"
      ]
     },
     "execution_count": 275,
     "metadata": {},
     "output_type": "execute_result"
    },
    {
     "data": {
      "image/png": "[encoded data removed]",
      "text/plain": [
       "<Figure size 640x480 with 1 Axes>"
      ]
     },
     "metadata": {},
     "output_type": "display_data"
    }
   ],
   "source": [
    "sns.heatmap(migration_df.isnull(), cbar=False)"
   ]
  },
  {
   "cell_type": "markdown",
   "metadata": {},
   "source": [
    "Based on the two analyses conducted (sum and heatmap), we can conclude that all missing values have been removed from the Migration dataset."
   ]
  },
  {
   "cell_type": "markdown",
   "metadata": {},
   "source": [
    "#### Dropping irrelevant columns and renaming the labeled columns\n",
    "\n",
    "Dropping all columns that have no value for the report and visualizing the results."
   ]
  },
  {
   "cell_type": "markdown",
   "metadata": {},
   "source": [
    "##### Population dataset"
   ]
  },
  {
   "cell_type": "code",
   "execution_count": 276,
   "metadata": {},
   "outputs": [
    {
     "data": {
      "text/html": [
       "<div>\n",
       "<style scoped>\n",
       "    .dataframe tbody tr th:only-of-type {\n",
       "        vertical-align: middle;\n",
       "    }\n",
       "\n",
       "    .dataframe tbody tr th {\n",
       "        vertical-align: top;\n",
       "    }\n",
       "\n",
       "    .dataframe thead th {\n",
       "        text-align: right;\n",
       "    }\n",
       "</style>\n",
       "<table border=\"1\" class=\"dataframe\">\n",
       "  <thead>\n",
       "    <tr style=\"text-align: right;\">\n",
       "      <th></th>\n",
       "      <th>Year</th>\n",
       "      <th>C02076V03371</th>\n",
       "      <th>Single Year of Age</th>\n",
       "      <th>C02199V02655</th>\n",
       "      <th>Sex</th>\n",
       "      <th>UNIT</th>\n",
       "      <th>VALUE</th>\n",
       "    </tr>\n",
       "  </thead>\n",
       "  <tbody>\n",
       "    <tr>\n",
       "      <th>0</th>\n",
       "      <td>1926</td>\n",
       "      <td>-</td>\n",
       "      <td>All ages</td>\n",
       "      <td>-</td>\n",
       "      <td>Both sexes</td>\n",
       "      <td>Number</td>\n",
       "      <td>2971992</td>\n",
       "    </tr>\n",
       "    <tr>\n",
       "      <th>1</th>\n",
       "      <td>1926</td>\n",
       "      <td>-</td>\n",
       "      <td>All ages</td>\n",
       "      <td>1</td>\n",
       "      <td>Male</td>\n",
       "      <td>Number</td>\n",
       "      <td>1506889</td>\n",
       "    </tr>\n",
       "    <tr>\n",
       "      <th>2</th>\n",
       "      <td>1926</td>\n",
       "      <td>-</td>\n",
       "      <td>All ages</td>\n",
       "      <td>2</td>\n",
       "      <td>Female</td>\n",
       "      <td>Number</td>\n",
       "      <td>1465103</td>\n",
       "    </tr>\n",
       "    <tr>\n",
       "      <th>3</th>\n",
       "      <td>1926</td>\n",
       "      <td>200</td>\n",
       "      <td>Under 1 year</td>\n",
       "      <td>-</td>\n",
       "      <td>Both sexes</td>\n",
       "      <td>Number</td>\n",
       "      <td>55391</td>\n",
       "    </tr>\n",
       "    <tr>\n",
       "      <th>4</th>\n",
       "      <td>1926</td>\n",
       "      <td>200</td>\n",
       "      <td>Under 1 year</td>\n",
       "      <td>1</td>\n",
       "      <td>Male</td>\n",
       "      <td>Number</td>\n",
       "      <td>28084</td>\n",
       "    </tr>\n",
       "    <tr>\n",
       "      <th>...</th>\n",
       "      <td>...</td>\n",
       "      <td>...</td>\n",
       "      <td>...</td>\n",
       "      <td>...</td>\n",
       "      <td>...</td>\n",
       "      <td>...</td>\n",
       "      <td>...</td>\n",
       "    </tr>\n",
       "    <tr>\n",
       "      <th>11812</th>\n",
       "      <td>2023</td>\n",
       "      <td>098</td>\n",
       "      <td>98 years</td>\n",
       "      <td>1</td>\n",
       "      <td>Male</td>\n",
       "      <td>Number</td>\n",
       "      <td>197</td>\n",
       "    </tr>\n",
       "    <tr>\n",
       "      <th>11813</th>\n",
       "      <td>2023</td>\n",
       "      <td>098</td>\n",
       "      <td>98 years</td>\n",
       "      <td>2</td>\n",
       "      <td>Female</td>\n",
       "      <td>Number</td>\n",
       "      <td>632</td>\n",
       "    </tr>\n",
       "    <tr>\n",
       "      <th>11814</th>\n",
       "      <td>2023</td>\n",
       "      <td>646</td>\n",
       "      <td>99 years and over</td>\n",
       "      <td>-</td>\n",
       "      <td>Both sexes</td>\n",
       "      <td>Number</td>\n",
       "      <td>1600</td>\n",
       "    </tr>\n",
       "    <tr>\n",
       "      <th>11815</th>\n",
       "      <td>2023</td>\n",
       "      <td>646</td>\n",
       "      <td>99 years and over</td>\n",
       "      <td>1</td>\n",
       "      <td>Male</td>\n",
       "      <td>Number</td>\n",
       "      <td>352</td>\n",
       "    </tr>\n",
       "    <tr>\n",
       "      <th>11816</th>\n",
       "      <td>2023</td>\n",
       "      <td>646</td>\n",
       "      <td>99 years and over</td>\n",
       "      <td>2</td>\n",
       "      <td>Female</td>\n",
       "      <td>Number</td>\n",
       "      <td>1248</td>\n",
       "    </tr>\n",
       "  </tbody>\n",
       "</table>\n",
       "<p>11817 rows × 7 columns</p>\n",
       "</div>"
      ],
      "text/plain": [
       "       Year C02076V03371 Single Year of Age C02199V02655         Sex    UNIT  \\\n",
       "0      1926            -           All ages            -  Both sexes  Number   \n",
       "1      1926            -           All ages            1        Male  Number   \n",
       "2      1926            -           All ages            2      Female  Number   \n",
       "3      1926          200       Under 1 year            -  Both sexes  Number   \n",
       "4      1926          200       Under 1 year            1        Male  Number   \n",
       "...     ...          ...                ...          ...         ...     ...   \n",
       "11812  2023          098           98 years            1        Male  Number   \n",
       "11813  2023          098           98 years            2      Female  Number   \n",
       "11814  2023          646  99 years and over            -  Both sexes  Number   \n",
       "11815  2023          646  99 years and over            1        Male  Number   \n",
       "11816  2023          646  99 years and over            2      Female  Number   \n",
       "\n",
       "         VALUE  \n",
       "0      2971992  \n",
       "1      1506889  \n",
       "2      1465103  \n",
       "3        55391  \n",
       "4        28084  \n",
       "...        ...  \n",
       "11812      197  \n",
       "11813      632  \n",
       "11814     1600  \n",
       "11815      352  \n",
       "11816     1248  \n",
       "\n",
       "[11817 rows x 7 columns]"
      ]
     },
     "execution_count": 276,
     "metadata": {},
     "output_type": "execute_result"
    }
   ],
   "source": [
    "population_df = population_df.drop(['STATISTIC', 'STATISTIC Label', 'TLIST(A1)'], axis=1)\n",
    "population_df"
   ]
  },
  {
   "cell_type": "markdown",
   "metadata": {},
   "source": [
    "Renaming columns"
   ]
  },
  {
   "cell_type": "code",
   "execution_count": 277,
   "metadata": {},
   "outputs": [
    {
     "data": {
      "text/html": [
       "<div>\n",
       "<style scoped>\n",
       "    .dataframe tbody tr th:only-of-type {\n",
       "        vertical-align: middle;\n",
       "    }\n",
       "\n",
       "    .dataframe tbody tr th {\n",
       "        vertical-align: top;\n",
       "    }\n",
       "\n",
       "    .dataframe thead th {\n",
       "        text-align: right;\n",
       "    }\n",
       "</style>\n",
       "<table border=\"1\" class=\"dataframe\">\n",
       "  <thead>\n",
       "    <tr style=\"text-align: right;\">\n",
       "      <th></th>\n",
       "      <th>Year</th>\n",
       "      <th>Age category</th>\n",
       "      <th>Single Year of Age</th>\n",
       "      <th>Sex category</th>\n",
       "      <th>Sex</th>\n",
       "      <th>UNIT</th>\n",
       "      <th>VALUE</th>\n",
       "    </tr>\n",
       "  </thead>\n",
       "  <tbody>\n",
       "    <tr>\n",
       "      <th>0</th>\n",
       "      <td>1926</td>\n",
       "      <td>-</td>\n",
       "      <td>All ages</td>\n",
       "      <td>-</td>\n",
       "      <td>Both sexes</td>\n",
       "      <td>Number</td>\n",
       "      <td>2971992</td>\n",
       "    </tr>\n",
       "    <tr>\n",
       "      <th>1</th>\n",
       "      <td>1926</td>\n",
       "      <td>-</td>\n",
       "      <td>All ages</td>\n",
       "      <td>1</td>\n",
       "      <td>Male</td>\n",
       "      <td>Number</td>\n",
       "      <td>1506889</td>\n",
       "    </tr>\n",
       "    <tr>\n",
       "      <th>2</th>\n",
       "      <td>1926</td>\n",
       "      <td>-</td>\n",
       "      <td>All ages</td>\n",
       "      <td>2</td>\n",
       "      <td>Female</td>\n",
       "      <td>Number</td>\n",
       "      <td>1465103</td>\n",
       "    </tr>\n",
       "    <tr>\n",
       "      <th>3</th>\n",
       "      <td>1926</td>\n",
       "      <td>200</td>\n",
       "      <td>Under 1 year</td>\n",
       "      <td>-</td>\n",
       "      <td>Both sexes</td>\n",
       "      <td>Number</td>\n",
       "      <td>55391</td>\n",
       "    </tr>\n",
       "    <tr>\n",
       "      <th>4</th>\n",
       "      <td>1926</td>\n",
       "      <td>200</td>\n",
       "      <td>Under 1 year</td>\n",
       "      <td>1</td>\n",
       "      <td>Male</td>\n",
       "      <td>Number</td>\n",
       "      <td>28084</td>\n",
       "    </tr>\n",
       "    <tr>\n",
       "      <th>5</th>\n",
       "      <td>1926</td>\n",
       "      <td>200</td>\n",
       "      <td>Under 1 year</td>\n",
       "      <td>2</td>\n",
       "      <td>Female</td>\n",
       "      <td>Number</td>\n",
       "      <td>27307</td>\n",
       "    </tr>\n",
       "    <tr>\n",
       "      <th>6</th>\n",
       "      <td>1926</td>\n",
       "      <td>001</td>\n",
       "      <td>1 year</td>\n",
       "      <td>-</td>\n",
       "      <td>Both sexes</td>\n",
       "      <td>Number</td>\n",
       "      <td>55876</td>\n",
       "    </tr>\n",
       "  </tbody>\n",
       "</table>\n",
       "</div>"
      ],
      "text/plain": [
       "   Year Age category Single Year of Age Sex category         Sex    UNIT  \\\n",
       "0  1926            -           All ages            -  Both sexes  Number   \n",
       "1  1926            -           All ages            1        Male  Number   \n",
       "2  1926            -           All ages            2      Female  Number   \n",
       "3  1926          200       Under 1 year            -  Both sexes  Number   \n",
       "4  1926          200       Under 1 year            1        Male  Number   \n",
       "5  1926          200       Under 1 year            2      Female  Number   \n",
       "6  1926          001             1 year            -  Both sexes  Number   \n",
       "\n",
       "     VALUE  \n",
       "0  2971992  \n",
       "1  1506889  \n",
       "2  1465103  \n",
       "3    55391  \n",
       "4    28084  \n",
       "5    27307  \n",
       "6    55876  "
      ]
     },
     "execution_count": 277,
     "metadata": {},
     "output_type": "execute_result"
    }
   ],
   "source": [
    "population_df = population_df.rename(columns={'C02076V03371':'Age category', 'C02199V02655':'Sex category'})\n",
    "population_df.head(7)"
   ]
  },
  {
   "cell_type": "markdown",
   "metadata": {},
   "source": [
    "##### Migration dataset"
   ]
  },
  {
   "cell_type": "code",
   "execution_count": 278,
   "metadata": {},
   "outputs": [
    {
     "data": {
      "text/html": [
       "<div>\n",
       "<style scoped>\n",
       "    .dataframe tbody tr th:only-of-type {\n",
       "        vertical-align: middle;\n",
       "    }\n",
       "\n",
       "    .dataframe tbody tr th {\n",
       "        vertical-align: top;\n",
       "    }\n",
       "\n",
       "    .dataframe thead th {\n",
       "        text-align: right;\n",
       "    }\n",
       "</style>\n",
       "<table border=\"1\" class=\"dataframe\">\n",
       "  <thead>\n",
       "    <tr style=\"text-align: right;\">\n",
       "      <th></th>\n",
       "      <th>Year</th>\n",
       "      <th>C02719V03286</th>\n",
       "      <th>Country</th>\n",
       "      <th>C02199V02655</th>\n",
       "      <th>Sex</th>\n",
       "      <th>C02542V03077</th>\n",
       "      <th>Origin or Destination</th>\n",
       "      <th>UNIT</th>\n",
       "      <th>VALUE</th>\n",
       "    </tr>\n",
       "  </thead>\n",
       "  <tbody>\n",
       "    <tr>\n",
       "      <th>0</th>\n",
       "      <td>1987</td>\n",
       "      <td>GB1</td>\n",
       "      <td>United Kingdom (1)</td>\n",
       "      <td>-</td>\n",
       "      <td>Both sexes</td>\n",
       "      <td>1</td>\n",
       "      <td>Net migration</td>\n",
       "      <td>Thousand</td>\n",
       "      <td>-13.7</td>\n",
       "    </tr>\n",
       "    <tr>\n",
       "      <th>1</th>\n",
       "      <td>1987</td>\n",
       "      <td>GB1</td>\n",
       "      <td>United Kingdom (1)</td>\n",
       "      <td>-</td>\n",
       "      <td>Both sexes</td>\n",
       "      <td>4</td>\n",
       "      <td>Emigrants: All destinations</td>\n",
       "      <td>Thousand</td>\n",
       "      <td>21.8</td>\n",
       "    </tr>\n",
       "    <tr>\n",
       "      <th>2</th>\n",
       "      <td>1987</td>\n",
       "      <td>GB1</td>\n",
       "      <td>United Kingdom (1)</td>\n",
       "      <td>-</td>\n",
       "      <td>Both sexes</td>\n",
       "      <td>5</td>\n",
       "      <td>Immigrants: All origins</td>\n",
       "      <td>Thousand</td>\n",
       "      <td>8.1</td>\n",
       "    </tr>\n",
       "    <tr>\n",
       "      <th>3</th>\n",
       "      <td>1987</td>\n",
       "      <td>GB1</td>\n",
       "      <td>United Kingdom (1)</td>\n",
       "      <td>1</td>\n",
       "      <td>Male</td>\n",
       "      <td>1</td>\n",
       "      <td>Net migration</td>\n",
       "      <td>Thousand</td>\n",
       "      <td>-9.0</td>\n",
       "    </tr>\n",
       "    <tr>\n",
       "      <th>4</th>\n",
       "      <td>1987</td>\n",
       "      <td>GB1</td>\n",
       "      <td>United Kingdom (1)</td>\n",
       "      <td>1</td>\n",
       "      <td>Male</td>\n",
       "      <td>4</td>\n",
       "      <td>Emigrants: All destinations</td>\n",
       "      <td>Thousand</td>\n",
       "      <td>13.1</td>\n",
       "    </tr>\n",
       "    <tr>\n",
       "      <th>5</th>\n",
       "      <td>1987</td>\n",
       "      <td>GB1</td>\n",
       "      <td>United Kingdom (1)</td>\n",
       "      <td>1</td>\n",
       "      <td>Male</td>\n",
       "      <td>5</td>\n",
       "      <td>Immigrants: All origins</td>\n",
       "      <td>Thousand</td>\n",
       "      <td>4.1</td>\n",
       "    </tr>\n",
       "    <tr>\n",
       "      <th>6</th>\n",
       "      <td>1987</td>\n",
       "      <td>GB1</td>\n",
       "      <td>United Kingdom (1)</td>\n",
       "      <td>2</td>\n",
       "      <td>Female</td>\n",
       "      <td>1</td>\n",
       "      <td>Net migration</td>\n",
       "      <td>Thousand</td>\n",
       "      <td>-4.7</td>\n",
       "    </tr>\n",
       "  </tbody>\n",
       "</table>\n",
       "</div>"
      ],
      "text/plain": [
       "   Year C02719V03286             Country C02199V02655         Sex  \\\n",
       "0  1987          GB1  United Kingdom (1)            -  Both sexes   \n",
       "1  1987          GB1  United Kingdom (1)            -  Both sexes   \n",
       "2  1987          GB1  United Kingdom (1)            -  Both sexes   \n",
       "3  1987          GB1  United Kingdom (1)            1        Male   \n",
       "4  1987          GB1  United Kingdom (1)            1        Male   \n",
       "5  1987          GB1  United Kingdom (1)            1        Male   \n",
       "6  1987          GB1  United Kingdom (1)            2      Female   \n",
       "\n",
       "   C02542V03077        Origin or Destination      UNIT  VALUE  \n",
       "0             1                Net migration  Thousand  -13.7  \n",
       "1             4  Emigrants: All destinations  Thousand   21.8  \n",
       "2             5      Immigrants: All origins  Thousand    8.1  \n",
       "3             1                Net migration  Thousand   -9.0  \n",
       "4             4  Emigrants: All destinations  Thousand   13.1  \n",
       "5             5      Immigrants: All origins  Thousand    4.1  \n",
       "6             1                Net migration  Thousand   -4.7  "
      ]
     },
     "execution_count": 278,
     "metadata": {},
     "output_type": "execute_result"
    }
   ],
   "source": [
    "migration_df = migration_df.drop(['STATISTIC', 'STATISTIC Label', 'TLIST(A1)'], axis=1)\n",
    "migration_df.head(7)"
   ]
  },
  {
   "cell_type": "markdown",
   "metadata": {},
   "source": [
    "Renaming columns"
   ]
  },
  {
   "cell_type": "code",
   "execution_count": 279,
   "metadata": {},
   "outputs": [
    {
     "data": {
      "text/html": [
       "<div>\n",
       "<style scoped>\n",
       "    .dataframe tbody tr th:only-of-type {\n",
       "        vertical-align: middle;\n",
       "    }\n",
       "\n",
       "    .dataframe tbody tr th {\n",
       "        vertical-align: top;\n",
       "    }\n",
       "\n",
       "    .dataframe thead th {\n",
       "        text-align: right;\n",
       "    }\n",
       "</style>\n",
       "<table border=\"1\" class=\"dataframe\">\n",
       "  <thead>\n",
       "    <tr style=\"text-align: right;\">\n",
       "      <th></th>\n",
       "      <th>Year</th>\n",
       "      <th>Country category</th>\n",
       "      <th>Country</th>\n",
       "      <th>Sex category</th>\n",
       "      <th>Sex</th>\n",
       "      <th>Migration label</th>\n",
       "      <th>Origin or Destination</th>\n",
       "      <th>UNIT</th>\n",
       "      <th>VALUE</th>\n",
       "    </tr>\n",
       "  </thead>\n",
       "  <tbody>\n",
       "    <tr>\n",
       "      <th>0</th>\n",
       "      <td>1987</td>\n",
       "      <td>GB1</td>\n",
       "      <td>United Kingdom (1)</td>\n",
       "      <td>-</td>\n",
       "      <td>Both sexes</td>\n",
       "      <td>1</td>\n",
       "      <td>Net migration</td>\n",
       "      <td>Thousand</td>\n",
       "      <td>-13.7</td>\n",
       "    </tr>\n",
       "    <tr>\n",
       "      <th>1</th>\n",
       "      <td>1987</td>\n",
       "      <td>GB1</td>\n",
       "      <td>United Kingdom (1)</td>\n",
       "      <td>-</td>\n",
       "      <td>Both sexes</td>\n",
       "      <td>4</td>\n",
       "      <td>Emigrants: All destinations</td>\n",
       "      <td>Thousand</td>\n",
       "      <td>21.8</td>\n",
       "    </tr>\n",
       "    <tr>\n",
       "      <th>2</th>\n",
       "      <td>1987</td>\n",
       "      <td>GB1</td>\n",
       "      <td>United Kingdom (1)</td>\n",
       "      <td>-</td>\n",
       "      <td>Both sexes</td>\n",
       "      <td>5</td>\n",
       "      <td>Immigrants: All origins</td>\n",
       "      <td>Thousand</td>\n",
       "      <td>8.1</td>\n",
       "    </tr>\n",
       "    <tr>\n",
       "      <th>3</th>\n",
       "      <td>1987</td>\n",
       "      <td>GB1</td>\n",
       "      <td>United Kingdom (1)</td>\n",
       "      <td>1</td>\n",
       "      <td>Male</td>\n",
       "      <td>1</td>\n",
       "      <td>Net migration</td>\n",
       "      <td>Thousand</td>\n",
       "      <td>-9.0</td>\n",
       "    </tr>\n",
       "    <tr>\n",
       "      <th>4</th>\n",
       "      <td>1987</td>\n",
       "      <td>GB1</td>\n",
       "      <td>United Kingdom (1)</td>\n",
       "      <td>1</td>\n",
       "      <td>Male</td>\n",
       "      <td>4</td>\n",
       "      <td>Emigrants: All destinations</td>\n",
       "      <td>Thousand</td>\n",
       "      <td>13.1</td>\n",
       "    </tr>\n",
       "    <tr>\n",
       "      <th>5</th>\n",
       "      <td>1987</td>\n",
       "      <td>GB1</td>\n",
       "      <td>United Kingdom (1)</td>\n",
       "      <td>1</td>\n",
       "      <td>Male</td>\n",
       "      <td>5</td>\n",
       "      <td>Immigrants: All origins</td>\n",
       "      <td>Thousand</td>\n",
       "      <td>4.1</td>\n",
       "    </tr>\n",
       "    <tr>\n",
       "      <th>6</th>\n",
       "      <td>1987</td>\n",
       "      <td>GB1</td>\n",
       "      <td>United Kingdom (1)</td>\n",
       "      <td>2</td>\n",
       "      <td>Female</td>\n",
       "      <td>1</td>\n",
       "      <td>Net migration</td>\n",
       "      <td>Thousand</td>\n",
       "      <td>-4.7</td>\n",
       "    </tr>\n",
       "  </tbody>\n",
       "</table>\n",
       "</div>"
      ],
      "text/plain": [
       "   Year Country category             Country Sex category         Sex  \\\n",
       "0  1987              GB1  United Kingdom (1)            -  Both sexes   \n",
       "1  1987              GB1  United Kingdom (1)            -  Both sexes   \n",
       "2  1987              GB1  United Kingdom (1)            -  Both sexes   \n",
       "3  1987              GB1  United Kingdom (1)            1        Male   \n",
       "4  1987              GB1  United Kingdom (1)            1        Male   \n",
       "5  1987              GB1  United Kingdom (1)            1        Male   \n",
       "6  1987              GB1  United Kingdom (1)            2      Female   \n",
       "\n",
       "   Migration label        Origin or Destination      UNIT  VALUE  \n",
       "0                1                Net migration  Thousand  -13.7  \n",
       "1                4  Emigrants: All destinations  Thousand   21.8  \n",
       "2                5      Immigrants: All origins  Thousand    8.1  \n",
       "3                1                Net migration  Thousand   -9.0  \n",
       "4                4  Emigrants: All destinations  Thousand   13.1  \n",
       "5                5      Immigrants: All origins  Thousand    4.1  \n",
       "6                1                Net migration  Thousand   -4.7  "
      ]
     },
     "execution_count": 279,
     "metadata": {},
     "output_type": "execute_result"
    }
   ],
   "source": [
    "migration_df = migration_df.rename(columns={'C02719V03286':'Country category', 'C02199V02655':'Sex category', 'C02542V03077':'Migration label' })\n",
    "migration_df.head(7)"
   ]
  },
  {
   "cell_type": "markdown",
   "metadata": {},
   "source": [
    "#### Dealing with categorical variables"
   ]
  },
  {
   "cell_type": "markdown",
   "metadata": {},
   "source": [
    "Converting the objects to categories is a step towards encoding features as numerical values, required for fitting machine learning models."
   ]
  },
  {
   "cell_type": "code",
   "execution_count": 280,
   "metadata": {},
   "outputs": [
    {
     "data": {
      "text/plain": [
       "Single Year of Age    category\n",
       "Sex                   category\n",
       "UNIT                  category\n",
       "Age category          category\n",
       "Sex category          category\n",
       "dtype: object"
      ]
     },
     "execution_count": 280,
     "metadata": {},
     "output_type": "execute_result"
    }
   ],
   "source": [
    "population_columns_to_convert = ['Single Year of Age', 'Sex', 'UNIT', 'Age category', 'Sex category']\n",
    "for column in population_columns_to_convert:\n",
    "    population_df[column] = population_df[column].astype('category')\n",
    "\n",
    "data_types = population_df[population_columns_to_convert].dtypes\n",
    "data_types"
   ]
  },
  {
   "cell_type": "code",
   "execution_count": 281,
   "metadata": {},
   "outputs": [
    {
     "data": {
      "text/plain": [
       "Sex                      category\n",
       "UNIT                     category\n",
       "Sex category             category\n",
       "Origin or Destination    category\n",
       "Migration label          category\n",
       "Country                  category\n",
       "Country category         category\n",
       "dtype: object"
      ]
     },
     "execution_count": 281,
     "metadata": {},
     "output_type": "execute_result"
    }
   ],
   "source": [
    "migration_columns_to_convert = ['Sex', 'UNIT', 'Sex category', 'Origin or Destination', 'Migration label', 'Country', 'Country category']\n",
    "for column in migration_columns_to_convert:\n",
    "    migration_df[column] = migration_df[column].astype('category')\n",
    "\n",
    "data_types = migration_df[migration_columns_to_convert].dtypes\n",
    "data_types"
   ]
  },
  {
   "cell_type": "markdown",
   "metadata": {},
   "source": [
    "#### **Dealing with Outliers**"
   ]
  },
  {
   "cell_type": "markdown",
   "metadata": {},
   "source": [
    "* Outliers are data points that differ significantly from other observations. They can be caused by variability in the measurement or may indicate errors. Sometimes outliers are just due to natural deviations in any distribution. It's crucial to deal with outliers because they can have a significant impact on the results of statistical analyses and machine learning models, often leading to misleading conclusions.\n",
    "* Outliers can skew the results of statistical measures. For instance, the mean is particularly sensitive to outliers, as a single outlier can significantly shift the average. The median and mode are more robust, but it's still important to understand the nature of the outliers.\n",
    "* In machine learning, outliers can affect the accuracy of predictions, leading to poor model performance. Machine learning algorithms might end up overfitting to outliers if they try to account for these anomalous points in the training data. Overfitting means that the model learns the noise in the training data (including outliers) rather than the actual relationships, resulting in poor generalization to new data.\n",
    "* Outliers can distort the scale of graphs, making it hard to visualize the bulk of the data effectively. "
   ]
  },
  {
   "cell_type": "markdown",
   "metadata": {},
   "source": [
    "Calculate the first quartile (**Q1**) and the third quartile (**Q3**) for the data.\\\n",
    "Compute the **IQR**: IQR Q3 — QI\\\n",
    "**Define outliers** as values that fall outside of the following range:\\\n",
    "**QI - 1.5 x IQR,Q3 + 1.5 x IQR**"
   ]
  },
  {
   "cell_type": "markdown",
   "metadata": {},
   "source": [
    "A classic method for identifying outliers based on the interquartile range (IQR). This method assumes that values outside 1.5 times the IQR from the quartiles are outliers."
   ]
  },
  {
   "cell_type": "markdown",
   "metadata": {},
   "source": [
    "##### Population dataset"
   ]
  },
  {
   "cell_type": "markdown",
   "metadata": {},
   "source": [
    "Exploring the VALUE column for any outliers"
   ]
  },
  {
   "cell_type": "code",
   "execution_count": 282,
   "metadata": {},
   "outputs": [
    {
     "name": "stdout",
     "output_type": "stream",
     "text": [
      "The first quartile is: 12427.0\n",
      "The third quartile is: 35577.0\n",
      "IQR range: 23150.0\n",
      "Total number of outliers: 463\n",
      "Percentage of outliers: 3.92%\n",
      "Minimum outlier value: 70321\n",
      "Maximum outlier value: 5281612\n",
      "Lower bound for outliers: -22298.0\n",
      "Upper bound for outliers: 70302.0\n"
     ]
    }
   ],
   "source": [
    "population_Q1 = population_df['VALUE'].quantile(0.25)\n",
    "population_Q3 = population_df['VALUE'].quantile(0.75)\n",
    "population_IQR = population_Q3 - population_Q1\n",
    "\n",
    "pop_lower_bound = population_Q1 - 1.5 * population_IQR\n",
    "pop_upper_bound = population_Q3 + 1.5 * population_IQR\n",
    "\n",
    "population_outliers = population_df[(population_df['VALUE'] < pop_lower_bound) | (population_df['VALUE'] > pop_upper_bound)]\n",
    "\n",
    "print(f\"The first quartile is: {population_Q1}\")\n",
    "print(f\"The third quartile is: {population_Q3}\")\n",
    "print(f\"IQR range: {population_IQR}\")\n",
    "print(f\"Total number of outliers: {population_outliers.shape[0]}\")\n",
    "print(f\"Percentage of outliers: {(population_outliers.shape[0] / population_df.shape[0]) * 100:.2f}%\")\n",
    "print(f\"Minimum outlier value: {population_outliers['VALUE'].min()}\")\n",
    "print(f\"Maximum outlier value: {population_outliers['VALUE'].max()}\")\n",
    "print(f\"Lower bound for outliers: {pop_lower_bound}\")\n",
    "print(f\"Upper bound for outliers: {pop_upper_bound}\")\n"
   ]
  },
  {
   "cell_type": "markdown",
   "metadata": {},
   "source": [
    "The lower bound for outliers is -22298. Since negative population values are not possible, we can consider the lower bound to be 0 for practical purposes.\\\n",
    "Any data point with a population value **lower than 0** or **higher than 70,302** is considered an outlier.\\\n",
    "\n",
    "The current calculations includes the total population counts (\"All ages\") for both sexes, males, and females, which naturally have much higher numbers than specific age categories. These data points are not errors. They are just aggregates that are on a different scale compared to individual age categories."
   ]
  },
  {
   "cell_type": "code",
   "execution_count": 283,
   "metadata": {},
   "outputs": [
    {
     "data": {
      "image/png": "[encoded data removed]",
      "text/plain": [
       "<Figure size 1200x400 with 1 Axes>"
      ]
     },
     "metadata": {},
     "output_type": "display_data"
    }
   ],
   "source": [
    "plt.figure(figsize=(12, 4))\n",
    "sns.boxplot(x=population_df['VALUE'], color=\"lightgreen\", orient=\"h\")\n",
    "\n",
    "plt.axvline(x=population_Q1, color='blue', linestyle='--', label=f\"Q1 ({population_Q1:.2f})\")\n",
    "plt.axvline(x=population_df['VALUE'].median(), color='red', linestyle='--', label=f\"Median ({population_df['VALUE'].median():.2f})\")\n",
    "plt.axvline(x=population_Q3, color='blue', linestyle='--', label=f\"Q3 ({population_Q3:.2f})\")\n",
    "\n",
    "plt.title(\"Horizontal Boxplot of Population Estimates (VALUE column) with Quartiles and Outliers\")\n",
    "plt.xlabel(\"Population Count\")\n",
    "plt.legend()\n",
    "plt.tight_layout()\n",
    "plt.show()"
   ]
  },
  {
   "cell_type": "markdown",
   "metadata": {},
   "source": [
    "Zoomed-in version of the horizontal boxplot for the VALUE column"
   ]
  },
  {
   "cell_type": "code",
   "execution_count": 284,
   "metadata": {},
   "outputs": [
    {
     "data": {
      "image/png": "[encoded data removed]",
      "text/plain": [
       "<Figure size 1200x400 with 1 Axes>"
      ]
     },
     "metadata": {},
     "output_type": "display_data"
    }
   ],
   "source": [
    "plt.figure(figsize=(12, 4))\n",
    "sns.boxplot(x=population_df['VALUE'], color=\"lightgreen\", orient=\"h\")\n",
    "plt.xlim([population_df['VALUE'].min() - population_IQR, pop_upper_bound + 2 * population_IQR])\n",
    "\n",
    "plt.axvline(x=population_Q1, color='blue', linestyle='--', label=f\"Q1 ({population_Q1:.2f})\")\n",
    "plt.axvline(x=population_df['VALUE'].median(), color='red', linestyle='--', label=f\"Median ({population_df['VALUE'].median():.2f})\")\n",
    "plt.axvline(x=population_Q3, color='blue', linestyle='--', label=f\"Q3 ({population_Q3:.2f})\")\n",
    "\n",
    "plt.title(\"Zoomed-in Horizontal Boxplot of Population Estimates (VALUE column)\")\n",
    "plt.xlabel(\"Population Count\")\n",
    "plt.legend()\n",
    "plt.tight_layout()\n",
    "plt.show()"
   ]
  },
  {
   "cell_type": "markdown",
   "metadata": {},
   "source": [
    "This visualization provides a more detailed view of the distribution's central tendency, interquartile range, and nearby outliers\n",
    "\n",
    "The focus has been narrowed to the region around the box and the nearby outliers, allowing for a clearer view of the box and whiskers. \\\n",
    "The dashed lines still represent the Q1 (blue), median (red), and Q3 (blue) values."
   ]
  },
  {
   "cell_type": "markdown",
   "metadata": {},
   "source": [
    "**The outliers in the population dataset are because we have rows with 'All ages' and 'Both sexes' that show the sum of all ages and both sexes. Those are not errors and can be used when looking into the population without any age or sex breakdown**"
   ]
  },
  {
   "cell_type": "code",
   "execution_count": 285,
   "metadata": {},
   "outputs": [
    {
     "data": {
      "text/html": [
       "<div>\n",
       "<style scoped>\n",
       "    .dataframe tbody tr th:only-of-type {\n",
       "        vertical-align: middle;\n",
       "    }\n",
       "\n",
       "    .dataframe tbody tr th {\n",
       "        vertical-align: top;\n",
       "    }\n",
       "\n",
       "    .dataframe thead th {\n",
       "        text-align: right;\n",
       "    }\n",
       "</style>\n",
       "<table border=\"1\" class=\"dataframe\">\n",
       "  <thead>\n",
       "    <tr style=\"text-align: right;\">\n",
       "      <th></th>\n",
       "      <th>Year</th>\n",
       "      <th>Age category</th>\n",
       "      <th>Single Year of Age</th>\n",
       "      <th>Sex category</th>\n",
       "      <th>Sex</th>\n",
       "      <th>UNIT</th>\n",
       "      <th>VALUE</th>\n",
       "    </tr>\n",
       "  </thead>\n",
       "  <tbody>\n",
       "    <tr>\n",
       "      <th>1</th>\n",
       "      <td>1926</td>\n",
       "      <td>-</td>\n",
       "      <td>All ages</td>\n",
       "      <td>1</td>\n",
       "      <td>Male</td>\n",
       "      <td>Number</td>\n",
       "      <td>1506889</td>\n",
       "    </tr>\n",
       "    <tr>\n",
       "      <th>2</th>\n",
       "      <td>1926</td>\n",
       "      <td>-</td>\n",
       "      <td>All ages</td>\n",
       "      <td>2</td>\n",
       "      <td>Female</td>\n",
       "      <td>Number</td>\n",
       "      <td>1465103</td>\n",
       "    </tr>\n",
       "    <tr>\n",
       "      <th>304</th>\n",
       "      <td>1936</td>\n",
       "      <td>-</td>\n",
       "      <td>All ages</td>\n",
       "      <td>1</td>\n",
       "      <td>Male</td>\n",
       "      <td>Number</td>\n",
       "      <td>1520454</td>\n",
       "    </tr>\n",
       "    <tr>\n",
       "      <th>305</th>\n",
       "      <td>1936</td>\n",
       "      <td>-</td>\n",
       "      <td>All ages</td>\n",
       "      <td>2</td>\n",
       "      <td>Female</td>\n",
       "      <td>Number</td>\n",
       "      <td>1447966</td>\n",
       "    </tr>\n",
       "    <tr>\n",
       "      <th>607</th>\n",
       "      <td>1946</td>\n",
       "      <td>-</td>\n",
       "      <td>All ages</td>\n",
       "      <td>1</td>\n",
       "      <td>Male</td>\n",
       "      <td>Number</td>\n",
       "      <td>1494877</td>\n",
       "    </tr>\n",
       "    <tr>\n",
       "      <th>608</th>\n",
       "      <td>1946</td>\n",
       "      <td>-</td>\n",
       "      <td>All ages</td>\n",
       "      <td>2</td>\n",
       "      <td>Female</td>\n",
       "      <td>Number</td>\n",
       "      <td>1460230</td>\n",
       "    </tr>\n",
       "    <tr>\n",
       "      <th>910</th>\n",
       "      <td>1951</td>\n",
       "      <td>-</td>\n",
       "      <td>All ages</td>\n",
       "      <td>1</td>\n",
       "      <td>Male</td>\n",
       "      <td>Number</td>\n",
       "      <td>1506597</td>\n",
       "    </tr>\n",
       "  </tbody>\n",
       "</table>\n",
       "</div>"
      ],
      "text/plain": [
       "     Year Age category Single Year of Age Sex category     Sex    UNIT  \\\n",
       "1    1926            -           All ages            1    Male  Number   \n",
       "2    1926            -           All ages            2  Female  Number   \n",
       "304  1936            -           All ages            1    Male  Number   \n",
       "305  1936            -           All ages            2  Female  Number   \n",
       "607  1946            -           All ages            1    Male  Number   \n",
       "608  1946            -           All ages            2  Female  Number   \n",
       "910  1951            -           All ages            1    Male  Number   \n",
       "\n",
       "       VALUE  \n",
       "1    1506889  \n",
       "2    1465103  \n",
       "304  1520454  \n",
       "305  1447966  \n",
       "607  1494877  \n",
       "608  1460230  \n",
       "910  1506597  "
      ]
     },
     "execution_count": 285,
     "metadata": {},
     "output_type": "execute_result"
    }
   ],
   "source": [
    "population_df_all_ages = population_df[(population_df['Single Year of Age'] == 'All ages') & (population_df['Sex'] != 'Both sexes')]\n",
    "population_df_all_ages.head(7)"
   ]
  },
  {
   "cell_type": "code",
   "execution_count": 286,
   "metadata": {},
   "outputs": [
    {
     "name": "stdout",
     "output_type": "stream",
     "text": [
      "The first quartile is: 1770005.75\n",
      "The third quartile is: 2318439.5\n",
      "IQR range: 548433.75\n",
      "Total number of outliers: 0\n",
      "Percentage of outliers: 0.00%\n",
      "Minimum outlier value: nan\n",
      "Maximum outlier value: nan\n",
      "Lower bound for outliers: 947355.125\n",
      "Upper bound for outliers: 3141090.125\n"
     ]
    }
   ],
   "source": [
    "pop_all_Q1 = population_df_all_ages['VALUE'].quantile(0.25)\n",
    "pop_all_Q3 = population_df_all_ages['VALUE'].quantile(0.75)\n",
    "pop_all_IQR = pop_all_Q3 - pop_all_Q1\n",
    "\n",
    "pop_all_lower_bound = pop_all_Q1 - 1.5 * pop_all_IQR\n",
    "pop_all_upper_bound = pop_all_Q3 + 1.5 * pop_all_IQR\n",
    "\n",
    "pop_all_outliers = population_df_all_ages[(population_df_all_ages['VALUE'] < pop_all_lower_bound) | (population_df_all_ages['VALUE'] > pop_all_upper_bound)]\n",
    "\n",
    "print(f\"The first quartile is: {pop_all_Q1}\")\n",
    "print(f\"The third quartile is: {pop_all_Q3}\")\n",
    "print(f\"IQR range: {pop_all_IQR}\")\n",
    "print(f\"Total number of outliers: {pop_all_outliers.shape[0]}\")\n",
    "print(f\"Percentage of outliers: {(pop_all_outliers.shape[0] / population_df_all_ages.shape[0]) * 100:.2f}%\")\n",
    "print(f\"Minimum outlier value: {pop_all_outliers['VALUE'].min()}\")\n",
    "print(f\"Maximum outlier value: {pop_all_outliers['VALUE'].max()}\")\n",
    "print(f\"Lower bound for outliers: {pop_all_lower_bound}\")\n",
    "print(f\"Upper bound for outliers: {pop_all_upper_bound}\")"
   ]
  },
  {
   "cell_type": "markdown",
   "metadata": {},
   "source": [
    "**Migration dataset**"
   ]
  },
  {
   "cell_type": "code",
   "execution_count": 11,
   "metadata": {},
   "outputs": [
    {
     "name": "stdout",
     "output_type": "stream",
     "text": [
      "Info: Based on the dataset all the values are in thousands\n",
      "\n",
      "The first quartile is: 1.8K\n",
      "The third quartile is: 10.2K\n",
      "IQR range: 8.40K\n",
      "Total number of outliers: 257\n",
      "Percentage of outliers: 9.65%\n",
      "Minimum outlier value: -43.9K\n",
      "Maximum outlier value: 151.1K\n",
      "Lower bound for outliers: -10.80K\n",
      "Upper bound for outliers: 22.80K\n"
     ]
    }
   ],
   "source": [
    "migration_Q1 = migration_df['VALUE'].quantile(0.25)\n",
    "migration_Q3 = migration_df['VALUE'].quantile(0.75)\n",
    "migration_IQR = migration_Q3 - migration_Q1\n",
    "\n",
    "migr_lower_bound = migration_Q1 - 1.5 * migration_IQR\n",
    "migr_upper_bound = migration_Q3 + 1.5 * migration_IQR\n",
    "\n",
    "migration_outliers = migration_df[(migration_df['VALUE'] < migr_lower_bound) | (migration_df['VALUE'] > migr_upper_bound)]\n",
    "\n",
    "print(\"Info: Based on the dataset all the values are in thousands\\n\")\n",
    "print(f\"The first quartile is: {migration_Q1}K\")\n",
    "print(f\"The third quartile is: {migration_Q3}K\")\n",
    "print(f\"IQR range: {migration_IQR:.2f}K\")\n",
    "print(f\"Total number of outliers: {migration_outliers.shape[0]}\")\n",
    "print(f\"Percentage of outliers: {(migration_outliers.shape[0] / migration_df.shape[0]) * 100:.2f}%\")\n",
    "print(f\"Minimum outlier value: {migration_outliers['VALUE'].min()}K\")\n",
    "print(f\"Maximum outlier value: {migration_outliers['VALUE'].max()}K\")\n",
    "print(f\"Lower bound for outliers: {migr_lower_bound:.2f}K\")\n",
    "print(f\"Upper bound for outliers: {migr_upper_bound:.2f}K\")\n"
   ]
  },
  {
   "cell_type": "code",
   "execution_count": 288,
   "metadata": {},
   "outputs": [
    {
     "data": {
      "image/png": "[encoded data removed]",
      "text/plain": [
       "<Figure size 1200x400 with 1 Axes>"
      ]
     },
     "metadata": {},
     "output_type": "display_data"
    }
   ],
   "source": [
    "plt.figure(figsize=(12, 4))\n",
    "sns.boxplot(x=migration_df['VALUE'], color=\"lightgreen\", orient=\"h\")\n",
    "\n",
    "plt.axvline(x=migration_Q1, color='blue', linestyle='--', label=f\"Q1 ({migration_Q1:.2f})\")\n",
    "plt.axvline(x=migration_df['VALUE'].median(), color='red', linestyle='--', label=f\"Median ({migration_df['VALUE'].median():.2f})\")\n",
    "plt.axvline(x=migration_Q3, color='blue', linestyle='--', label=f\"Q3 ({migration_Q3:.2f})\")\n",
    "\n",
    "plt.title(\"Horizontal Boxplot of Migration Estimates (VALUE column) with Quartiles and Outliers\")\n",
    "plt.xlabel(\"Migration Count\")\n",
    "plt.legend()\n",
    "plt.tight_layout()\n",
    "plt.show()"
   ]
  },
  {
   "cell_type": "markdown",
   "metadata": {},
   "source": [
    "The same behaviour is present in the migration dataset. We have rows that give us the sum for 'All countries' and 'Both sexes', which results in higer values for the 'VALUE' column. Those are not errors, but the data is aggregated on a different level. Creating a new dataframe showing the Migration for 'All countries' and 'Both sexes' will be used in the analysis, and a second dataframe that will give us the breakdown by country and sex. "
   ]
  },
  {
   "cell_type": "code",
   "execution_count": 289,
   "metadata": {},
   "outputs": [
    {
     "data": {
      "text/html": [
       "<div>\n",
       "<style scoped>\n",
       "    .dataframe tbody tr th:only-of-type {\n",
       "        vertical-align: middle;\n",
       "    }\n",
       "\n",
       "    .dataframe tbody tr th {\n",
       "        vertical-align: top;\n",
       "    }\n",
       "\n",
       "    .dataframe thead th {\n",
       "        text-align: right;\n",
       "    }\n",
       "</style>\n",
       "<table border=\"1\" class=\"dataframe\">\n",
       "  <thead>\n",
       "    <tr style=\"text-align: right;\">\n",
       "      <th></th>\n",
       "      <th>Year</th>\n",
       "      <th>Country category</th>\n",
       "      <th>Country</th>\n",
       "      <th>Sex category</th>\n",
       "      <th>Sex</th>\n",
       "      <th>Migration label</th>\n",
       "      <th>Origin or Destination</th>\n",
       "      <th>UNIT</th>\n",
       "      <th>VALUE</th>\n",
       "    </tr>\n",
       "  </thead>\n",
       "  <tbody>\n",
       "    <tr>\n",
       "      <th>48</th>\n",
       "      <td>1987</td>\n",
       "      <td>-</td>\n",
       "      <td>All countries</td>\n",
       "      <td>1</td>\n",
       "      <td>Male</td>\n",
       "      <td>1</td>\n",
       "      <td>Net migration</td>\n",
       "      <td>Thousand</td>\n",
       "      <td>-13.6</td>\n",
       "    </tr>\n",
       "    <tr>\n",
       "      <th>51</th>\n",
       "      <td>1987</td>\n",
       "      <td>-</td>\n",
       "      <td>All countries</td>\n",
       "      <td>2</td>\n",
       "      <td>Female</td>\n",
       "      <td>1</td>\n",
       "      <td>Net migration</td>\n",
       "      <td>Thousand</td>\n",
       "      <td>-15.1</td>\n",
       "    </tr>\n",
       "    <tr>\n",
       "      <th>120</th>\n",
       "      <td>1988</td>\n",
       "      <td>-</td>\n",
       "      <td>All countries</td>\n",
       "      <td>1</td>\n",
       "      <td>Male</td>\n",
       "      <td>1</td>\n",
       "      <td>Net migration</td>\n",
       "      <td>Thousand</td>\n",
       "      <td>-24.2</td>\n",
       "    </tr>\n",
       "    <tr>\n",
       "      <th>123</th>\n",
       "      <td>1988</td>\n",
       "      <td>-</td>\n",
       "      <td>All countries</td>\n",
       "      <td>2</td>\n",
       "      <td>Female</td>\n",
       "      <td>1</td>\n",
       "      <td>Net migration</td>\n",
       "      <td>Thousand</td>\n",
       "      <td>-26.7</td>\n",
       "    </tr>\n",
       "    <tr>\n",
       "      <th>192</th>\n",
       "      <td>1989</td>\n",
       "      <td>-</td>\n",
       "      <td>All countries</td>\n",
       "      <td>1</td>\n",
       "      <td>Male</td>\n",
       "      <td>1</td>\n",
       "      <td>Net migration</td>\n",
       "      <td>Thousand</td>\n",
       "      <td>-25.6</td>\n",
       "    </tr>\n",
       "    <tr>\n",
       "      <th>...</th>\n",
       "      <td>...</td>\n",
       "      <td>...</td>\n",
       "      <td>...</td>\n",
       "      <td>...</td>\n",
       "      <td>...</td>\n",
       "      <td>...</td>\n",
       "      <td>...</td>\n",
       "      <td>...</td>\n",
       "      <td>...</td>\n",
       "    </tr>\n",
       "    <tr>\n",
       "      <th>2499</th>\n",
       "      <td>2021</td>\n",
       "      <td>-</td>\n",
       "      <td>All countries</td>\n",
       "      <td>2</td>\n",
       "      <td>Female</td>\n",
       "      <td>1</td>\n",
       "      <td>Net migration</td>\n",
       "      <td>Thousand</td>\n",
       "      <td>11.0</td>\n",
       "    </tr>\n",
       "    <tr>\n",
       "      <th>2568</th>\n",
       "      <td>2022</td>\n",
       "      <td>-</td>\n",
       "      <td>All countries</td>\n",
       "      <td>1</td>\n",
       "      <td>Male</td>\n",
       "      <td>1</td>\n",
       "      <td>Net migration</td>\n",
       "      <td>Thousand</td>\n",
       "      <td>19.6</td>\n",
       "    </tr>\n",
       "    <tr>\n",
       "      <th>2571</th>\n",
       "      <td>2022</td>\n",
       "      <td>-</td>\n",
       "      <td>All countries</td>\n",
       "      <td>2</td>\n",
       "      <td>Female</td>\n",
       "      <td>1</td>\n",
       "      <td>Net migration</td>\n",
       "      <td>Thousand</td>\n",
       "      <td>32.1</td>\n",
       "    </tr>\n",
       "    <tr>\n",
       "      <th>2640</th>\n",
       "      <td>2023</td>\n",
       "      <td>-</td>\n",
       "      <td>All countries</td>\n",
       "      <td>1</td>\n",
       "      <td>Male</td>\n",
       "      <td>1</td>\n",
       "      <td>Net migration</td>\n",
       "      <td>Thousand</td>\n",
       "      <td>35.1</td>\n",
       "    </tr>\n",
       "    <tr>\n",
       "      <th>2643</th>\n",
       "      <td>2023</td>\n",
       "      <td>-</td>\n",
       "      <td>All countries</td>\n",
       "      <td>2</td>\n",
       "      <td>Female</td>\n",
       "      <td>1</td>\n",
       "      <td>Net migration</td>\n",
       "      <td>Thousand</td>\n",
       "      <td>42.6</td>\n",
       "    </tr>\n",
       "  </tbody>\n",
       "</table>\n",
       "<p>74 rows × 9 columns</p>\n",
       "</div>"
      ],
      "text/plain": [
       "      Year Country category        Country Sex category     Sex  \\\n",
       "48    1987                -  All countries            1    Male   \n",
       "51    1987                -  All countries            2  Female   \n",
       "120   1988                -  All countries            1    Male   \n",
       "123   1988                -  All countries            2  Female   \n",
       "192   1989                -  All countries            1    Male   \n",
       "...    ...              ...            ...          ...     ...   \n",
       "2499  2021                -  All countries            2  Female   \n",
       "2568  2022                -  All countries            1    Male   \n",
       "2571  2022                -  All countries            2  Female   \n",
       "2640  2023                -  All countries            1    Male   \n",
       "2643  2023                -  All countries            2  Female   \n",
       "\n",
       "     Migration label Origin or Destination      UNIT  VALUE  \n",
       "48                 1         Net migration  Thousand  -13.6  \n",
       "51                 1         Net migration  Thousand  -15.1  \n",
       "120                1         Net migration  Thousand  -24.2  \n",
       "123                1         Net migration  Thousand  -26.7  \n",
       "192                1         Net migration  Thousand  -25.6  \n",
       "...              ...                   ...       ...    ...  \n",
       "2499               1         Net migration  Thousand   11.0  \n",
       "2568               1         Net migration  Thousand   19.6  \n",
       "2571               1         Net migration  Thousand   32.1  \n",
       "2640               1         Net migration  Thousand   35.1  \n",
       "2643               1         Net migration  Thousand   42.6  \n",
       "\n",
       "[74 rows x 9 columns]"
      ]
     },
     "execution_count": 289,
     "metadata": {},
     "output_type": "execute_result"
    }
   ],
   "source": [
    "migration_df_net = migration_df[\n",
    "    (migration_df['Sex'] != 'Both sexes') & \n",
    "    (migration_df['Country'] == 'All countries') & \n",
    "    (migration_df['Origin or Destination'] == 'Net migration')]\n",
    "\n",
    "migration_df_net"
   ]
  },
  {
   "cell_type": "code",
   "execution_count": 293,
   "metadata": {},
   "outputs": [
    {
     "name": "stdout",
     "output_type": "stream",
     "text": [
      "Info: Base on the dataset all the values are in thousands\n",
      "\n",
      "The first quartile is: -4.675K\n",
      "The third quartile is: 20.725K\n",
      "IQR range: 25.40K\n",
      "Total number of outliers: 0\n",
      "Percentage of outliers: 0.00%\n",
      "Minimum outlier value: nan\n",
      "Maximum outlier value: nan\n",
      "Lower bound for outliers: -10.80K\n",
      "Upper bound for outliers: 22.80K\n"
     ]
    }
   ],
   "source": [
    "migr_net_Q1 = migration_df_net['VALUE'].quantile(0.25)\n",
    "migr_net_Q3 = migration_df_net['VALUE'].quantile(0.75)\n",
    "\n",
    "migr_net_IQR = migr_net_Q3 - migr_net_Q1\n",
    "\n",
    "migr_net_lower_bound = migr_net_Q1 - 1.5 * migr_net_IQR\n",
    "migr_net_upper_bound = migr_net_Q3 + 1.5 * migr_net_IQR\n",
    "\n",
    "migration_net_outliers = migration_df_net[(migration_df_net['VALUE'] < migr_net_lower_bound) | (migration_df_net['VALUE'] > migr_net_upper_bound)]\n",
    "\n",
    "print(\"Info: Base on the dataset all the values are in thousands\\n\")\n",
    "print(f\"The first quartile is: {migr_net_Q1}K\")\n",
    "print(f\"The third quartile is: {migr_net_Q3}K\")\n",
    "print(f\"IQR range: {migr_net_IQR:.2f}K\")\n",
    "print(f\"Total number of outliers: {migration_net_outliers.shape[0]}\")\n",
    "print(f\"Percentage of outliers: {(migration_net_outliers.shape[0] / migration_df_net.shape[0]) * 100:.2f}%\")\n",
    "print(f\"Minimum outlier value: {migration_net_outliers['VALUE'].min()}\")\n",
    "print(f\"Maximum outlier value: {migration_net_outliers['VALUE'].max()}\")\n",
    "print(f\"Lower bound for outliers: {migr_lower_bound:.2f}K\")\n",
    "print(f\"Upper bound for outliers: {migr_upper_bound:.2f}K\")"
   ]
  }
 ],
 "metadata": {
  "kernelspec": {
   "display_name": "Python 3",
   "language": "python",
   "name": "python3"
  },
  "language_info": {
   "codemirror_mode": {
    "name": "ipython",
    "version": 3
   },
   "file_extension": ".py",
   "mimetype": "text/x-python",
   "name": "python",
   "nbconvert_exporter": "python",
   "pygments_lexer": "ipython3",
   "version": "3.11.6"
  }
 },
 "nbformat": 4,
 "nbformat_minor": 2
}
