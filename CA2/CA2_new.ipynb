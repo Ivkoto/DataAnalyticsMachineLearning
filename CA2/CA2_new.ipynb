{
 "cells": [
  {
   "cell_type": "code",
   "execution_count": 141,
   "metadata": {},
   "outputs": [],
   "source": [
    "import pandas as pd\n",
    "import matplotlib.pyplot as plt\n",
    "import seaborn as sns"
   ]
  },
  {
   "cell_type": "markdown",
   "metadata": {},
   "source": [
    "As I will be working with more datasets this time, I will create functions for the initial exploration of the datasets following python good practices."
   ]
  },
  {
   "cell_type": "code",
   "execution_count": 142,
   "metadata": {},
   "outputs": [],
   "source": [
    "def get_dataframe_size(df):\n",
    "    return df.shape\n",
    "\n",
    "def describe_dataframe(df):\n",
    "    return df.describe()\n",
    "\n",
    "def display_head(df, n=5):\n",
    "    return df.head(n)\n",
    "\n",
    "def display_tail(df, n=5):\n",
    "    return df.tail(n)\n",
    "\n",
    "def get_dataframe_total_elements(df):\n",
    "    return df.size\n",
    "\n",
    "def print_dataframe_info(df):\n",
    "    df.info()\n",
    "\n",
    "def count_duplicated_rows(df):\n",
    "    return df.duplicated().sum()\n",
    "\n",
    "def count_nan_values(df):\n",
    "    return df.isnull().sum()\n",
    "\n",
    "\n",
    "\n"
   ]
  },
  {
   "cell_type": "code",
   "execution_count": 143,
   "metadata": {},
   "outputs": [],
   "source": [
    "def read_csv_file(file_path):\n",
    "    try:\n",
    "        df = pd.read_csv(file_path)\n",
    "        return df\n",
    "    except FileNotFoundError:\n",
    "        print(f\"Error: File not found at '{file_path}'\")\n",
    "        return None\n",
    "    except Exception as e:\n",
    "        print(f\"An error occurred while reading the CSV file: {str(e)}\")\n",
    "        return None"
   ]
  },
  {
   "cell_type": "code",
   "execution_count": 172,
   "metadata": {},
   "outputs": [],
   "source": [
    "# bus_services_df = pd.read_csv('TOA16.20231203T111234.csv')\n",
    "bus_services_df = read_csv_file('TOA16.20231203T111234.csv')"
   ]
  },
  {
   "cell_type": "code",
   "execution_count": 145,
   "metadata": {},
   "outputs": [
    {
     "data": {
      "text/html": [
       "<div>\n",
       "<style scoped>\n",
       "    .dataframe tbody tr th:only-of-type {\n",
       "        vertical-align: middle;\n",
       "    }\n",
       "\n",
       "    .dataframe tbody tr th {\n",
       "        vertical-align: top;\n",
       "    }\n",
       "\n",
       "    .dataframe thead th {\n",
       "        text-align: right;\n",
       "    }\n",
       "</style>\n",
       "<table border=\"1\" class=\"dataframe\">\n",
       "  <thead>\n",
       "    <tr style=\"text-align: right;\">\n",
       "      <th></th>\n",
       "      <th>Statistic Label</th>\n",
       "      <th>Year</th>\n",
       "      <th>Scheduled services</th>\n",
       "      <th>UNIT</th>\n",
       "      <th>VALUE</th>\n",
       "    </tr>\n",
       "  </thead>\n",
       "  <tbody>\n",
       "    <tr>\n",
       "      <th>0</th>\n",
       "      <td>Passengers</td>\n",
       "      <td>2011</td>\n",
       "      <td>Dublin city services</td>\n",
       "      <td>Number (000)</td>\n",
       "      <td>116958.0</td>\n",
       "    </tr>\n",
       "    <tr>\n",
       "      <th>1</th>\n",
       "      <td>Passengers</td>\n",
       "      <td>2011</td>\n",
       "      <td>Provincial city and town services</td>\n",
       "      <td>Number (000)</td>\n",
       "      <td>16389.0</td>\n",
       "    </tr>\n",
       "    <tr>\n",
       "      <th>2</th>\n",
       "      <td>Passengers</td>\n",
       "      <td>2011</td>\n",
       "      <td>Other scheduled services</td>\n",
       "      <td>Number (000)</td>\n",
       "      <td>20112.0</td>\n",
       "    </tr>\n",
       "    <tr>\n",
       "      <th>3</th>\n",
       "      <td>Passengers</td>\n",
       "      <td>2011</td>\n",
       "      <td>School transport scheme</td>\n",
       "      <td>Number (000)</td>\n",
       "      <td>41814.0</td>\n",
       "    </tr>\n",
       "    <tr>\n",
       "      <th>4</th>\n",
       "      <td>Passengers</td>\n",
       "      <td>2012</td>\n",
       "      <td>Dublin city services</td>\n",
       "      <td>Number (000)</td>\n",
       "      <td>115198.0</td>\n",
       "    </tr>\n",
       "  </tbody>\n",
       "</table>\n",
       "</div>"
      ],
      "text/plain": [
       "  Statistic Label  Year                 Scheduled services          UNIT  \\\n",
       "0      Passengers  2011               Dublin city services  Number (000)   \n",
       "1      Passengers  2011  Provincial city and town services  Number (000)   \n",
       "2      Passengers  2011           Other scheduled services  Number (000)   \n",
       "3      Passengers  2011            School transport scheme  Number (000)   \n",
       "4      Passengers  2012               Dublin city services  Number (000)   \n",
       "\n",
       "      VALUE  \n",
       "0  116958.0  \n",
       "1   16389.0  \n",
       "2   20112.0  \n",
       "3   41814.0  \n",
       "4  115198.0  "
      ]
     },
     "execution_count": 145,
     "metadata": {},
     "output_type": "execute_result"
    }
   ],
   "source": [
    "# bus_services_df.head()\n",
    "display_head(bus_services_df)"
   ]
  },
  {
   "cell_type": "code",
   "execution_count": 146,
   "metadata": {},
   "outputs": [
    {
     "data": {
      "text/plain": [
       "(96, 5)"
      ]
     },
     "execution_count": 146,
     "metadata": {},
     "output_type": "execute_result"
    }
   ],
   "source": [
    "# bus_services_size = bus_services_df.size\n",
    "get_dataframe_size(bus_services_df)"
   ]
  },
  {
   "cell_type": "code",
   "execution_count": 147,
   "metadata": {},
   "outputs": [
    {
     "name": "stdout",
     "output_type": "stream",
     "text": [
      "Total number of elements in the DataFrame: 480\n"
     ]
    }
   ],
   "source": [
    "print(f'Total number of elements in the DataFrame: {get_dataframe_total_elements(bus_services_df)}')"
   ]
  },
  {
   "cell_type": "code",
   "execution_count": 148,
   "metadata": {},
   "outputs": [
    {
     "name": "stdout",
     "output_type": "stream",
     "text": [
      "<class 'pandas.core.frame.DataFrame'>\n",
      "RangeIndex: 96 entries, 0 to 95\n",
      "Data columns (total 5 columns):\n",
      " #   Column              Non-Null Count  Dtype  \n",
      "---  ------              --------------  -----  \n",
      " 0   Statistic Label     96 non-null     object \n",
      " 1   Year                96 non-null     int64  \n",
      " 2   Scheduled services  96 non-null     object \n",
      " 3   UNIT                96 non-null     object \n",
      " 4   VALUE               84 non-null     float64\n",
      "dtypes: float64(1), int64(1), object(3)\n",
      "memory usage: 3.9+ KB\n"
     ]
    }
   ],
   "source": [
    "print_dataframe_info(bus_services_df)"
   ]
  },
  {
   "cell_type": "code",
   "execution_count": 149,
   "metadata": {},
   "outputs": [
    {
     "data": {
      "text/html": [
       "<div>\n",
       "<style scoped>\n",
       "    .dataframe tbody tr th:only-of-type {\n",
       "        vertical-align: middle;\n",
       "    }\n",
       "\n",
       "    .dataframe tbody tr th {\n",
       "        vertical-align: top;\n",
       "    }\n",
       "\n",
       "    .dataframe thead th {\n",
       "        text-align: right;\n",
       "    }\n",
       "</style>\n",
       "<table border=\"1\" class=\"dataframe\">\n",
       "  <thead>\n",
       "    <tr style=\"text-align: right;\">\n",
       "      <th></th>\n",
       "      <th>Year</th>\n",
       "      <th>VALUE</th>\n",
       "    </tr>\n",
       "  </thead>\n",
       "  <tbody>\n",
       "    <tr>\n",
       "      <th>count</th>\n",
       "      <td>96.000000</td>\n",
       "      <td>84.000000</td>\n",
       "    </tr>\n",
       "    <tr>\n",
       "      <th>mean</th>\n",
       "      <td>2016.500000</td>\n",
       "      <td>46097.047619</td>\n",
       "    </tr>\n",
       "    <tr>\n",
       "      <th>std</th>\n",
       "      <td>3.470174</td>\n",
       "      <td>36166.611880</td>\n",
       "    </tr>\n",
       "    <tr>\n",
       "      <th>min</th>\n",
       "      <td>2011.000000</td>\n",
       "      <td>7664.000000</td>\n",
       "    </tr>\n",
       "    <tr>\n",
       "      <th>25%</th>\n",
       "      <td>2013.750000</td>\n",
       "      <td>17977.750000</td>\n",
       "    </tr>\n",
       "    <tr>\n",
       "      <th>50%</th>\n",
       "      <td>2016.500000</td>\n",
       "      <td>41078.000000</td>\n",
       "    </tr>\n",
       "    <tr>\n",
       "      <th>75%</th>\n",
       "      <td>2019.250000</td>\n",
       "      <td>64506.500000</td>\n",
       "    </tr>\n",
       "    <tr>\n",
       "      <th>max</th>\n",
       "      <td>2022.000000</td>\n",
       "      <td>143104.000000</td>\n",
       "    </tr>\n",
       "  </tbody>\n",
       "</table>\n",
       "</div>"
      ],
      "text/plain": [
       "              Year          VALUE\n",
       "count    96.000000      84.000000\n",
       "mean   2016.500000   46097.047619\n",
       "std       3.470174   36166.611880\n",
       "min    2011.000000    7664.000000\n",
       "25%    2013.750000   17977.750000\n",
       "50%    2016.500000   41078.000000\n",
       "75%    2019.250000   64506.500000\n",
       "max    2022.000000  143104.000000"
      ]
     },
     "execution_count": 149,
     "metadata": {},
     "output_type": "execute_result"
    }
   ],
   "source": [
    "describe_dataframe(bus_services_df)"
   ]
  },
  {
   "cell_type": "code",
   "execution_count": 150,
   "metadata": {},
   "outputs": [
    {
     "data": {
      "text/plain": [
       "(array(['Passengers', 'Vehicle kilometers'], dtype=object),\n",
       " array(['Dublin city services', 'Provincial city and town services',\n",
       "        'Other scheduled services', 'School transport scheme'],\n",
       "       dtype=object),\n",
       " array(['Number (000)', 'km (000)'], dtype=object))"
      ]
     },
     "execution_count": 150,
     "metadata": {},
     "output_type": "execute_result"
    }
   ],
   "source": [
    "unique_statistic_labels = bus_services_df['Statistic Label'].unique()\n",
    "unique_services = bus_services_df['Scheduled services'].unique()\n",
    "unique_units = bus_services_df['UNIT'].unique()\n",
    "\n",
    "unique_statistic_labels, unique_services, unique_units"
   ]
  },
  {
   "cell_type": "markdown",
   "metadata": {},
   "source": [
    "Categorical Data Analysis:\n",
    "Statistic Labels: Two categories - 'Passengers' and 'Vehicle kilometers'.\n",
    "Scheduled Services: Four types - 'Dublin city services', 'Provincial city and town services', 'Other scheduled services', 'School transport scheme'.\n",
    "Units: Two units - 'Number (000)' and 'km (000)'."
   ]
  },
  {
   "cell_type": "markdown",
   "metadata": {},
   "source": [
    "Since the data includes multiple types of measurements - passengers and kilometers, it's important to handle these different units appropriately when analyzing and visualizing. "
   ]
  },
  {
   "cell_type": "code",
   "execution_count": 151,
   "metadata": {},
   "outputs": [],
   "source": [
    "def convert_to_millions(value_in_thousands):\n",
    "    return value_in_thousands / 1000"
   ]
  },
  {
   "cell_type": "code",
   "execution_count": 152,
   "metadata": {},
   "outputs": [
    {
     "data": {
      "image/png": "[encoded data removed]",
      "text/plain": [
       "<Figure size 1200x600 with 1 Axes>"
      ]
     },
     "metadata": {},
     "output_type": "display_data"
    },
    {
     "data": {
      "image/png": "[encoded data removed]",
      "text/plain": [
       "<Figure size 1200x600 with 1 Axes>"
      ]
     },
     "metadata": {},
     "output_type": "display_data"
    }
   ],
   "source": [
    "# Creating separate visualizations for each 'Statistic Label' after conversion\n",
    "for label in bus_services_df['Statistic Label'].unique():\n",
    "    subset = bus_services_df[bus_services_df['Statistic Label'] == label]\n",
    "    year_wise_data = subset.groupby('Year')['VALUE'].sum().apply(convert_to_millions)\n",
    "\n",
    "    # Visualization of year-wise trends for each 'Statistic Label'\n",
    "    plt.figure(figsize=(12, 6))\n",
    "    sns.lineplot(data=year_wise_data, marker='o')\n",
    "    plt.title(f'Year-wise Trends in Transport Data: {label} (Values in Millions)')\n",
    "    plt.ylabel('Total Value (Millions)')\n",
    "    plt.xlabel('Year')\n",
    "    plt.grid(True)\n",
    "    plt.xticks(year_wise_data.index, rotation=45)\n",
    "    plt.tight_layout()\n",
    "    plt.show()\n"
   ]
  },
  {
   "cell_type": "markdown",
   "metadata": {},
   "source": [
    "Data Cleaning and checking for duplicates"
   ]
  },
  {
   "cell_type": "code",
   "execution_count": 153,
   "metadata": {},
   "outputs": [
    {
     "name": "stdout",
     "output_type": "stream",
     "text": [
      "Number of duplicate rows in the dataset: 0.\n"
     ]
    }
   ],
   "source": [
    "# population_duplicates = bus_services_df.duplicated().sum()\n",
    "# print(f\"Number of duplicate rows in the population dataset is {population_duplicates}.\")\n",
    "\n",
    "print(f'Number of duplicate rows in the dataset: {count_duplicated_rows(bus_services_df)}.')\n",
    "      "
   ]
  },
  {
   "cell_type": "code",
   "execution_count": 154,
   "metadata": {},
   "outputs": [
    {
     "data": {
      "text/plain": [
       "Statistic Label        0\n",
       "Year                   0\n",
       "Scheduled services     0\n",
       "UNIT                   0\n",
       "VALUE                 12\n",
       "dtype: int64"
      ]
     },
     "execution_count": 154,
     "metadata": {},
     "output_type": "execute_result"
    }
   ],
   "source": [
    "# missing_data = bus_services_df.isnull().sum()\n",
    "# missing_data\n",
    "\n",
    "count_nan_values(bus_services_df)"
   ]
  },
  {
   "cell_type": "code",
   "execution_count": 155,
   "metadata": {},
   "outputs": [
    {
     "data": {
      "text/html": [
       "<div>\n",
       "<style scoped>\n",
       "    .dataframe tbody tr th:only-of-type {\n",
       "        vertical-align: middle;\n",
       "    }\n",
       "\n",
       "    .dataframe tbody tr th {\n",
       "        vertical-align: top;\n",
       "    }\n",
       "\n",
       "    .dataframe thead th {\n",
       "        text-align: right;\n",
       "    }\n",
       "</style>\n",
       "<table border=\"1\" class=\"dataframe\">\n",
       "  <thead>\n",
       "    <tr style=\"text-align: right;\">\n",
       "      <th></th>\n",
       "      <th>Statistic Label</th>\n",
       "      <th>Year</th>\n",
       "      <th>Scheduled services</th>\n",
       "      <th>UNIT</th>\n",
       "      <th>VALUE</th>\n",
       "    </tr>\n",
       "  </thead>\n",
       "  <tbody>\n",
       "    <tr>\n",
       "      <th>51</th>\n",
       "      <td>Vehicle kilometers</td>\n",
       "      <td>2011</td>\n",
       "      <td>School transport scheme</td>\n",
       "      <td>km (000)</td>\n",
       "      <td>NaN</td>\n",
       "    </tr>\n",
       "    <tr>\n",
       "      <th>55</th>\n",
       "      <td>Vehicle kilometers</td>\n",
       "      <td>2012</td>\n",
       "      <td>School transport scheme</td>\n",
       "      <td>km (000)</td>\n",
       "      <td>NaN</td>\n",
       "    </tr>\n",
       "    <tr>\n",
       "      <th>59</th>\n",
       "      <td>Vehicle kilometers</td>\n",
       "      <td>2013</td>\n",
       "      <td>School transport scheme</td>\n",
       "      <td>km (000)</td>\n",
       "      <td>NaN</td>\n",
       "    </tr>\n",
       "    <tr>\n",
       "      <th>63</th>\n",
       "      <td>Vehicle kilometers</td>\n",
       "      <td>2014</td>\n",
       "      <td>School transport scheme</td>\n",
       "      <td>km (000)</td>\n",
       "      <td>NaN</td>\n",
       "    </tr>\n",
       "    <tr>\n",
       "      <th>67</th>\n",
       "      <td>Vehicle kilometers</td>\n",
       "      <td>2015</td>\n",
       "      <td>School transport scheme</td>\n",
       "      <td>km (000)</td>\n",
       "      <td>NaN</td>\n",
       "    </tr>\n",
       "    <tr>\n",
       "      <th>71</th>\n",
       "      <td>Vehicle kilometers</td>\n",
       "      <td>2016</td>\n",
       "      <td>School transport scheme</td>\n",
       "      <td>km (000)</td>\n",
       "      <td>NaN</td>\n",
       "    </tr>\n",
       "    <tr>\n",
       "      <th>75</th>\n",
       "      <td>Vehicle kilometers</td>\n",
       "      <td>2017</td>\n",
       "      <td>School transport scheme</td>\n",
       "      <td>km (000)</td>\n",
       "      <td>NaN</td>\n",
       "    </tr>\n",
       "    <tr>\n",
       "      <th>79</th>\n",
       "      <td>Vehicle kilometers</td>\n",
       "      <td>2018</td>\n",
       "      <td>School transport scheme</td>\n",
       "      <td>km (000)</td>\n",
       "      <td>NaN</td>\n",
       "    </tr>\n",
       "    <tr>\n",
       "      <th>83</th>\n",
       "      <td>Vehicle kilometers</td>\n",
       "      <td>2019</td>\n",
       "      <td>School transport scheme</td>\n",
       "      <td>km (000)</td>\n",
       "      <td>NaN</td>\n",
       "    </tr>\n",
       "    <tr>\n",
       "      <th>87</th>\n",
       "      <td>Vehicle kilometers</td>\n",
       "      <td>2020</td>\n",
       "      <td>School transport scheme</td>\n",
       "      <td>km (000)</td>\n",
       "      <td>NaN</td>\n",
       "    </tr>\n",
       "    <tr>\n",
       "      <th>91</th>\n",
       "      <td>Vehicle kilometers</td>\n",
       "      <td>2021</td>\n",
       "      <td>School transport scheme</td>\n",
       "      <td>km (000)</td>\n",
       "      <td>NaN</td>\n",
       "    </tr>\n",
       "    <tr>\n",
       "      <th>95</th>\n",
       "      <td>Vehicle kilometers</td>\n",
       "      <td>2022</td>\n",
       "      <td>School transport scheme</td>\n",
       "      <td>km (000)</td>\n",
       "      <td>NaN</td>\n",
       "    </tr>\n",
       "  </tbody>\n",
       "</table>\n",
       "</div>"
      ],
      "text/plain": [
       "       Statistic Label  Year       Scheduled services      UNIT  VALUE\n",
       "51  Vehicle kilometers  2011  School transport scheme  km (000)    NaN\n",
       "55  Vehicle kilometers  2012  School transport scheme  km (000)    NaN\n",
       "59  Vehicle kilometers  2013  School transport scheme  km (000)    NaN\n",
       "63  Vehicle kilometers  2014  School transport scheme  km (000)    NaN\n",
       "67  Vehicle kilometers  2015  School transport scheme  km (000)    NaN\n",
       "71  Vehicle kilometers  2016  School transport scheme  km (000)    NaN\n",
       "75  Vehicle kilometers  2017  School transport scheme  km (000)    NaN\n",
       "79  Vehicle kilometers  2018  School transport scheme  km (000)    NaN\n",
       "83  Vehicle kilometers  2019  School transport scheme  km (000)    NaN\n",
       "87  Vehicle kilometers  2020  School transport scheme  km (000)    NaN\n",
       "91  Vehicle kilometers  2021  School transport scheme  km (000)    NaN\n",
       "95  Vehicle kilometers  2022  School transport scheme  km (000)    NaN"
      ]
     },
     "execution_count": 155,
     "metadata": {},
     "output_type": "execute_result"
    }
   ],
   "source": [
    "missing_data_rows = bus_services_df[bus_services_df.isnull().any(axis=1)]\n",
    "\n",
    "missing_data_rows"
   ]
  },
  {
   "cell_type": "markdown",
   "metadata": {},
   "source": [
    "Observations:\n",
    "\n",
    "Pattern of Missing Data: All missing values are in the 'VALUE' column for 'Vehicle kilometers' related to the 'School transport scheme'.\n",
    "Consistency Across Years: This missing data is consistently observed across all years in the dataset for this particular category."
   ]
  },
  {
   "cell_type": "markdown",
   "metadata": {},
   "source": [
    "Choosing to exclude the rows with missing data is a valid approach, especially if the missing data pertains to a specific segment that is not central to your analysis, or if imputation could introduce significant bias or inaccuracies. In this case, since the missing values are all related to 'Vehicle kilometers' for the 'School transport scheme' across various years, excluding these rows should have a limited impact on analyses focusing on other aspects of the dataset."
   ]
  },
  {
   "cell_type": "code",
   "execution_count": 156,
   "metadata": {},
   "outputs": [],
   "source": [
    "bus_services_df = bus_services_df.dropna()"
   ]
  },
  {
   "cell_type": "code",
   "execution_count": 157,
   "metadata": {},
   "outputs": [
    {
     "data": {
      "text/html": [
       "<div>\n",
       "<style scoped>\n",
       "    .dataframe tbody tr th:only-of-type {\n",
       "        vertical-align: middle;\n",
       "    }\n",
       "\n",
       "    .dataframe tbody tr th {\n",
       "        vertical-align: top;\n",
       "    }\n",
       "\n",
       "    .dataframe thead th {\n",
       "        text-align: right;\n",
       "    }\n",
       "</style>\n",
       "<table border=\"1\" class=\"dataframe\">\n",
       "  <thead>\n",
       "    <tr style=\"text-align: right;\">\n",
       "      <th></th>\n",
       "      <th>Statistic Label</th>\n",
       "      <th>Year</th>\n",
       "      <th>Scheduled services</th>\n",
       "      <th>UNIT</th>\n",
       "      <th>VALUE</th>\n",
       "    </tr>\n",
       "  </thead>\n",
       "  <tbody>\n",
       "    <tr>\n",
       "      <th>0</th>\n",
       "      <td>Passengers</td>\n",
       "      <td>2011</td>\n",
       "      <td>Dublin city services</td>\n",
       "      <td>Number (000)</td>\n",
       "      <td>116958.0</td>\n",
       "    </tr>\n",
       "    <tr>\n",
       "      <th>1</th>\n",
       "      <td>Passengers</td>\n",
       "      <td>2011</td>\n",
       "      <td>Provincial city and town services</td>\n",
       "      <td>Number (000)</td>\n",
       "      <td>16389.0</td>\n",
       "    </tr>\n",
       "    <tr>\n",
       "      <th>2</th>\n",
       "      <td>Passengers</td>\n",
       "      <td>2011</td>\n",
       "      <td>Other scheduled services</td>\n",
       "      <td>Number (000)</td>\n",
       "      <td>20112.0</td>\n",
       "    </tr>\n",
       "    <tr>\n",
       "      <th>3</th>\n",
       "      <td>Passengers</td>\n",
       "      <td>2011</td>\n",
       "      <td>School transport scheme</td>\n",
       "      <td>Number (000)</td>\n",
       "      <td>41814.0</td>\n",
       "    </tr>\n",
       "    <tr>\n",
       "      <th>4</th>\n",
       "      <td>Passengers</td>\n",
       "      <td>2012</td>\n",
       "      <td>Dublin city services</td>\n",
       "      <td>Number (000)</td>\n",
       "      <td>115198.0</td>\n",
       "    </tr>\n",
       "    <tr>\n",
       "      <th>...</th>\n",
       "      <td>...</td>\n",
       "      <td>...</td>\n",
       "      <td>...</td>\n",
       "      <td>...</td>\n",
       "      <td>...</td>\n",
       "    </tr>\n",
       "    <tr>\n",
       "      <th>89</th>\n",
       "      <td>Vehicle kilometers</td>\n",
       "      <td>2021</td>\n",
       "      <td>Provincial city and town services</td>\n",
       "      <td>km (000)</td>\n",
       "      <td>13967.0</td>\n",
       "    </tr>\n",
       "    <tr>\n",
       "      <th>90</th>\n",
       "      <td>Vehicle kilometers</td>\n",
       "      <td>2021</td>\n",
       "      <td>Other scheduled services</td>\n",
       "      <td>km (000)</td>\n",
       "      <td>58845.0</td>\n",
       "    </tr>\n",
       "    <tr>\n",
       "      <th>92</th>\n",
       "      <td>Vehicle kilometers</td>\n",
       "      <td>2022</td>\n",
       "      <td>Dublin city services</td>\n",
       "      <td>km (000)</td>\n",
       "      <td>46172.0</td>\n",
       "    </tr>\n",
       "    <tr>\n",
       "      <th>93</th>\n",
       "      <td>Vehicle kilometers</td>\n",
       "      <td>2022</td>\n",
       "      <td>Provincial city and town services</td>\n",
       "      <td>km (000)</td>\n",
       "      <td>13918.0</td>\n",
       "    </tr>\n",
       "    <tr>\n",
       "      <th>94</th>\n",
       "      <td>Vehicle kilometers</td>\n",
       "      <td>2022</td>\n",
       "      <td>Other scheduled services</td>\n",
       "      <td>km (000)</td>\n",
       "      <td>63665.0</td>\n",
       "    </tr>\n",
       "  </tbody>\n",
       "</table>\n",
       "<p>84 rows × 5 columns</p>\n",
       "</div>"
      ],
      "text/plain": [
       "       Statistic Label  Year                 Scheduled services          UNIT  \\\n",
       "0           Passengers  2011               Dublin city services  Number (000)   \n",
       "1           Passengers  2011  Provincial city and town services  Number (000)   \n",
       "2           Passengers  2011           Other scheduled services  Number (000)   \n",
       "3           Passengers  2011            School transport scheme  Number (000)   \n",
       "4           Passengers  2012               Dublin city services  Number (000)   \n",
       "..                 ...   ...                                ...           ...   \n",
       "89  Vehicle kilometers  2021  Provincial city and town services      km (000)   \n",
       "90  Vehicle kilometers  2021           Other scheduled services      km (000)   \n",
       "92  Vehicle kilometers  2022               Dublin city services      km (000)   \n",
       "93  Vehicle kilometers  2022  Provincial city and town services      km (000)   \n",
       "94  Vehicle kilometers  2022           Other scheduled services      km (000)   \n",
       "\n",
       "       VALUE  \n",
       "0   116958.0  \n",
       "1    16389.0  \n",
       "2    20112.0  \n",
       "3    41814.0  \n",
       "4   115198.0  \n",
       "..       ...  \n",
       "89   13967.0  \n",
       "90   58845.0  \n",
       "92   46172.0  \n",
       "93   13918.0  \n",
       "94   63665.0  \n",
       "\n",
       "[84 rows x 5 columns]"
      ]
     },
     "execution_count": 157,
     "metadata": {},
     "output_type": "execute_result"
    }
   ],
   "source": [
    "bus_services_df"
   ]
  },
  {
   "cell_type": "code",
   "execution_count": 158,
   "metadata": {},
   "outputs": [
    {
     "name": "stdout",
     "output_type": "stream",
     "text": [
      "<class 'pandas.core.frame.DataFrame'>\n",
      "Index: 84 entries, 0 to 94\n",
      "Data columns (total 5 columns):\n",
      " #   Column              Non-Null Count  Dtype  \n",
      "---  ------              --------------  -----  \n",
      " 0   Statistic Label     84 non-null     object \n",
      " 1   Year                84 non-null     int64  \n",
      " 2   Scheduled services  84 non-null     object \n",
      " 3   UNIT                84 non-null     object \n",
      " 4   VALUE               84 non-null     float64\n",
      "dtypes: float64(1), int64(1), object(3)\n",
      "memory usage: 3.9+ KB\n"
     ]
    },
    {
     "data": {
      "text/html": [
       "<div>\n",
       "<style scoped>\n",
       "    .dataframe tbody tr th:only-of-type {\n",
       "        vertical-align: middle;\n",
       "    }\n",
       "\n",
       "    .dataframe tbody tr th {\n",
       "        vertical-align: top;\n",
       "    }\n",
       "\n",
       "    .dataframe thead th {\n",
       "        text-align: right;\n",
       "    }\n",
       "</style>\n",
       "<table border=\"1\" class=\"dataframe\">\n",
       "  <thead>\n",
       "    <tr style=\"text-align: right;\">\n",
       "      <th></th>\n",
       "      <th>Statistic Label</th>\n",
       "      <th>Year</th>\n",
       "      <th>Scheduled services</th>\n",
       "      <th>UNIT</th>\n",
       "      <th>VALUE</th>\n",
       "    </tr>\n",
       "  </thead>\n",
       "  <tbody>\n",
       "    <tr>\n",
       "      <th>0</th>\n",
       "      <td>Passengers</td>\n",
       "      <td>2011</td>\n",
       "      <td>Dublin city services</td>\n",
       "      <td>Number (000)</td>\n",
       "      <td>116958.0</td>\n",
       "    </tr>\n",
       "    <tr>\n",
       "      <th>1</th>\n",
       "      <td>Passengers</td>\n",
       "      <td>2011</td>\n",
       "      <td>Provincial city and town services</td>\n",
       "      <td>Number (000)</td>\n",
       "      <td>16389.0</td>\n",
       "    </tr>\n",
       "    <tr>\n",
       "      <th>2</th>\n",
       "      <td>Passengers</td>\n",
       "      <td>2011</td>\n",
       "      <td>Other scheduled services</td>\n",
       "      <td>Number (000)</td>\n",
       "      <td>20112.0</td>\n",
       "    </tr>\n",
       "    <tr>\n",
       "      <th>3</th>\n",
       "      <td>Passengers</td>\n",
       "      <td>2011</td>\n",
       "      <td>School transport scheme</td>\n",
       "      <td>Number (000)</td>\n",
       "      <td>41814.0</td>\n",
       "    </tr>\n",
       "    <tr>\n",
       "      <th>4</th>\n",
       "      <td>Passengers</td>\n",
       "      <td>2012</td>\n",
       "      <td>Dublin city services</td>\n",
       "      <td>Number (000)</td>\n",
       "      <td>115198.0</td>\n",
       "    </tr>\n",
       "  </tbody>\n",
       "</table>\n",
       "</div>"
      ],
      "text/plain": [
       "  Statistic Label  Year                 Scheduled services          UNIT  \\\n",
       "0      Passengers  2011               Dublin city services  Number (000)   \n",
       "1      Passengers  2011  Provincial city and town services  Number (000)   \n",
       "2      Passengers  2011           Other scheduled services  Number (000)   \n",
       "3      Passengers  2011            School transport scheme  Number (000)   \n",
       "4      Passengers  2012               Dublin city services  Number (000)   \n",
       "\n",
       "      VALUE  \n",
       "0  116958.0  \n",
       "1   16389.0  \n",
       "2   20112.0  \n",
       "3   41814.0  \n",
       "4  115198.0  "
      ]
     },
     "execution_count": 158,
     "metadata": {},
     "output_type": "execute_result"
    }
   ],
   "source": [
    "# bus_services_df_info = bus_services_df.info()\n",
    "# bus_services_df_head = bus_services_df.head()\n",
    "\n",
    "# bus_services_df_info, bus_services_df_head\n",
    "\n",
    "\n",
    "print_dataframe_info(bus_services_df)\n",
    "display_head(bus_services_df)"
   ]
  },
  {
   "cell_type": "markdown",
   "metadata": {},
   "source": [
    "Number of Entries: Reduced to 84 rows (from the original 96).\n",
    "Columns: Still consists of 5 columns - 'Statistic Label', 'Year', 'Scheduled services', 'UNIT', and 'VALUE'.\n",
    "Data Types: Remain the same, with no missing values in any column."
   ]
  },
  {
   "cell_type": "markdown",
   "metadata": {},
   "source": [
    "Data segmentation involves dividing the dataset into meaningful subsets for more targeted analysis. The segmentation can be based on 'Statistic Label', 'Scheduled services', and 'UNIT'. This will allow us to analyze trends and patterns within each specific category and service type, providing more detailed and context-specific insights."
   ]
  },
  {
   "cell_type": "code",
   "execution_count": 159,
   "metadata": {},
   "outputs": [
    {
     "data": {
      "text/plain": [
       "dict_keys(['Passengers_Dublin city services', 'Passengers_Provincial city and town services', 'Passengers_Other scheduled services', 'Passengers_School transport scheme', 'Vehicle kilometers_Dublin city services', 'Vehicle kilometers_Provincial city and town services', 'Vehicle kilometers_Other scheduled services'])"
      ]
     },
     "execution_count": 159,
     "metadata": {},
     "output_type": "execute_result"
    }
   ],
   "source": [
    "# Identifying unique categories for segmentation\n",
    "unique_statistic_labels = bus_services_df['Statistic Label'].unique()\n",
    "unique_services = bus_services_df['Scheduled services'].unique()\n",
    "\n",
    "# Creating a dictionary to store segmented datasets\n",
    "segmented_datasets = {}\n",
    "\n",
    "for label in unique_statistic_labels:\n",
    "    for service in unique_services:\n",
    "        # Creating a subset for each combination of statistic label and service\n",
    "        subset = bus_services_df[(bus_services_df['Statistic Label'] == label) & (bus_services_df['Scheduled services'] == service)]\n",
    "        # Storing the subset in the dictionary if it's not empty\n",
    "        if not subset.empty:\n",
    "            segmented_datasets[f\"{label}_{service}\"] = subset\n",
    "\n",
    "# Displaying the keys of the dictionary to show the created segments\n",
    "segmented_datasets.keys()\n"
   ]
  },
  {
   "cell_type": "code",
   "execution_count": 160,
   "metadata": {},
   "outputs": [
    {
     "data": {
      "image/png": "[encoded data removed]",
      "text/plain": [
       "<Figure size 1200x600 with 1 Axes>"
      ]
     },
     "metadata": {},
     "output_type": "display_data"
    }
   ],
   "source": [
    "total_passengers_per_year = bus_services_df[bus_services_df['Statistic Label'] == 'Passengers'].groupby('Year')['VALUE'].sum().apply(convert_to_millions)\n",
    "\n",
    "# Visualization using a bar chart\n",
    "plt.figure(figsize=(12, 6))\n",
    "total_passengers_per_year.plot(kind='bar', color='skyblue')\n",
    "plt.title('Total Number of Passengers Across All Scheduled Services Per Year')\n",
    "plt.xlabel('Year')\n",
    "plt.ylabel('Total Number of Passengers (in Millions)')\n",
    "plt.xticks(rotation=45)\n",
    "plt.grid(axis='y')\n",
    "plt.tight_layout()\n",
    "\n",
    "plt.show()"
   ]
  },
  {
   "cell_type": "code",
   "execution_count": 161,
   "metadata": {},
   "outputs": [
    {
     "data": {
      "text/html": [
       "<div>\n",
       "<style scoped>\n",
       "    .dataframe tbody tr th:only-of-type {\n",
       "        vertical-align: middle;\n",
       "    }\n",
       "\n",
       "    .dataframe tbody tr th {\n",
       "        vertical-align: top;\n",
       "    }\n",
       "\n",
       "    .dataframe thead th {\n",
       "        text-align: right;\n",
       "    }\n",
       "</style>\n",
       "<table border=\"1\" class=\"dataframe\">\n",
       "  <thead>\n",
       "    <tr style=\"text-align: right;\">\n",
       "      <th></th>\n",
       "      <th>Statistic Label</th>\n",
       "      <th>Year</th>\n",
       "      <th>Scheduled services</th>\n",
       "      <th>UNIT</th>\n",
       "      <th>VALUE</th>\n",
       "    </tr>\n",
       "  </thead>\n",
       "  <tbody>\n",
       "    <tr>\n",
       "      <th>0</th>\n",
       "      <td>Passengers</td>\n",
       "      <td>2011</td>\n",
       "      <td>Dublin city services</td>\n",
       "      <td>Number (000)</td>\n",
       "      <td>116958.0</td>\n",
       "    </tr>\n",
       "    <tr>\n",
       "      <th>1</th>\n",
       "      <td>Passengers</td>\n",
       "      <td>2011</td>\n",
       "      <td>Provincial city and town services</td>\n",
       "      <td>Number (000)</td>\n",
       "      <td>16389.0</td>\n",
       "    </tr>\n",
       "    <tr>\n",
       "      <th>2</th>\n",
       "      <td>Passengers</td>\n",
       "      <td>2011</td>\n",
       "      <td>Other scheduled services</td>\n",
       "      <td>Number (000)</td>\n",
       "      <td>20112.0</td>\n",
       "    </tr>\n",
       "    <tr>\n",
       "      <th>3</th>\n",
       "      <td>Passengers</td>\n",
       "      <td>2011</td>\n",
       "      <td>School transport scheme</td>\n",
       "      <td>Number (000)</td>\n",
       "      <td>41814.0</td>\n",
       "    </tr>\n",
       "    <tr>\n",
       "      <th>4</th>\n",
       "      <td>Passengers</td>\n",
       "      <td>2012</td>\n",
       "      <td>Dublin city services</td>\n",
       "      <td>Number (000)</td>\n",
       "      <td>115198.0</td>\n",
       "    </tr>\n",
       "    <tr>\n",
       "      <th>...</th>\n",
       "      <td>...</td>\n",
       "      <td>...</td>\n",
       "      <td>...</td>\n",
       "      <td>...</td>\n",
       "      <td>...</td>\n",
       "    </tr>\n",
       "    <tr>\n",
       "      <th>89</th>\n",
       "      <td>Vehicle kilometers</td>\n",
       "      <td>2021</td>\n",
       "      <td>Provincial city and town services</td>\n",
       "      <td>km (000)</td>\n",
       "      <td>13967.0</td>\n",
       "    </tr>\n",
       "    <tr>\n",
       "      <th>90</th>\n",
       "      <td>Vehicle kilometers</td>\n",
       "      <td>2021</td>\n",
       "      <td>Other scheduled services</td>\n",
       "      <td>km (000)</td>\n",
       "      <td>58845.0</td>\n",
       "    </tr>\n",
       "    <tr>\n",
       "      <th>92</th>\n",
       "      <td>Vehicle kilometers</td>\n",
       "      <td>2022</td>\n",
       "      <td>Dublin city services</td>\n",
       "      <td>km (000)</td>\n",
       "      <td>46172.0</td>\n",
       "    </tr>\n",
       "    <tr>\n",
       "      <th>93</th>\n",
       "      <td>Vehicle kilometers</td>\n",
       "      <td>2022</td>\n",
       "      <td>Provincial city and town services</td>\n",
       "      <td>km (000)</td>\n",
       "      <td>13918.0</td>\n",
       "    </tr>\n",
       "    <tr>\n",
       "      <th>94</th>\n",
       "      <td>Vehicle kilometers</td>\n",
       "      <td>2022</td>\n",
       "      <td>Other scheduled services</td>\n",
       "      <td>km (000)</td>\n",
       "      <td>63665.0</td>\n",
       "    </tr>\n",
       "  </tbody>\n",
       "</table>\n",
       "<p>84 rows × 5 columns</p>\n",
       "</div>"
      ],
      "text/plain": [
       "       Statistic Label  Year                 Scheduled services          UNIT  \\\n",
       "0           Passengers  2011               Dublin city services  Number (000)   \n",
       "1           Passengers  2011  Provincial city and town services  Number (000)   \n",
       "2           Passengers  2011           Other scheduled services  Number (000)   \n",
       "3           Passengers  2011            School transport scheme  Number (000)   \n",
       "4           Passengers  2012               Dublin city services  Number (000)   \n",
       "..                 ...   ...                                ...           ...   \n",
       "89  Vehicle kilometers  2021  Provincial city and town services      km (000)   \n",
       "90  Vehicle kilometers  2021           Other scheduled services      km (000)   \n",
       "92  Vehicle kilometers  2022               Dublin city services      km (000)   \n",
       "93  Vehicle kilometers  2022  Provincial city and town services      km (000)   \n",
       "94  Vehicle kilometers  2022           Other scheduled services      km (000)   \n",
       "\n",
       "       VALUE  \n",
       "0   116958.0  \n",
       "1    16389.0  \n",
       "2    20112.0  \n",
       "3    41814.0  \n",
       "4   115198.0  \n",
       "..       ...  \n",
       "89   13967.0  \n",
       "90   58845.0  \n",
       "92   46172.0  \n",
       "93   13918.0  \n",
       "94   63665.0  \n",
       "\n",
       "[84 rows x 5 columns]"
      ]
     },
     "execution_count": 161,
     "metadata": {},
     "output_type": "execute_result"
    }
   ],
   "source": [
    "bus_services_df"
   ]
  },
  {
   "cell_type": "code",
   "execution_count": 162,
   "metadata": {},
   "outputs": [
    {
     "data": {
      "application/vnd.plotly.v1+json": {
       "config": {
        "plotlyServerURL": "https://plot.ly"
       },
       "data": [
        {
         "alignmentgroup": "True",
         "hovertemplate": "Year: %{x}<br>Number of Bus Passengers: %{y:.0f}M",
         "legendgroup": "",
         "marker": {
          "color": "skyblue",
          "line": {
           "color": "blue",
           "width": 1.5
          },
          "pattern": {
           "shape": ""
          }
         },
         "name": "",
         "offsetgroup": "",
         "opacity": 0.8,
         "orientation": "v",
         "showlegend": false,
         "textposition": "auto",
         "type": "bar",
         "x": [
          2011,
          2012,
          2013,
          2014,
          2015,
          2016,
          2017,
          2018,
          2019,
          2020,
          2021,
          2022
         ],
         "xaxis": "x",
         "y": [
          195.273,
          192.37,
          191.111,
          197.39,
          200.994,
          205.571,
          217.605,
          226.745,
          227.698,
          120.225,
          118.641,
          211.528
         ],
         "yaxis": "y"
        }
       ],
       "layout": {
        "barmode": "relative",
        "hovermode": "x",
        "legend": {
         "tracegroupgap": 0
        },
        "showlegend": false,
        "template": {
         "data": {
          "bar": [
           {
            "error_x": {
             "color": "#2a3f5f"
            },
            "error_y": {
             "color": "#2a3f5f"
            },
            "marker": {
             "line": {
              "color": "#E5ECF6",
              "width": 0.5
             },
             "pattern": {
              "fillmode": "overlay",
              "size": 10,
              "solidity": 0.2
             }
            },
            "type": "bar"
           }
          ],
          "barpolar": [
           {
            "marker": {
             "line": {
              "color": "#E5ECF6",
              "width": 0.5
             },
             "pattern": {
              "fillmode": "overlay",
              "size": 10,
              "solidity": 0.2
             }
            },
            "type": "barpolar"
           }
          ],
          "carpet": [
           {
            "aaxis": {
             "endlinecolor": "#2a3f5f",
             "gridcolor": "white",
             "linecolor": "white",
             "minorgridcolor": "white",
             "startlinecolor": "#2a3f5f"
            },
            "baxis": {
             "endlinecolor": "#2a3f5f",
             "gridcolor": "white",
             "linecolor": "white",
             "minorgridcolor": "white",
             "startlinecolor": "#2a3f5f"
            },
            "type": "carpet"
           }
          ],
          "choropleth": [
           {
            "colorbar": {
             "outlinewidth": 0,
             "ticks": ""
            },
            "type": "choropleth"
           }
          ],
          "contour": [
           {
            "colorbar": {
             "outlinewidth": 0,
             "ticks": ""
            },
            "colorscale": [
             [
              0,
              "#0d0887"
             ],
             [
              0.1111111111111111,
              "#46039f"
             ],
             [
              0.2222222222222222,
              "#7201a8"
             ],
             [
              0.3333333333333333,
              "#9c179e"
             ],
             [
              0.4444444444444444,
              "#bd3786"
             ],
             [
              0.5555555555555556,
              "#d8576b"
             ],
             [
              0.6666666666666666,
              "#ed7953"
             ],
             [
              0.7777777777777778,
              "#fb9f3a"
             ],
             [
              0.8888888888888888,
              "#fdca26"
             ],
             [
              1,
              "#f0f921"
             ]
            ],
            "type": "contour"
           }
          ],
          "contourcarpet": [
           {
            "colorbar": {
             "outlinewidth": 0,
             "ticks": ""
            },
            "type": "contourcarpet"
           }
          ],
          "heatmap": [
           {
            "colorbar": {
             "outlinewidth": 0,
             "ticks": ""
            },
            "colorscale": [
             [
              0,
              "#0d0887"
             ],
             [
              0.1111111111111111,
              "#46039f"
             ],
             [
              0.2222222222222222,
              "#7201a8"
             ],
             [
              0.3333333333333333,
              "#9c179e"
             ],
             [
              0.4444444444444444,
              "#bd3786"
             ],
             [
              0.5555555555555556,
              "#d8576b"
             ],
             [
              0.6666666666666666,
              "#ed7953"
             ],
             [
              0.7777777777777778,
              "#fb9f3a"
             ],
             [
              0.8888888888888888,
              "#fdca26"
             ],
             [
              1,
              "#f0f921"
             ]
            ],
            "type": "heatmap"
           }
          ],
          "heatmapgl": [
           {
            "colorbar": {
             "outlinewidth": 0,
             "ticks": ""
            },
            "colorscale": [
             [
              0,
              "#0d0887"
             ],
             [
              0.1111111111111111,
              "#46039f"
             ],
             [
              0.2222222222222222,
              "#7201a8"
             ],
             [
              0.3333333333333333,
              "#9c179e"
             ],
             [
              0.4444444444444444,
              "#bd3786"
             ],
             [
              0.5555555555555556,
              "#d8576b"
             ],
             [
              0.6666666666666666,
              "#ed7953"
             ],
             [
              0.7777777777777778,
              "#fb9f3a"
             ],
             [
              0.8888888888888888,
              "#fdca26"
             ],
             [
              1,
              "#f0f921"
             ]
            ],
            "type": "heatmapgl"
           }
          ],
          "histogram": [
           {
            "marker": {
             "pattern": {
              "fillmode": "overlay",
              "size": 10,
              "solidity": 0.2
             }
            },
            "type": "histogram"
           }
          ],
          "histogram2d": [
           {
            "colorbar": {
             "outlinewidth": 0,
             "ticks": ""
            },
            "colorscale": [
             [
              0,
              "#0d0887"
             ],
             [
              0.1111111111111111,
              "#46039f"
             ],
             [
              0.2222222222222222,
              "#7201a8"
             ],
             [
              0.3333333333333333,
              "#9c179e"
             ],
             [
              0.4444444444444444,
              "#bd3786"
             ],
             [
              0.5555555555555556,
              "#d8576b"
             ],
             [
              0.6666666666666666,
              "#ed7953"
             ],
             [
              0.7777777777777778,
              "#fb9f3a"
             ],
             [
              0.8888888888888888,
              "#fdca26"
             ],
             [
              1,
              "#f0f921"
             ]
            ],
            "type": "histogram2d"
           }
          ],
          "histogram2dcontour": [
           {
            "colorbar": {
             "outlinewidth": 0,
             "ticks": ""
            },
            "colorscale": [
             [
              0,
              "#0d0887"
             ],
             [
              0.1111111111111111,
              "#46039f"
             ],
             [
              0.2222222222222222,
              "#7201a8"
             ],
             [
              0.3333333333333333,
              "#9c179e"
             ],
             [
              0.4444444444444444,
              "#bd3786"
             ],
             [
              0.5555555555555556,
              "#d8576b"
             ],
             [
              0.6666666666666666,
              "#ed7953"
             ],
             [
              0.7777777777777778,
              "#fb9f3a"
             ],
             [
              0.8888888888888888,
              "#fdca26"
             ],
             [
              1,
              "#f0f921"
             ]
            ],
            "type": "histogram2dcontour"
           }
          ],
          "mesh3d": [
           {
            "colorbar": {
             "outlinewidth": 0,
             "ticks": ""
            },
            "type": "mesh3d"
           }
          ],
          "parcoords": [
           {
            "line": {
             "colorbar": {
              "outlinewidth": 0,
              "ticks": ""
             }
            },
            "type": "parcoords"
           }
          ],
          "pie": [
           {
            "automargin": true,
            "type": "pie"
           }
          ],
          "scatter": [
           {
            "fillpattern": {
             "fillmode": "overlay",
             "size": 10,
             "solidity": 0.2
            },
            "type": "scatter"
           }
          ],
          "scatter3d": [
           {
            "line": {
             "colorbar": {
              "outlinewidth": 0,
              "ticks": ""
             }
            },
            "marker": {
             "colorbar": {
              "outlinewidth": 0,
              "ticks": ""
             }
            },
            "type": "scatter3d"
           }
          ],
          "scattercarpet": [
           {
            "marker": {
             "colorbar": {
              "outlinewidth": 0,
              "ticks": ""
             }
            },
            "type": "scattercarpet"
           }
          ],
          "scattergeo": [
           {
            "marker": {
             "colorbar": {
              "outlinewidth": 0,
              "ticks": ""
             }
            },
            "type": "scattergeo"
           }
          ],
          "scattergl": [
           {
            "marker": {
             "colorbar": {
              "outlinewidth": 0,
              "ticks": ""
             }
            },
            "type": "scattergl"
           }
          ],
          "scattermapbox": [
           {
            "marker": {
             "colorbar": {
              "outlinewidth": 0,
              "ticks": ""
             }
            },
            "type": "scattermapbox"
           }
          ],
          "scatterpolar": [
           {
            "marker": {
             "colorbar": {
              "outlinewidth": 0,
              "ticks": ""
             }
            },
            "type": "scatterpolar"
           }
          ],
          "scatterpolargl": [
           {
            "marker": {
             "colorbar": {
              "outlinewidth": 0,
              "ticks": ""
             }
            },
            "type": "scatterpolargl"
           }
          ],
          "scatterternary": [
           {
            "marker": {
             "colorbar": {
              "outlinewidth": 0,
              "ticks": ""
             }
            },
            "type": "scatterternary"
           }
          ],
          "surface": [
           {
            "colorbar": {
             "outlinewidth": 0,
             "ticks": ""
            },
            "colorscale": [
             [
              0,
              "#0d0887"
             ],
             [
              0.1111111111111111,
              "#46039f"
             ],
             [
              0.2222222222222222,
              "#7201a8"
             ],
             [
              0.3333333333333333,
              "#9c179e"
             ],
             [
              0.4444444444444444,
              "#bd3786"
             ],
             [
              0.5555555555555556,
              "#d8576b"
             ],
             [
              0.6666666666666666,
              "#ed7953"
             ],
             [
              0.7777777777777778,
              "#fb9f3a"
             ],
             [
              0.8888888888888888,
              "#fdca26"
             ],
             [
              1,
              "#f0f921"
             ]
            ],
            "type": "surface"
           }
          ],
          "table": [
           {
            "cells": {
             "fill": {
              "color": "#EBF0F8"
             },
             "line": {
              "color": "white"
             }
            },
            "header": {
             "fill": {
              "color": "#C8D4E3"
             },
             "line": {
              "color": "white"
             }
            },
            "type": "table"
           }
          ]
         },
         "layout": {
          "annotationdefaults": {
           "arrowcolor": "#2a3f5f",
           "arrowhead": 0,
           "arrowwidth": 1
          },
          "autotypenumbers": "strict",
          "coloraxis": {
           "colorbar": {
            "outlinewidth": 0,
            "ticks": ""
           }
          },
          "colorscale": {
           "diverging": [
            [
             0,
             "#8e0152"
            ],
            [
             0.1,
             "#c51b7d"
            ],
            [
             0.2,
             "#de77ae"
            ],
            [
             0.3,
             "#f1b6da"
            ],
            [
             0.4,
             "#fde0ef"
            ],
            [
             0.5,
             "#f7f7f7"
            ],
            [
             0.6,
             "#e6f5d0"
            ],
            [
             0.7,
             "#b8e186"
            ],
            [
             0.8,
             "#7fbc41"
            ],
            [
             0.9,
             "#4d9221"
            ],
            [
             1,
             "#276419"
            ]
           ],
           "sequential": [
            [
             0,
             "#0d0887"
            ],
            [
             0.1111111111111111,
             "#46039f"
            ],
            [
             0.2222222222222222,
             "#7201a8"
            ],
            [
             0.3333333333333333,
             "#9c179e"
            ],
            [
             0.4444444444444444,
             "#bd3786"
            ],
            [
             0.5555555555555556,
             "#d8576b"
            ],
            [
             0.6666666666666666,
             "#ed7953"
            ],
            [
             0.7777777777777778,
             "#fb9f3a"
            ],
            [
             0.8888888888888888,
             "#fdca26"
            ],
            [
             1,
             "#f0f921"
            ]
           ],
           "sequentialminus": [
            [
             0,
             "#0d0887"
            ],
            [
             0.1111111111111111,
             "#46039f"
            ],
            [
             0.2222222222222222,
             "#7201a8"
            ],
            [
             0.3333333333333333,
             "#9c179e"
            ],
            [
             0.4444444444444444,
             "#bd3786"
            ],
            [
             0.5555555555555556,
             "#d8576b"
            ],
            [
             0.6666666666666666,
             "#ed7953"
            ],
            [
             0.7777777777777778,
             "#fb9f3a"
            ],
            [
             0.8888888888888888,
             "#fdca26"
            ],
            [
             1,
             "#f0f921"
            ]
           ]
          },
          "colorway": [
           "#636efa",
           "#EF553B",
           "#00cc96",
           "#ab63fa",
           "#FFA15A",
           "#19d3f3",
           "#FF6692",
           "#B6E880",
           "#FF97FF",
           "#FECB52"
          ],
          "font": {
           "color": "#2a3f5f"
          },
          "geo": {
           "bgcolor": "white",
           "lakecolor": "white",
           "landcolor": "#E5ECF6",
           "showlakes": true,
           "showland": true,
           "subunitcolor": "white"
          },
          "hoverlabel": {
           "align": "left"
          },
          "hovermode": "closest",
          "mapbox": {
           "style": "light"
          },
          "paper_bgcolor": "white",
          "plot_bgcolor": "#E5ECF6",
          "polar": {
           "angularaxis": {
            "gridcolor": "white",
            "linecolor": "white",
            "ticks": ""
           },
           "bgcolor": "#E5ECF6",
           "radialaxis": {
            "gridcolor": "white",
            "linecolor": "white",
            "ticks": ""
           }
          },
          "scene": {
           "xaxis": {
            "backgroundcolor": "#E5ECF6",
            "gridcolor": "white",
            "gridwidth": 2,
            "linecolor": "white",
            "showbackground": true,
            "ticks": "",
            "zerolinecolor": "white"
           },
           "yaxis": {
            "backgroundcolor": "#E5ECF6",
            "gridcolor": "white",
            "gridwidth": 2,
            "linecolor": "white",
            "showbackground": true,
            "ticks": "",
            "zerolinecolor": "white"
           },
           "zaxis": {
            "backgroundcolor": "#E5ECF6",
            "gridcolor": "white",
            "gridwidth": 2,
            "linecolor": "white",
            "showbackground": true,
            "ticks": "",
            "zerolinecolor": "white"
           }
          },
          "shapedefaults": {
           "line": {
            "color": "#2a3f5f"
           }
          },
          "ternary": {
           "aaxis": {
            "gridcolor": "white",
            "linecolor": "white",
            "ticks": ""
           },
           "baxis": {
            "gridcolor": "white",
            "linecolor": "white",
            "ticks": ""
           },
           "bgcolor": "#E5ECF6",
           "caxis": {
            "gridcolor": "white",
            "linecolor": "white",
            "ticks": ""
           }
          },
          "title": {
           "x": 0.05
          },
          "xaxis": {
           "automargin": true,
           "gridcolor": "white",
           "linecolor": "white",
           "ticks": "",
           "title": {
            "standoff": 15
           },
           "zerolinecolor": "white",
           "zerolinewidth": 2
          },
          "yaxis": {
           "automargin": true,
           "gridcolor": "white",
           "linecolor": "white",
           "ticks": "",
           "title": {
            "standoff": 15
           },
           "zerolinecolor": "white",
           "zerolinewidth": 2
          }
         }
        },
        "title": {
         "text": "Total Number of Passengers Across All Scheduled Services Per Year (in Millions)"
        },
        "xaxis": {
         "anchor": "y",
         "domain": [
          0,
          1
         ],
         "tickangle": -45,
         "tickmode": "linear",
         "title": {
          "text": "Year"
         },
         "type": "category"
        },
        "yaxis": {
         "anchor": "x",
         "domain": [
          0,
          1
         ],
         "title": {
          "text": "Total Number of Passengers (Millions)"
         }
        }
       }
      }
     },
     "metadata": {},
     "output_type": "display_data"
    }
   ],
   "source": [
    "import plotly.express as px\n",
    "\n",
    "# Assuming 'bus_services_df' is your DataFrame\n",
    "# Filtering only passenger data and aggregating the total number of passengers for each year\n",
    "# Then, converting the values to millions\n",
    "total_passengers_per_year_millions = bus_services_df[bus_services_df['Statistic Label'] == 'Passengers'].groupby('Year')['VALUE'].sum().apply(convert_to_millions)\n",
    "\n",
    "# Creating an interactive bar chart using Plotly\n",
    "fig = px.bar(total_passengers_per_year_millions, \n",
    "             x=total_passengers_per_year_millions.index, \n",
    "             y=total_passengers_per_year_millions, \n",
    "             labels={'y': 'Total Number of Passengers (Millions)', 'x': 'Year'},\n",
    "             title='Total Number of Passengers Across All Scheduled Services Per Year (in Millions)')\n",
    "\n",
    "# Customizing the hover text\n",
    "fig.update_traces(hovertemplate='Year: %{x}<br>Number of Bus Passengers: %{y:.0f}M', \n",
    "                  marker_color='skyblue', marker_line_color='blue',\n",
    "                  marker_line_width=1.5, opacity=0.8)\n",
    "fig.update_layout(\n",
    "    showlegend=False, \n",
    "    hovermode='x',\n",
    "    xaxis_tickangle=-45,  # Tilting the x-axis labels for better visibility\n",
    "    xaxis=dict(\n",
    "        tickmode='linear',  # Ensuring all years are included\n",
    "        type='category'     # Treating years as discrete categories\n",
    "    )\n",
    ")\n",
    "\n",
    "# Display the figure\n",
    "fig.show()\n"
   ]
  },
  {
   "cell_type": "markdown",
   "metadata": {},
   "source": [
    "FOCUS ON DUBLIN CITY SERVICES"
   ]
  },
  {
   "cell_type": "markdown",
   "metadata": {},
   "source": [
    "**FIX FORMAT**"
   ]
  },
  {
   "cell_type": "code",
   "execution_count": 163,
   "metadata": {},
   "outputs": [
    {
     "data": {
      "image/png": "[encoded data removed]",
      "text/plain": [
       "<Figure size 1200x600 with 1 Axes>"
      ]
     },
     "metadata": {},
     "output_type": "display_data"
    },
    {
     "data": {
      "text/plain": [
       "(              Year       VALUE\n",
       " count    12.000000   12.000000\n",
       " mean   2016.500000  115.898583\n",
       " std       3.605551   23.850447\n",
       " min    2011.000000   68.927000\n",
       " 25%    2013.750000  114.965500\n",
       " 50%    2016.500000  119.168000\n",
       " 75%    2019.250000  128.610500\n",
       " max    2022.000000  143.104000,\n",
       " None)"
      ]
     },
     "execution_count": 163,
     "metadata": {},
     "output_type": "execute_result"
    }
   ],
   "source": [
    "segment_1 = segmented_datasets['Passengers_Dublin city services']\n",
    "segment_1.loc[:, 'VALUE'] = segment_1['VALUE'].apply(convert_to_millions)\n",
    "# segment_1['VALUE'] = segment_1['VALUE'].apply(convert_to_millions) as I received the following warning using this line - A value is trying to be set on a copy of a slice from a DataFrame.\n",
    "#Try using .loc[row_indexer,col_indexer] = value instead\n",
    "\n",
    "# Visualization for \"Passengers_Dublin city services\"\n",
    "plt.figure(figsize=(12, 6))\n",
    "sns.lineplot(x='Year', y='VALUE', data=segment_1, marker='o')\n",
    "plt.title('Passengers in Dublin City Services Over the Years')\n",
    "plt.xlabel('Year')\n",
    "plt.ylabel('Number of Passengers (in millions)')\n",
    "plt.grid(True)\n",
    "plt.xticks(segment_1['Year'].unique(), rotation=45)\n",
    "plt.tight_layout()\n",
    "\n",
    "plt.show()"
   ]
  },
  {
   "cell_type": "code",
   "execution_count": 164,
   "metadata": {},
   "outputs": [
    {
     "data": {
      "text/html": [
       "<div>\n",
       "<style scoped>\n",
       "    .dataframe tbody tr th:only-of-type {\n",
       "        vertical-align: middle;\n",
       "    }\n",
       "\n",
       "    .dataframe tbody tr th {\n",
       "        vertical-align: top;\n",
       "    }\n",
       "\n",
       "    .dataframe thead th {\n",
       "        text-align: right;\n",
       "    }\n",
       "</style>\n",
       "<table border=\"1\" class=\"dataframe\">\n",
       "  <thead>\n",
       "    <tr style=\"text-align: right;\">\n",
       "      <th></th>\n",
       "      <th>Statistic Label</th>\n",
       "      <th>Year</th>\n",
       "      <th>Scheduled services</th>\n",
       "      <th>UNIT</th>\n",
       "      <th>VALUE</th>\n",
       "    </tr>\n",
       "  </thead>\n",
       "  <tbody>\n",
       "    <tr>\n",
       "      <th>0</th>\n",
       "      <td>Passengers</td>\n",
       "      <td>2011</td>\n",
       "      <td>Dublin city services</td>\n",
       "      <td>Number (000)</td>\n",
       "      <td>116.958</td>\n",
       "    </tr>\n",
       "    <tr>\n",
       "      <th>4</th>\n",
       "      <td>Passengers</td>\n",
       "      <td>2012</td>\n",
       "      <td>Dublin city services</td>\n",
       "      <td>Number (000)</td>\n",
       "      <td>115.198</td>\n",
       "    </tr>\n",
       "    <tr>\n",
       "      <th>8</th>\n",
       "      <td>Passengers</td>\n",
       "      <td>2013</td>\n",
       "      <td>Dublin city services</td>\n",
       "      <td>Number (000)</td>\n",
       "      <td>114.268</td>\n",
       "    </tr>\n",
       "    <tr>\n",
       "      <th>12</th>\n",
       "      <td>Passengers</td>\n",
       "      <td>2014</td>\n",
       "      <td>Dublin city services</td>\n",
       "      <td>Number (000)</td>\n",
       "      <td>116.262</td>\n",
       "    </tr>\n",
       "    <tr>\n",
       "      <th>16</th>\n",
       "      <td>Passengers</td>\n",
       "      <td>2015</td>\n",
       "      <td>Dublin city services</td>\n",
       "      <td>Number (000)</td>\n",
       "      <td>122.093</td>\n",
       "    </tr>\n",
       "    <tr>\n",
       "      <th>20</th>\n",
       "      <td>Passengers</td>\n",
       "      <td>2016</td>\n",
       "      <td>Dublin city services</td>\n",
       "      <td>Number (000)</td>\n",
       "      <td>125.377</td>\n",
       "    </tr>\n",
       "    <tr>\n",
       "      <th>24</th>\n",
       "      <td>Passengers</td>\n",
       "      <td>2017</td>\n",
       "      <td>Dublin city services</td>\n",
       "      <td>Number (000)</td>\n",
       "      <td>138.978</td>\n",
       "    </tr>\n",
       "    <tr>\n",
       "      <th>28</th>\n",
       "      <td>Passengers</td>\n",
       "      <td>2018</td>\n",
       "      <td>Dublin city services</td>\n",
       "      <td>Number (000)</td>\n",
       "      <td>143.104</td>\n",
       "    </tr>\n",
       "    <tr>\n",
       "      <th>32</th>\n",
       "      <td>Passengers</td>\n",
       "      <td>2019</td>\n",
       "      <td>Dublin city services</td>\n",
       "      <td>Number (000)</td>\n",
       "      <td>138.311</td>\n",
       "    </tr>\n",
       "    <tr>\n",
       "      <th>36</th>\n",
       "      <td>Passengers</td>\n",
       "      <td>2020</td>\n",
       "      <td>Dublin city services</td>\n",
       "      <td>Number (000)</td>\n",
       "      <td>68.927</td>\n",
       "    </tr>\n",
       "    <tr>\n",
       "      <th>40</th>\n",
       "      <td>Passengers</td>\n",
       "      <td>2021</td>\n",
       "      <td>Dublin city services</td>\n",
       "      <td>Number (000)</td>\n",
       "      <td>69.929</td>\n",
       "    </tr>\n",
       "    <tr>\n",
       "      <th>44</th>\n",
       "      <td>Passengers</td>\n",
       "      <td>2022</td>\n",
       "      <td>Dublin city services</td>\n",
       "      <td>Number (000)</td>\n",
       "      <td>121.378</td>\n",
       "    </tr>\n",
       "  </tbody>\n",
       "</table>\n",
       "</div>"
      ],
      "text/plain": [
       "   Statistic Label  Year    Scheduled services          UNIT    VALUE\n",
       "0       Passengers  2011  Dublin city services  Number (000)  116.958\n",
       "4       Passengers  2012  Dublin city services  Number (000)  115.198\n",
       "8       Passengers  2013  Dublin city services  Number (000)  114.268\n",
       "12      Passengers  2014  Dublin city services  Number (000)  116.262\n",
       "16      Passengers  2015  Dublin city services  Number (000)  122.093\n",
       "20      Passengers  2016  Dublin city services  Number (000)  125.377\n",
       "24      Passengers  2017  Dublin city services  Number (000)  138.978\n",
       "28      Passengers  2018  Dublin city services  Number (000)  143.104\n",
       "32      Passengers  2019  Dublin city services  Number (000)  138.311\n",
       "36      Passengers  2020  Dublin city services  Number (000)   68.927\n",
       "40      Passengers  2021  Dublin city services  Number (000)   69.929\n",
       "44      Passengers  2022  Dublin city services  Number (000)  121.378"
      ]
     },
     "execution_count": 164,
     "metadata": {},
     "output_type": "execute_result"
    }
   ],
   "source": [
    "segment_1"
   ]
  },
  {
   "cell_type": "markdown",
   "metadata": {},
   "source": [
    "We can see a huge decrease in number of passengers during COVID. Looking at post COVID data, still we see less passengers as comapred to before. Let's compare pre covid, covid and post covid."
   ]
  },
  {
   "cell_type": "code",
   "execution_count": 165,
   "metadata": {},
   "outputs": [
    {
     "data": {
      "image/png": "[encoded data removed]",
      "text/plain": [
       "<Figure size 1200x600 with 1 Axes>"
      ]
     },
     "metadata": {},
     "output_type": "display_data"
    },
    {
     "data": {
      "text/plain": [
       "((125.61655555555555, 68.927, 95.65350000000001), None)"
      ]
     },
     "execution_count": 165,
     "metadata": {},
     "output_type": "execute_result"
    }
   ],
   "source": [
    "pre_covid_data = segment_1[segment_1['Year'] <= 2019]\n",
    "post_covid_data = segment_1[segment_1['Year'] >= 2020]\n",
    "\n",
    "# Calculating average passengers for each period\n",
    "average_pre_covid = pre_covid_data['VALUE'].mean()\n",
    "average_post_covid = post_covid_data['VALUE'].mean()\n",
    "\n",
    "\n",
    "# Further segmenting the data for COVID-19 onset period\n",
    "covid_onset_data = segment_1[segment_1['Year'] == 2020]\n",
    "post_covid_data_revised = segment_1[segment_1['Year'] > 2020]\n",
    "\n",
    "# Calculating average passengers for each period\n",
    "average_pre_covid_revised = pre_covid_data['VALUE'].mean()\n",
    "average_covid_onset = covid_onset_data['VALUE'].mean()\n",
    "average_post_covid_revised = post_covid_data_revised['VALUE'].mean()\n",
    "\n",
    "# Visualization to compare trends across different periods\n",
    "plt.figure(figsize=(12, 6))\n",
    "sns.lineplot(x='Year', y='VALUE', data=pre_covid_data, marker='o', label='Pre-COVID')\n",
    "sns.lineplot(x='Year', y='VALUE', data=covid_onset_data, marker='o', label='COVID Onset (2020)')\n",
    "sns.lineplot(x='Year', y='VALUE', data=post_covid_data_revised, marker='o', label='Post-COVID')\n",
    "plt.title('Passenger Trends in Dublin City Services: Pre-COVID, COVID Onset, and Post-COVID')\n",
    "plt.xlabel('Year')\n",
    "plt.ylabel('Number of Passengers (in millions)')\n",
    "plt.grid(True)\n",
    "plt.xticks(segment_1['Year'].unique(), rotation=45)\n",
    "plt.legend()\n",
    "plt.tight_layout()\n",
    "\n",
    "(average_pre_covid_revised, average_covid_onset, average_post_covid_revised), plt.show()\n"
   ]
  },
  {
   "cell_type": "markdown",
   "metadata": {},
   "source": [
    "Average Number of Passengers:\n",
    "Pre-COVID-19 Period (up to 2019): Approximately 125,617 (in thousands).\n",
    "COVID-19 Onset Year (2020): Approximately 68,927 (in thousands).\n",
    "Post-COVID-19 Period (after 2020): Approximately 95,654 (in thousands).\n",
    "\n",
    "These trends highlight the challenges faced by the transport sector in recovering from the pandemic's impact.\n",
    "It suggests a need for strategies to boost public confidence and adapt to potentially changed commuting patterns in the post-pandemic world."
   ]
  },
  {
   "cell_type": "markdown",
   "metadata": {},
   "source": [
    "Is there a relationship between number of passengers and vehicle kilometers? There should be however number of passengers shouldn't be the only factor."
   ]
  },
  {
   "cell_type": "code",
   "execution_count": 166,
   "metadata": {},
   "outputs": [
    {
     "data": {
      "text/html": [
       "<div>\n",
       "<style scoped>\n",
       "    .dataframe tbody tr th:only-of-type {\n",
       "        vertical-align: middle;\n",
       "    }\n",
       "\n",
       "    .dataframe tbody tr th {\n",
       "        vertical-align: top;\n",
       "    }\n",
       "\n",
       "    .dataframe thead th {\n",
       "        text-align: right;\n",
       "    }\n",
       "</style>\n",
       "<table border=\"1\" class=\"dataframe\">\n",
       "  <thead>\n",
       "    <tr style=\"text-align: right;\">\n",
       "      <th></th>\n",
       "      <th>VALUE_passengers</th>\n",
       "      <th>VALUE_km</th>\n",
       "    </tr>\n",
       "  </thead>\n",
       "  <tbody>\n",
       "    <tr>\n",
       "      <th>VALUE_passengers</th>\n",
       "      <td>1.000000</td>\n",
       "      <td>0.634004</td>\n",
       "    </tr>\n",
       "    <tr>\n",
       "      <th>VALUE_km</th>\n",
       "      <td>0.634004</td>\n",
       "      <td>1.000000</td>\n",
       "    </tr>\n",
       "  </tbody>\n",
       "</table>\n",
       "</div>"
      ],
      "text/plain": [
       "                  VALUE_passengers  VALUE_km\n",
       "VALUE_passengers          1.000000  0.634004\n",
       "VALUE_km                  0.634004  1.000000"
      ]
     },
     "execution_count": 166,
     "metadata": {},
     "output_type": "execute_result"
    }
   ],
   "source": [
    "# Extracting the \"Vehicle kilometers_Dublin city services\" segment\n",
    "segment_vehicle_km = segmented_datasets['Vehicle kilometers_Dublin city services']\n",
    "\n",
    "# Merging the passengers and vehicle kilometers data on 'Year'\n",
    "merged_data_dublin = pd.merge(segment_1, segment_vehicle_km, on='Year', suffixes=('_passengers', '_km'))\n",
    "\n",
    "# Calculating the correlation coefficient\n",
    "correlation = merged_data_dublin[['VALUE_passengers', 'VALUE_km']].corr()\n",
    "\n",
    "correlation\n"
   ]
  },
  {
   "cell_type": "markdown",
   "metadata": {},
   "source": [
    "Yes, there is correlation, however this is not the only factor. "
   ]
  },
  {
   "cell_type": "markdown",
   "metadata": {},
   "source": [
    "## **LUAS**"
   ]
  },
  {
   "cell_type": "code",
   "execution_count": 185,
   "metadata": {},
   "outputs": [],
   "source": [
    "# luas_passenger_numbers = pd.read_csv('TOA11.20231203T151248.csv')\n",
    "\n",
    "luas_passenger_df = read_csv_file('TOA11.20231203T151248.csv')"
   ]
  },
  {
   "cell_type": "code",
   "execution_count": 174,
   "metadata": {},
   "outputs": [
    {
     "data": {
      "text/html": [
       "<div>\n",
       "<style scoped>\n",
       "    .dataframe tbody tr th:only-of-type {\n",
       "        vertical-align: middle;\n",
       "    }\n",
       "\n",
       "    .dataframe tbody tr th {\n",
       "        vertical-align: top;\n",
       "    }\n",
       "\n",
       "    .dataframe thead th {\n",
       "        text-align: right;\n",
       "    }\n",
       "</style>\n",
       "<table border=\"1\" class=\"dataframe\">\n",
       "  <thead>\n",
       "    <tr style=\"text-align: right;\">\n",
       "      <th></th>\n",
       "      <th>Statistic Label</th>\n",
       "      <th>Year</th>\n",
       "      <th>Month</th>\n",
       "      <th>UNIT</th>\n",
       "      <th>VALUE</th>\n",
       "    </tr>\n",
       "  </thead>\n",
       "  <tbody>\n",
       "    <tr>\n",
       "      <th>0</th>\n",
       "      <td>Red line</td>\n",
       "      <td>2018</td>\n",
       "      <td>January</td>\n",
       "      <td>Number</td>\n",
       "      <td>1664495</td>\n",
       "    </tr>\n",
       "    <tr>\n",
       "      <th>1</th>\n",
       "      <td>Red line</td>\n",
       "      <td>2018</td>\n",
       "      <td>February</td>\n",
       "      <td>Number</td>\n",
       "      <td>1657562</td>\n",
       "    </tr>\n",
       "    <tr>\n",
       "      <th>2</th>\n",
       "      <td>Red line</td>\n",
       "      <td>2018</td>\n",
       "      <td>March</td>\n",
       "      <td>Number</td>\n",
       "      <td>1661098</td>\n",
       "    </tr>\n",
       "    <tr>\n",
       "      <th>3</th>\n",
       "      <td>Red line</td>\n",
       "      <td>2018</td>\n",
       "      <td>April</td>\n",
       "      <td>Number</td>\n",
       "      <td>1794424</td>\n",
       "    </tr>\n",
       "    <tr>\n",
       "      <th>4</th>\n",
       "      <td>Red line</td>\n",
       "      <td>2018</td>\n",
       "      <td>May</td>\n",
       "      <td>Number</td>\n",
       "      <td>1934553</td>\n",
       "    </tr>\n",
       "  </tbody>\n",
       "</table>\n",
       "</div>"
      ],
      "text/plain": [
       "  Statistic Label  Year     Month    UNIT    VALUE\n",
       "0        Red line  2018   January  Number  1664495\n",
       "1        Red line  2018  February  Number  1657562\n",
       "2        Red line  2018     March  Number  1661098\n",
       "3        Red line  2018     April  Number  1794424\n",
       "4        Red line  2018       May  Number  1934553"
      ]
     },
     "execution_count": 174,
     "metadata": {},
     "output_type": "execute_result"
    }
   ],
   "source": [
    "display_head(luas_passenger_df)"
   ]
  },
  {
   "cell_type": "code",
   "execution_count": 175,
   "metadata": {},
   "outputs": [
    {
     "data": {
      "text/html": [
       "<div>\n",
       "<style scoped>\n",
       "    .dataframe tbody tr th:only-of-type {\n",
       "        vertical-align: middle;\n",
       "    }\n",
       "\n",
       "    .dataframe tbody tr th {\n",
       "        vertical-align: top;\n",
       "    }\n",
       "\n",
       "    .dataframe thead th {\n",
       "        text-align: right;\n",
       "    }\n",
       "</style>\n",
       "<table border=\"1\" class=\"dataframe\">\n",
       "  <thead>\n",
       "    <tr style=\"text-align: right;\">\n",
       "      <th></th>\n",
       "      <th>Statistic Label</th>\n",
       "      <th>Year</th>\n",
       "      <th>Month</th>\n",
       "      <th>UNIT</th>\n",
       "      <th>VALUE</th>\n",
       "    </tr>\n",
       "  </thead>\n",
       "  <tbody>\n",
       "    <tr>\n",
       "      <th>115</th>\n",
       "      <td>Green line</td>\n",
       "      <td>2022</td>\n",
       "      <td>August</td>\n",
       "      <td>Number</td>\n",
       "      <td>1547295</td>\n",
       "    </tr>\n",
       "    <tr>\n",
       "      <th>116</th>\n",
       "      <td>Green line</td>\n",
       "      <td>2022</td>\n",
       "      <td>September</td>\n",
       "      <td>Number</td>\n",
       "      <td>1830015</td>\n",
       "    </tr>\n",
       "    <tr>\n",
       "      <th>117</th>\n",
       "      <td>Green line</td>\n",
       "      <td>2022</td>\n",
       "      <td>October</td>\n",
       "      <td>Number</td>\n",
       "      <td>2063739</td>\n",
       "    </tr>\n",
       "    <tr>\n",
       "      <th>118</th>\n",
       "      <td>Green line</td>\n",
       "      <td>2022</td>\n",
       "      <td>November</td>\n",
       "      <td>Number</td>\n",
       "      <td>2097731</td>\n",
       "    </tr>\n",
       "    <tr>\n",
       "      <th>119</th>\n",
       "      <td>Green line</td>\n",
       "      <td>2022</td>\n",
       "      <td>December</td>\n",
       "      <td>Number</td>\n",
       "      <td>1972696</td>\n",
       "    </tr>\n",
       "  </tbody>\n",
       "</table>\n",
       "</div>"
      ],
      "text/plain": [
       "    Statistic Label  Year      Month    UNIT    VALUE\n",
       "115      Green line  2022     August  Number  1547295\n",
       "116      Green line  2022  September  Number  1830015\n",
       "117      Green line  2022    October  Number  2063739\n",
       "118      Green line  2022   November  Number  2097731\n",
       "119      Green line  2022   December  Number  1972696"
      ]
     },
     "execution_count": 175,
     "metadata": {},
     "output_type": "execute_result"
    }
   ],
   "source": [
    "display_tail(luas_passenger_df)"
   ]
  },
  {
   "cell_type": "code",
   "execution_count": 176,
   "metadata": {},
   "outputs": [
    {
     "data": {
      "text/plain": [
       "(120, 5)"
      ]
     },
     "execution_count": 176,
     "metadata": {},
     "output_type": "execute_result"
    }
   ],
   "source": [
    "get_dataframe_size(luas_passenger_df)"
   ]
  },
  {
   "cell_type": "code",
   "execution_count": 181,
   "metadata": {},
   "outputs": [
    {
     "name": "stdout",
     "output_type": "stream",
     "text": [
      "Total number of elements in the DataFrame: 600\n"
     ]
    }
   ],
   "source": [
    "print(f'Total number of elements in the DataFrame: {get_dataframe_total_elements(luas_passenger_df)}')"
   ]
  },
  {
   "cell_type": "code",
   "execution_count": 178,
   "metadata": {},
   "outputs": [
    {
     "name": "stdout",
     "output_type": "stream",
     "text": [
      "<class 'pandas.core.frame.DataFrame'>\n",
      "RangeIndex: 120 entries, 0 to 119\n",
      "Data columns (total 5 columns):\n",
      " #   Column           Non-Null Count  Dtype \n",
      "---  ------           --------------  ----- \n",
      " 0   Statistic Label  120 non-null    object\n",
      " 1   Year             120 non-null    int64 \n",
      " 2   Month            120 non-null    object\n",
      " 3   UNIT             120 non-null    object\n",
      " 4   VALUE            120 non-null    int64 \n",
      "dtypes: int64(2), object(3)\n",
      "memory usage: 4.8+ KB\n"
     ]
    }
   ],
   "source": [
    "print_dataframe_info(luas_passenger_df)"
   ]
  },
  {
   "cell_type": "code",
   "execution_count": 179,
   "metadata": {},
   "outputs": [
    {
     "data": {
      "text/html": [
       "<div>\n",
       "<style scoped>\n",
       "    .dataframe tbody tr th:only-of-type {\n",
       "        vertical-align: middle;\n",
       "    }\n",
       "\n",
       "    .dataframe tbody tr th {\n",
       "        vertical-align: top;\n",
       "    }\n",
       "\n",
       "    .dataframe thead th {\n",
       "        text-align: right;\n",
       "    }\n",
       "</style>\n",
       "<table border=\"1\" class=\"dataframe\">\n",
       "  <thead>\n",
       "    <tr style=\"text-align: right;\">\n",
       "      <th></th>\n",
       "      <th>Year</th>\n",
       "      <th>VALUE</th>\n",
       "    </tr>\n",
       "  </thead>\n",
       "  <tbody>\n",
       "    <tr>\n",
       "      <th>count</th>\n",
       "      <td>120.000000</td>\n",
       "      <td>1.200000e+02</td>\n",
       "    </tr>\n",
       "    <tr>\n",
       "      <th>mean</th>\n",
       "      <td>2020.000000</td>\n",
       "      <td>1.395912e+06</td>\n",
       "    </tr>\n",
       "    <tr>\n",
       "      <th>std</th>\n",
       "      <td>1.420143</td>\n",
       "      <td>6.137619e+05</td>\n",
       "    </tr>\n",
       "    <tr>\n",
       "      <th>min</th>\n",
       "      <td>2018.000000</td>\n",
       "      <td>8.935800e+04</td>\n",
       "    </tr>\n",
       "    <tr>\n",
       "      <th>25%</th>\n",
       "      <td>2019.000000</td>\n",
       "      <td>8.437028e+05</td>\n",
       "    </tr>\n",
       "    <tr>\n",
       "      <th>50%</th>\n",
       "      <td>2020.000000</td>\n",
       "      <td>1.555940e+06</td>\n",
       "    </tr>\n",
       "    <tr>\n",
       "      <th>75%</th>\n",
       "      <td>2021.000000</td>\n",
       "      <td>1.912537e+06</td>\n",
       "    </tr>\n",
       "    <tr>\n",
       "      <th>max</th>\n",
       "      <td>2022.000000</td>\n",
       "      <td>2.277974e+06</td>\n",
       "    </tr>\n",
       "  </tbody>\n",
       "</table>\n",
       "</div>"
      ],
      "text/plain": [
       "              Year         VALUE\n",
       "count   120.000000  1.200000e+02\n",
       "mean   2020.000000  1.395912e+06\n",
       "std       1.420143  6.137619e+05\n",
       "min    2018.000000  8.935800e+04\n",
       "25%    2019.000000  8.437028e+05\n",
       "50%    2020.000000  1.555940e+06\n",
       "75%    2021.000000  1.912537e+06\n",
       "max    2022.000000  2.277974e+06"
      ]
     },
     "execution_count": 179,
     "metadata": {},
     "output_type": "execute_result"
    }
   ],
   "source": [
    "describe_dataframe(luas_passenger_df)"
   ]
  },
  {
   "cell_type": "code",
   "execution_count": 182,
   "metadata": {},
   "outputs": [
    {
     "data": {
      "text/plain": [
       "0"
      ]
     },
     "execution_count": 182,
     "metadata": {},
     "output_type": "execute_result"
    }
   ],
   "source": [
    "count_duplicated_rows(luas_passenger_df)"
   ]
  },
  {
   "cell_type": "code",
   "execution_count": 183,
   "metadata": {},
   "outputs": [
    {
     "data": {
      "text/plain": [
       "Statistic Label    0\n",
       "Year               0\n",
       "Month              0\n",
       "UNIT               0\n",
       "VALUE              0\n",
       "dtype: int64"
      ]
     },
     "execution_count": 183,
     "metadata": {},
     "output_type": "execute_result"
    }
   ],
   "source": [
    "count_nan_values(luas_passenger_df)"
   ]
  },
  {
   "cell_type": "code",
   "execution_count": 207,
   "metadata": {},
   "outputs": [],
   "source": [
    "def millions_formatter(x, pos):\n",
    "    return f'{x / 1e6:.0f}M'"
   ]
  },
  {
   "cell_type": "code",
   "execution_count": 208,
   "metadata": {},
   "outputs": [
    {
     "data": {
      "text/plain": [
       "<Figure size 1200x800 with 0 Axes>"
      ]
     },
     "metadata": {},
     "output_type": "display_data"
    },
    {
     "data": {
      "image/png": "[encoded data removed]",
      "text/plain": [
       "<Figure size 640x480 with 1 Axes>"
      ]
     },
     "metadata": {},
     "output_type": "display_data"
    }
   ],
   "source": [
    "from matplotlib.ticker import FuncFormatter\n",
    "\n",
    "# Group data by 'Statistic' and calculate the sum of passengers for each line\n",
    "line_passengers = luas_passenger_df.groupby(['Year', 'Statistic Label'])['VALUE'].sum().unstack()\n",
    "\n",
    "# Create a bar chart\n",
    "plt.figure(figsize=(12, 8))\n",
    "ax = line_passengers.plot(kind='bar', color=['green', 'red'])\n",
    "plt.title('Total Passengers per Line')\n",
    "plt.xlabel('Line')\n",
    "plt.ylabel('Total Passengers')\n",
    "plt.gca().yaxis.set_major_formatter(FuncFormatter(millions_formatter))\n",
    "plt.xticks(rotation=0)\n",
    "plt.show()"
   ]
  },
  {
   "cell_type": "markdown",
   "metadata": {},
   "source": [
    "Same behaviour is present for the LUAS as well - during covid there is a huge increase in the passengers. We can see that the red line is usually having more passengers than the green one, with exception in 2019. "
   ]
  },
  {
   "cell_type": "markdown",
   "metadata": {},
   "source": [
    "## I think we will have to merge all those data frames - the bus one, the luas one and the one about trains and based on those show the percentage of passengets per transport. Also maybe show the % change for previous years."
   ]
  }
 ],
 "metadata": {
  "kernelspec": {
   "display_name": "Python 3",
   "language": "python",
   "name": "python3"
  },
  "language_info": {
   "codemirror_mode": {
    "name": "ipython",
    "version": 3
   },
   "file_extension": ".py",
   "mimetype": "text/x-python",
   "name": "python",
   "nbconvert_exporter": "python",
   "pygments_lexer": "ipython3",
   "version": "3.11.6"
  }
 },
 "nbformat": 4,
 "nbformat_minor": 2
}
