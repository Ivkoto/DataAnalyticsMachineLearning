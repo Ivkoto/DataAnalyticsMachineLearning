{
 "cells": [
  {
   "cell_type": "code",
   "execution_count": 12,
   "metadata": {},
   "outputs": [],
   "source": [
    "import pandas as pd\n",
    "import warnings\n",
    "\n",
    "from sklearn.linear_model import LogisticRegression\n",
    "from sklearn.model_selection import train_test_split\n",
    "from sklearn.metrics import classification_report, accuracy_score, confusion_matrix\n",
    "\n",
    "warnings.filterwarnings('ignore')"
   ]
  },
  {
   "cell_type": "code",
   "execution_count": 13,
   "metadata": {},
   "outputs": [],
   "source": [
    "population_df = pd.read_csv('population_df_1996.csv')\n",
    "migration_df = pd.read_csv('migration_df_1996.csv')"
   ]
  },
  {
   "cell_type": "markdown",
   "metadata": {},
   "source": [
    "### **Binary Classification for Predicting Emigration**"
   ]
  },
  {
   "cell_type": "markdown",
   "metadata": {},
   "source": [
    "------------------------------------------------------------------------------------------------\n",
    "## **1st Try**"
   ]
  },
  {
   "cell_type": "code",
   "execution_count": 14,
   "metadata": {},
   "outputs": [
    {
     "data": {
      "text/plain": [
       "(High_Emigration\n",
       " 1    31\n",
       " 0    25\n",
       " Name: count, dtype: int64,\n",
       " ((44, 2), (12, 2), (44,), (12,)))"
      ]
     },
     "execution_count": 14,
     "metadata": {},
     "output_type": "execute_result"
    }
   ],
   "source": [
    "# Now that we've confirmed the correct strings, let's filter the data again\n",
    "migration_filtered = migration_df[\n",
    "    (migration_df['Country'] == 'All countries') &\n",
    "    (migration_df['Sex'] == 'Both sexes')\n",
    "]\n",
    "\n",
    "# Adjust the filtering to match the exact strings in 'Origin or Destination' column\n",
    "#emigrants_string = \"Emigrants: All destinations\"\n",
    "#immigrants_string = \"Immigrants: All origins\"\n",
    "\n",
    "# Extract rows for 'Emigrants' and 'Immigrants' with the exact string match\n",
    "emigration_data_corrected = migration_df[\n",
    "    (migration_df['Country'] == 'All countries') &\n",
    "    (migration_df['Sex'] != 'Both sexes') &\n",
    "    (migration_df['Origin or Destination'] == 'Emigrants: All destinations')\n",
    "]\n",
    "#immigrants_df = migration_filtered[migration_filtered['Origin or Destination'] == immigrants_string]\n",
    "\n",
    "# Pivot the data to get 'Emigrants' and 'Immigrants' on separate columns\n",
    "#migration_pivot = migration_filtered.pivot(index='Year', columns='Origin or Destination', values='VALUE')\n",
    "\n",
    "# Define a binary target variable where years with above-average emigration are labeled 1, and others 0\n",
    "average_emigration_corrected = emigration_data_corrected['VALUE'].mean()\n",
    "emigration_data_corrected['High_Emigration'] = (emigration_data_corrected['VALUE'] > average_emigration_corrected).astype(int)\n",
    "\n",
    "# Multiply by 1000 to convert from thousands to absolute numbers\n",
    "#migration_pivot[emigrants_string] *= 1000\n",
    "#migration_pivot[immigrants_string] *= 1000\n",
    "\n",
    "X_classification_corrected = emigration_data_corrected[['Year', 'VALUE']]\n",
    "y_classification_corrected = emigration_data_corrected['High_Emigration']\n",
    "\n",
    "# Add a binary target for emigration increase/decrease compared to the previous year\n",
    "#migration_pivot['Emigration Increase'] = (migration_pivot[emigrants_string].diff() > 0).astype(int)\n",
    "\n",
    "# Shift the binary target variable to the previous year to predict next year's increase\n",
    "#migration_pivot['Emigration Increase'] = migration_pivot['Emigration Increase'].shift(-1)\n",
    "\n",
    "# Drop the last row as it does not have a future year to compare for the binary target\n",
    "#migration_pivot = migration_pivot.iloc[:-1]\n",
    "\n",
    "#migration_pivot.reset_index(inplace=True)\n",
    "#migration_pivot\n",
    "# Split the data into training and test sets\n",
    "train_size_classification_corrected = int(0.8 * len(X_classification_corrected))\n",
    "X_train_classification_corrected, X_test_classification_corrected = X_classification_corrected[:train_size_classification_corrected], X_classification_corrected[train_size_classification_corrected:]\n",
    "y_train_classification_corrected, y_test_classification_corrected = y_classification_corrected[:train_size_classification_corrected], y_classification_corrected[train_size_classification_corrected:]\n",
    "\n",
    "# Check the distribution of the 'High_Emigration' variable in the corrected dataset\n",
    "#emigration_data_distribution_corrected = emigration_data_corrected['High_Emigration'].value_counts()\n",
    "# Check the distribution of the 'High_Emigration' variable in the corrected dataset\n",
    "emigration_data_distribution_corrected = emigration_data_corrected['High_Emigration'].value_counts()\n",
    "\n",
    "emigration_data_distribution_corrected, (X_train_classification_corrected.shape, X_test_classification_corrected.shape, y_train_classification_corrected.shape, y_test_classification_corrected.shape)\n"
   ]
  },
  {
   "cell_type": "markdown",
   "metadata": {},
   "source": [
    "We have the following distribution for the binary target variable 'High_Emigration':\n",
    "\n",
    "* '1' (above-average emigration): 31 data points\n",
    "* '0' (below-average emigration): 25 data points\n",
    "\n",
    "This distribution indicates a relatively balanced dataset, which is good for training a binary classification model.\n",
    "\n",
    "The dataset has been split into training and test sets with the following shapes:\n",
    "\n",
    "* Training features (X_train): 44 samples, 2 features\n",
    "* Test features (X_test): 12 samples, 2 features\n",
    "* Training target (y_train): 44 samples\n",
    "* Test target (y_test): 12 samples"
   ]
  },
  {
   "cell_type": "code",
   "execution_count": 15,
   "metadata": {},
   "outputs": [
    {
     "data": {
      "text/plain": [
       "(0.9166666666666666,\n",
       " '              precision    recall  f1-score   support\\n\\n           0       0.00      0.00      0.00         1\\n           1       0.92      1.00      0.96        11\\n\\n    accuracy                           0.92        12\\n   macro avg       0.46      0.50      0.48        12\\nweighted avg       0.84      0.92      0.88        12\\n')"
      ]
     },
     "execution_count": 15,
     "metadata": {},
     "output_type": "execute_result"
    }
   ],
   "source": [
    "# Train the Logistic Regression model with the corrected data\n",
    "logistic_model_corrected = LogisticRegression()\n",
    "logistic_model_corrected.fit(X_train_classification_corrected, y_train_classification_corrected)\n",
    "\n",
    "# Predict on the test set\n",
    "y_pred_logistic_corrected = logistic_model_corrected.predict(X_test_classification_corrected)\n",
    "\n",
    "# Calculate accuracy and generate a classification report\n",
    "accuracy_logistic_corrected = accuracy_score(y_test_classification_corrected, y_pred_logistic_corrected)\n",
    "classification_report_logistic_corrected = classification_report(y_test_classification_corrected, y_pred_logistic_corrected)\n",
    "\n",
    "accuracy_logistic_corrected, classification_report_logistic_corrected\n"
   ]
  },
  {
   "cell_type": "markdown",
   "metadata": {},
   "source": [
    "The logistic regression model has been trained and evaluated with the following results:\n",
    "\n",
    "* Accuracy: 91.67%\n",
    "* Classification Report:\n",
    "* Precision for class 0 (below-average emigration) is undefined, which indicates that the model did not predict any instances of class 0. This is likely because of the imbalance in the distribution of the target variable in the test set or the model biasing towards the majority class.\n",
    "* Recall for class 0 is also 0.00, meaning the model failed to correctly identify any of the actual instances of class 0.\n",
    "* F1-score for class 0 is 0.00, which is the harmonic mean of precision and recall, indicating poor performance for this class.\n",
    "* For class 1 (above-average emigration), the model has a precision of 0.92, indicating that when it predicts high emigration, it is correct 92% of the time.\n",
    "* The recall for class 1 is 1.00, which means the model successfully identified all instances of high emigration.\n",
    "* The F1-score for class 1 is 0.96, suggesting a good balance between precision and recall for this class.\n",
    "  \n",
    "The model's high accuracy is somewhat misleading due to its failure to predict any instances of the minority class (class 0). This is a common issue in binary classification tasks with imbalanced datasets, and it might be exacerbated in this case due to the small size of the dataset and the distribution of the target variable within the test set."
   ]
  },
  {
   "cell_type": "markdown",
   "metadata": {},
   "source": [
    "------------------------------------------------------------------------------------------------\n",
    "## **2nd Try**"
   ]
  },
  {
   "cell_type": "code",
   "execution_count": 16,
   "metadata": {},
   "outputs": [
    {
     "data": {
      "text/html": [
       "<div>\n",
       "<style scoped>\n",
       "    .dataframe tbody tr th:only-of-type {\n",
       "        vertical-align: middle;\n",
       "    }\n",
       "\n",
       "    .dataframe tbody tr th {\n",
       "        vertical-align: top;\n",
       "    }\n",
       "\n",
       "    .dataframe thead th {\n",
       "        text-align: right;\n",
       "    }\n",
       "</style>\n",
       "<table border=\"1\" class=\"dataframe\">\n",
       "  <thead>\n",
       "    <tr style=\"text-align: right;\">\n",
       "      <th></th>\n",
       "      <th>Year</th>\n",
       "      <th>VALUE</th>\n",
       "      <th>Emigration Change</th>\n",
       "      <th>Increased Emigration</th>\n",
       "    </tr>\n",
       "  </thead>\n",
       "  <tbody>\n",
       "    <tr>\n",
       "      <th>73</th>\n",
       "      <td>1997</td>\n",
       "      <td>25.3</td>\n",
       "      <td>-5.9</td>\n",
       "      <td>0</td>\n",
       "    </tr>\n",
       "    <tr>\n",
       "      <th>118</th>\n",
       "      <td>1998</td>\n",
       "      <td>28.6</td>\n",
       "      <td>3.3</td>\n",
       "      <td>1</td>\n",
       "    </tr>\n",
       "    <tr>\n",
       "      <th>163</th>\n",
       "      <td>1999</td>\n",
       "      <td>31.5</td>\n",
       "      <td>2.9</td>\n",
       "      <td>1</td>\n",
       "    </tr>\n",
       "    <tr>\n",
       "      <th>208</th>\n",
       "      <td>2000</td>\n",
       "      <td>26.6</td>\n",
       "      <td>-4.9</td>\n",
       "      <td>0</td>\n",
       "    </tr>\n",
       "    <tr>\n",
       "      <th>253</th>\n",
       "      <td>2001</td>\n",
       "      <td>26.2</td>\n",
       "      <td>-0.4</td>\n",
       "      <td>0</td>\n",
       "    </tr>\n",
       "    <tr>\n",
       "      <th>298</th>\n",
       "      <td>2002</td>\n",
       "      <td>25.6</td>\n",
       "      <td>-0.6</td>\n",
       "      <td>0</td>\n",
       "    </tr>\n",
       "    <tr>\n",
       "      <th>343</th>\n",
       "      <td>2003</td>\n",
       "      <td>29.3</td>\n",
       "      <td>3.7</td>\n",
       "      <td>1</td>\n",
       "    </tr>\n",
       "  </tbody>\n",
       "</table>\n",
       "</div>"
      ],
      "text/plain": [
       "     Year  VALUE  Emigration Change  Increased Emigration\n",
       "73   1997   25.3               -5.9                     0\n",
       "118  1998   28.6                3.3                     1\n",
       "163  1999   31.5                2.9                     1\n",
       "208  2000   26.6               -4.9                     0\n",
       "253  2001   26.2               -0.4                     0\n",
       "298  2002   25.6               -0.6                     0\n",
       "343  2003   29.3                3.7                     1"
      ]
     },
     "execution_count": 16,
     "metadata": {},
     "output_type": "execute_result"
    }
   ],
   "source": [
    "# Filter migration data for 'All countries', 'Both sexes', and 'Emigrants: All destinations'\n",
    "migration_filtered = migration_df[\n",
    "    (migration_df['Country'] == 'All countries') & \n",
    "    (migration_df['Sex'] == 'Both sexes') & \n",
    "    (migration_df['Origin or Destination'] == 'Emigrants: All destinations')\n",
    "]\n",
    "\n",
    "# For population, we only need the total population for 'Both sexes' and 'All ages'\n",
    "population_filtered = population_df[\n",
    "    (population_df['Sex category'] == 'Both sexes') & \n",
    "    (population_df['Single Year of Age'] == 'All ages')\n",
    "]\n",
    "\n",
    "# Now let's create the binary target for emigration\n",
    "# First, we'll sort the migration data by year to ensure we're comparing the correct rows\n",
    "migration_sorted = migration_filtered.sort_values('Year')\n",
    "\n",
    "# Calculate the change in emigration compared to the previous year\n",
    "migration_sorted['Emigration Change'] = migration_sorted['VALUE'].diff()\n",
    "\n",
    "# Define the binary target: 1 if emigration increased, 0 if it decreased or stayed the same\n",
    "migration_sorted['Increased Emigration'] = (migration_sorted['Emigration Change'] > 0).astype(int)\n",
    "\n",
    "# We need to drop the first row since it won't have a previous year to compare to\n",
    "migration_sorted.dropna(subset=['Emigration Change'], inplace=True)\n",
    "\n",
    "# Let's view the resulting dataset\n",
    "migration_sorted_filtered = migration_sorted[['Year', 'VALUE', 'Emigration Change', 'Increased Emigration']]\n",
    "migration_sorted_filtered.head(7)\n"
   ]
  },
  {
   "cell_type": "code",
   "execution_count": 17,
   "metadata": {},
   "outputs": [
    {
     "data": {
      "text/plain": [
       "(0.3333333333333333,\n",
       " array([[1, 2],\n",
       "        [2, 1]], dtype=int64),\n",
       " '              precision    recall  f1-score   support\\n\\n           0       0.33      0.33      0.33         3\\n           1       0.33      0.33      0.33         3\\n\\n    accuracy                           0.33         6\\n   macro avg       0.33      0.33      0.33         6\\nweighted avg       0.33      0.33      0.33         6\\n')"
      ]
     },
     "execution_count": 17,
     "metadata": {},
     "output_type": "execute_result"
    }
   ],
   "source": [
    "# Define features (X) and target (y)\n",
    "X = migration_sorted[['Year', 'VALUE']]\n",
    "y = migration_sorted['Increased Emigration']\n",
    "\n",
    "# Split the dataset into a training set and a test set\n",
    "X_train, X_test, y_train, y_test = train_test_split(X, y, test_size=0.2, random_state=42)\n",
    "\n",
    "# Initialize and train the Logistic Regression model\n",
    "logistic_model = LogisticRegression(random_state=42)\n",
    "logistic_model.fit(X_train, y_train)\n",
    "\n",
    "# Predict on the test set\n",
    "y_pred = logistic_model.predict(X_test)\n",
    "\n",
    "# Evaluate the model\n",
    "accuracy = accuracy_score(y_test, y_pred)\n",
    "conf_matrix = confusion_matrix(y_test, y_pred)\n",
    "class_report = classification_report(y_test, y_pred)\n",
    "\n",
    "(accuracy, conf_matrix, class_report)"
   ]
  }
 ],
 "metadata": {
  "kernelspec": {
   "display_name": "Python 3",
   "language": "python",
   "name": "python3"
  },
  "language_info": {
   "codemirror_mode": {
    "name": "ipython",
    "version": 3
   },
   "file_extension": ".py",
   "mimetype": "text/x-python",
   "name": "python",
   "nbconvert_exporter": "python",
   "pygments_lexer": "ipython3",
   "version": "3.11.6"
  }
 },
 "nbformat": 4,
 "nbformat_minor": 2
}
