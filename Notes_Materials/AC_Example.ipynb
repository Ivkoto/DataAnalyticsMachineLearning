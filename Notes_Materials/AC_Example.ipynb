{
 "cells": [
  {
   "cell_type": "code",
   "execution_count": null,
   "id": "15e0642b",
   "metadata": {},
   "outputs": [],
   "source": [
    "##IMPORTING LIBRARIES\n",
    "import pandas as pd\n",
    "import statistics as stats\n",
    "import numpy as np\n",
    "import matplotlib.pyplot as plt\n",
    "import seaborn as sns"
   ]
  },
  {
   "cell_type": "code",
   "execution_count": null,
   "id": "73441876",
   "metadata": {},
   "outputs": [],
   "source": [
    "ds_pop = pd.read_csv('PEA01.20231006T101053.csv')"
   ]
  },
  {
   "cell_type": "code",
   "execution_count": null,
   "id": "251153c7",
   "metadata": {},
   "outputs": [],
   "source": [
    "# Select only records of where age group = 'All Ages'\n",
    "ds_pop_all_yrs = ds_pop[(ds_pop['Age Group'] == 'All ages') & (ds_pop['Year'] > 1980)]\n"
   ]
  },
  {
   "cell_type": "code",
   "execution_count": null,
   "id": "b4098696",
   "metadata": {},
   "outputs": [],
   "source": [
    "# now remove the Polulation column  (as this is the totals and skews the output)\n",
    "df_pop_chg.pivot(index='Year', columns='Population', values='productid').reset_index(drop=True)"
   ]
  },
  {
   "cell_type": "code",
   "execution_count": null,
   "id": "8b2e4ecc",
   "metadata": {},
   "outputs": [],
   "source": [
    "\n",
    "#Create a pivot table to enable arrange data by year, male, female, Both (counts)\n",
    "# This used rovalues to generate columnms\n",
    "pt_all = pd.pivot_table(ds_pop_all_yrs, values='VALUE', index=['Year'], columns=['Sex'], aggfunc=\"sum\")"
   ]
  },
  {
   "cell_type": "code",
   "execution_count": null,
   "id": "9262d386",
   "metadata": {},
   "outputs": [],
   "source": [
    "#This plots the Pivot_Table with 'Year' (Index) on X-axis and Columns on Y\n",
    "ax = pt_all.plot(xticks=pt_all.index,  ylabel='Population in 1000s' ,figsize=(13,4))\n",
    "plt.xticks(rotation=90)"
   ]
  }
 ],
 "metadata": {
  "kernelspec": {
   "display_name": "Python 3 (ipykernel)",
   "language": "python",
   "name": "python3"
  },
  "language_info": {
   "codemirror_mode": {
    "name": "ipython",
    "version": 3
   },
   "file_extension": ".py",
   "mimetype": "text/x-python",
   "name": "python",
   "nbconvert_exporter": "python",
   "pygments_lexer": "ipython3",
   "version": "3.11.4"
  }
 },
 "nbformat": 4,
 "nbformat_minor": 5
}
